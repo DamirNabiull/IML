{
 "cells": [
  {
   "cell_type": "code",
   "execution_count": 18,
   "metadata": {},
   "outputs": [],
   "source": [
    "import numpy as np\n",
    "import matplotlib.pyplot as plt\n",
    "import pandas as pd\n",
    "%matplotlib inline "
   ]
  },
  {
   "cell_type": "code",
   "execution_count": 19,
   "metadata": {},
   "outputs": [
    {
     "data": {
      "text/plain": [
       "(925, 7)"
      ]
     },
     "execution_count": 19,
     "metadata": {},
     "output_type": "execute_result"
    }
   ],
   "source": [
    "data = pd.read_csv('a1_dataset.csv')\n",
    "data = data.drop(['var7'], axis = 1)\n",
    "data.shape"
   ]
  },
  {
   "cell_type": "markdown",
   "metadata": {},
   "source": [
    "# Preprocessing"
   ]
  },
  {
   "cell_type": "markdown",
   "metadata": {},
   "source": [
    "## Encoding"
   ]
  },
  {
   "cell_type": "code",
   "execution_count": 20,
   "metadata": {},
   "outputs": [
    {
     "data": {
      "text/plain": [
       "236"
      ]
     },
     "execution_count": 20,
     "metadata": {},
     "output_type": "execute_result"
    }
   ],
   "source": [
    "features_name = ['var3', 'var6']\n",
    "len(pd.unique(data['var3']))"
   ]
  },
  {
   "cell_type": "markdown",
   "metadata": {},
   "source": [
    "### OneHot Encoding"
   ]
  },
  {
   "cell_type": "markdown",
   "metadata": {},
   "source": [
    "I decided to use Ordinal encoding for *var3* and *va6*. \n",
    "\n",
    "As we disscussed on lab: For categorical variables where ordinal relationship exists, we use Ordinal encoding. \n",
    "Therefore, it seems that it is better to use the OneHot encoding. \n",
    "But in this task we have 236 unique countries in column *var3*. \n",
    "Therefore, when we use OneHot encoding, our data contains 241 features. \n",
    "On this amount of features it is hard/impossible to use polynomial regression with degree more than 2.\n",
    "\n",
    "In addition, I tried both Ordinal and OneHot encoders. For Ordinal encoding linear regression has error less than for OneHot regression."
   ]
  },
  {
   "cell_type": "code",
   "execution_count": 21,
   "metadata": {},
   "outputs": [
    {
     "data": {
      "text/html": [
       "<div>\n",
       "<style scoped>\n",
       "    .dataframe tbody tr th:only-of-type {\n",
       "        vertical-align: middle;\n",
       "    }\n",
       "\n",
       "    .dataframe tbody tr th {\n",
       "        vertical-align: top;\n",
       "    }\n",
       "\n",
       "    .dataframe thead th {\n",
       "        text-align: right;\n",
       "    }\n",
       "</style>\n",
       "<table border=\"1\" class=\"dataframe\">\n",
       "  <thead>\n",
       "    <tr style=\"text-align: right;\">\n",
       "      <th></th>\n",
       "      <th>target</th>\n",
       "      <th>var1</th>\n",
       "      <th>var2</th>\n",
       "      <th>var4</th>\n",
       "      <th>var5</th>\n",
       "      <th>var3</th>\n",
       "      <th>var6</th>\n",
       "    </tr>\n",
       "  </thead>\n",
       "  <tbody>\n",
       "    <tr>\n",
       "      <th>0</th>\n",
       "      <td>0</td>\n",
       "      <td>509.18</td>\n",
       "      <td>417.681</td>\n",
       "      <td>138.0</td>\n",
       "      <td>393.00</td>\n",
       "      <td>137</td>\n",
       "      <td>0</td>\n",
       "    </tr>\n",
       "    <tr>\n",
       "      <th>1</th>\n",
       "      <td>0</td>\n",
       "      <td>446.06</td>\n",
       "      <td>666.182</td>\n",
       "      <td>81.0</td>\n",
       "      <td>352.05</td>\n",
       "      <td>57</td>\n",
       "      <td>1</td>\n",
       "    </tr>\n",
       "    <tr>\n",
       "      <th>2</th>\n",
       "      <td>1</td>\n",
       "      <td>235.50</td>\n",
       "      <td>398.097</td>\n",
       "      <td>90.0</td>\n",
       "      <td>339.00</td>\n",
       "      <td>101</td>\n",
       "      <td>0</td>\n",
       "    </tr>\n",
       "    <tr>\n",
       "      <th>3</th>\n",
       "      <td>0</td>\n",
       "      <td>306.02</td>\n",
       "      <td>518.163</td>\n",
       "      <td>102.0</td>\n",
       "      <td>439.25</td>\n",
       "      <td>216</td>\n",
       "      <td>1</td>\n",
       "    </tr>\n",
       "    <tr>\n",
       "      <th>4</th>\n",
       "      <td>0</td>\n",
       "      <td>453.08</td>\n",
       "      <td>600.156</td>\n",
       "      <td>105.0</td>\n",
       "      <td>422.95</td>\n",
       "      <td>36</td>\n",
       "      <td>0</td>\n",
       "    </tr>\n",
       "    <tr>\n",
       "      <th>...</th>\n",
       "      <td>...</td>\n",
       "      <td>...</td>\n",
       "      <td>...</td>\n",
       "      <td>...</td>\n",
       "      <td>...</td>\n",
       "      <td>...</td>\n",
       "      <td>...</td>\n",
       "    </tr>\n",
       "    <tr>\n",
       "      <th>920</th>\n",
       "      <td>0</td>\n",
       "      <td>422.34</td>\n",
       "      <td>547.259</td>\n",
       "      <td>NaN</td>\n",
       "      <td>350.45</td>\n",
       "      <td>19</td>\n",
       "      <td>1</td>\n",
       "    </tr>\n",
       "    <tr>\n",
       "      <th>921</th>\n",
       "      <td>1</td>\n",
       "      <td>342.62</td>\n",
       "      <td>473.919</td>\n",
       "      <td>NaN</td>\n",
       "      <td>200.85</td>\n",
       "      <td>105</td>\n",
       "      <td>0</td>\n",
       "    </tr>\n",
       "    <tr>\n",
       "      <th>922</th>\n",
       "      <td>1</td>\n",
       "      <td>265.10</td>\n",
       "      <td>538.170</td>\n",
       "      <td>NaN</td>\n",
       "      <td>208.35</td>\n",
       "      <td>179</td>\n",
       "      <td>1</td>\n",
       "    </tr>\n",
       "    <tr>\n",
       "      <th>923</th>\n",
       "      <td>0</td>\n",
       "      <td>397.12</td>\n",
       "      <td>622.386</td>\n",
       "      <td>NaN</td>\n",
       "      <td>433.45</td>\n",
       "      <td>41</td>\n",
       "      <td>1</td>\n",
       "    </tr>\n",
       "    <tr>\n",
       "      <th>924</th>\n",
       "      <td>1</td>\n",
       "      <td>242.10</td>\n",
       "      <td>420.429</td>\n",
       "      <td>NaN</td>\n",
       "      <td>369.20</td>\n",
       "      <td>1</td>\n",
       "      <td>1</td>\n",
       "    </tr>\n",
       "  </tbody>\n",
       "</table>\n",
       "<p>925 rows × 7 columns</p>\n",
       "</div>"
      ],
      "text/plain": [
       "     target    var1     var2   var4    var5  var3  var6\n",
       "0         0  509.18  417.681  138.0  393.00   137     0\n",
       "1         0  446.06  666.182   81.0  352.05    57     1\n",
       "2         1  235.50  398.097   90.0  339.00   101     0\n",
       "3         0  306.02  518.163  102.0  439.25   216     1\n",
       "4         0  453.08  600.156  105.0  422.95    36     0\n",
       "..      ...     ...      ...    ...     ...   ...   ...\n",
       "920       0  422.34  547.259    NaN  350.45    19     1\n",
       "921       1  342.62  473.919    NaN  200.85   105     0\n",
       "922       1  265.10  538.170    NaN  208.35   179     1\n",
       "923       0  397.12  622.386    NaN  433.45    41     1\n",
       "924       1  242.10  420.429    NaN  369.20     1     1\n",
       "\n",
       "[925 rows x 7 columns]"
      ]
     },
     "execution_count": 21,
     "metadata": {},
     "output_type": "execute_result"
    }
   ],
   "source": [
    "from sklearn.preprocessing import OrdinalEncoder\n",
    "\n",
    "encoder = OrdinalEncoder()\n",
    "\n",
    "new_feats = encoder.fit_transform(data[features_name])\n",
    "new_cols = pd.DataFrame(new_feats, dtype=int, columns=features_name)\n",
    "new_data = data.drop(features_name, axis=1)\n",
    "new_data = pd.concat([new_data, new_cols], axis=1)\n",
    "new_data\n"
   ]
  },
  {
   "cell_type": "markdown",
   "metadata": {},
   "source": [
    "## Data Imputation"
   ]
  },
  {
   "cell_type": "code",
   "execution_count": 22,
   "metadata": {},
   "outputs": [
    {
     "name": "stdout",
     "output_type": "stream",
     "text": [
      "Testing: (600, 7) Training: (325, 7)\n"
     ]
    }
   ],
   "source": [
    "data_var4 = new_data[new_data['var4'].notna()]\n",
    "predict_data_var4 = new_data[new_data['var4'].isna()]\n",
    "\n",
    "print('Testing:', predict_data_var4.shape, 'Training:', data_var4.shape)"
   ]
  },
  {
   "cell_type": "markdown",
   "metadata": {},
   "source": [
    "### Linear regression"
   ]
  },
  {
   "cell_type": "code",
   "execution_count": 23,
   "metadata": {},
   "outputs": [],
   "source": [
    "from sklearn.model_selection import train_test_split\n",
    "\n",
    "X_predict = pd.concat([predict_data_var4.loc[:, :'var2'], \n",
    "                       predict_data_var4.loc[:, 'var5':]], \n",
    "                       axis=1)\n",
    "\n",
    "X = pd.concat([data_var4.loc[:, :'var2'], \n",
    "               data_var4.loc[:, 'var5':]], \n",
    "               axis=1)\n",
    "y = data_var4['var4']\n",
    "\n",
    "X_train, X_test, y_train, y_test = train_test_split(X, y, test_size=0.2, random_state=0)"
   ]
  },
  {
   "cell_type": "code",
   "execution_count": 24,
   "metadata": {},
   "outputs": [],
   "source": [
    "from sklearn.linear_model import LinearRegression\n",
    "\n",
    "regressor = LinearRegression()\n",
    "regressor.fit(X_train, y_train)\n",
    "\n",
    "y_pred = regressor.predict(X_test)"
   ]
  },
  {
   "cell_type": "code",
   "execution_count": 25,
   "metadata": {},
   "outputs": [
    {
     "name": "stdout",
     "output_type": "stream",
     "text": [
      "Mean Absolute Error: 16.852377860135828\n",
      "Mean Squared Error: 466.22346114902194\n",
      "Root Mean Squared Error: 21.592208343497937\n"
     ]
    }
   ],
   "source": [
    "from sklearn import metrics\n",
    "\n",
    "print('Mean Absolute Error:', metrics.mean_absolute_error(y_test, y_pred))\n",
    "print('Mean Squared Error:', metrics.mean_squared_error(y_test, y_pred))\n",
    "print('Root Mean Squared Error:', np.sqrt(metrics.mean_squared_error(y_test, y_pred)))"
   ]
  },
  {
   "cell_type": "markdown",
   "metadata": {},
   "source": [
    "### Polynomial regression"
   ]
  },
  {
   "cell_type": "code",
   "execution_count": 26,
   "metadata": {},
   "outputs": [],
   "source": [
    "degrees = [i for i in range(2, 10)]"
   ]
  },
  {
   "cell_type": "code",
   "execution_count": 27,
   "metadata": {},
   "outputs": [],
   "source": [
    "from sklearn.pipeline import Pipeline\n",
    "from sklearn.preprocessing import PolynomialFeatures\n",
    "\n",
    "mae_to_plot = []\n",
    "mse_to_plot = []\n",
    "rmse_to_plot = []\n",
    "\n",
    "for i in degrees:\n",
    "    polynomial_features = PolynomialFeatures(degree=i)\n",
    "    linear_regression = LinearRegression()\n",
    "    regressor = Pipeline([(\"polynomial_features\", polynomial_features),\n",
    "                          (\"linear_regression\", linear_regression)])\n",
    "    regressor.fit(X_train, y_train)\n",
    "    y_pred = regressor.predict(X_test)\n",
    "    mae_to_plot.append(metrics.mean_absolute_error(y_test, y_pred))\n",
    "    mse_to_plot.append(metrics.mean_squared_error(y_test, y_pred))\n",
    "    rmse_to_plot.append(np.sqrt(metrics.mean_squared_error(y_test, y_pred)))"
   ]
  },
  {
   "cell_type": "code",
   "execution_count": 28,
   "metadata": {},
   "outputs": [
    {
     "data": {
      "image/png": "[encoded data removed]",
      "text/plain": [
       "<Figure size 1200x600 with 3 Axes>"
      ]
     },
     "metadata": {},
     "output_type": "display_data"
    },
    {
     "name": "stdout",
     "output_type": "stream",
     "text": [
      "[13.899461298722487, 14.583135535787019, 59.84411592998535, 611.3977599842129, 152.93881372428487, 171.68460546533225, 199.4223919316014, 283.66295030062304]\n",
      "[340.8565146505334, 615.6856531299427, 63199.33668435515, 1752099.5786883014, 95953.74157175698, 148643.8589572711, 147754.87303382097, 438276.3454207375]\n",
      "[18.46229982018853, 24.81301378571218, 251.39478253208668, 1323.668983805355, 309.76400948424754, 385.5435889199444, 384.38896060347645, 662.0244296253255]\n"
     ]
    }
   ],
   "source": [
    "f, (ax1, ax2, ax3) = plt.subplots(1, 3, figsize=(12, 6))\n",
    "\n",
    "ax1.plot(degrees, mae_to_plot, label='MAE')\n",
    "ax2.plot(degrees, mse_to_plot, label='MSE', c='y')\n",
    "ax3.plot(degrees, rmse_to_plot, label='RMSE', c='r')\n",
    "\n",
    "ax1.legend()\n",
    "ax2.legend()\n",
    "ax3.legend()\n",
    "plt.show()\n",
    "\n",
    "print(mae_to_plot)\n",
    "print(mse_to_plot)\n",
    "print(rmse_to_plot)"
   ]
  },
  {
   "cell_type": "markdown",
   "metadata": {},
   "source": [
    "### Find the missing values of *var4*"
   ]
  },
  {
   "cell_type": "markdown",
   "metadata": {},
   "source": [
    "According to errors, it is better to use polynomial regression of the second degree to predict *var4*"
   ]
  },
  {
   "cell_type": "code",
   "execution_count": 29,
   "metadata": {},
   "outputs": [
    {
     "data": {
      "text/html": [
       "<div>\n",
       "<style scoped>\n",
       "    .dataframe tbody tr th:only-of-type {\n",
       "        vertical-align: middle;\n",
       "    }\n",
       "\n",
       "    .dataframe tbody tr th {\n",
       "        vertical-align: top;\n",
       "    }\n",
       "\n",
       "    .dataframe thead th {\n",
       "        text-align: right;\n",
       "    }\n",
       "</style>\n",
       "<table border=\"1\" class=\"dataframe\">\n",
       "  <thead>\n",
       "    <tr style=\"text-align: right;\">\n",
       "      <th></th>\n",
       "      <th>target</th>\n",
       "      <th>var1</th>\n",
       "      <th>var2</th>\n",
       "      <th>var5</th>\n",
       "      <th>var3</th>\n",
       "      <th>var6</th>\n",
       "      <th>var4</th>\n",
       "    </tr>\n",
       "  </thead>\n",
       "  <tbody>\n",
       "    <tr>\n",
       "      <th>0</th>\n",
       "      <td>0</td>\n",
       "      <td>509.18</td>\n",
       "      <td>417.681</td>\n",
       "      <td>393.00</td>\n",
       "      <td>137</td>\n",
       "      <td>0</td>\n",
       "      <td>138.000000</td>\n",
       "    </tr>\n",
       "    <tr>\n",
       "      <th>1</th>\n",
       "      <td>0</td>\n",
       "      <td>446.06</td>\n",
       "      <td>666.182</td>\n",
       "      <td>352.05</td>\n",
       "      <td>57</td>\n",
       "      <td>1</td>\n",
       "      <td>81.000000</td>\n",
       "    </tr>\n",
       "    <tr>\n",
       "      <th>2</th>\n",
       "      <td>1</td>\n",
       "      <td>235.50</td>\n",
       "      <td>398.097</td>\n",
       "      <td>339.00</td>\n",
       "      <td>101</td>\n",
       "      <td>0</td>\n",
       "      <td>90.000000</td>\n",
       "    </tr>\n",
       "    <tr>\n",
       "      <th>3</th>\n",
       "      <td>0</td>\n",
       "      <td>306.02</td>\n",
       "      <td>518.163</td>\n",
       "      <td>439.25</td>\n",
       "      <td>216</td>\n",
       "      <td>1</td>\n",
       "      <td>102.000000</td>\n",
       "    </tr>\n",
       "    <tr>\n",
       "      <th>4</th>\n",
       "      <td>0</td>\n",
       "      <td>453.08</td>\n",
       "      <td>600.156</td>\n",
       "      <td>422.95</td>\n",
       "      <td>36</td>\n",
       "      <td>0</td>\n",
       "      <td>105.000000</td>\n",
       "    </tr>\n",
       "    <tr>\n",
       "      <th>...</th>\n",
       "      <td>...</td>\n",
       "      <td>...</td>\n",
       "      <td>...</td>\n",
       "      <td>...</td>\n",
       "      <td>...</td>\n",
       "      <td>...</td>\n",
       "      <td>...</td>\n",
       "    </tr>\n",
       "    <tr>\n",
       "      <th>920</th>\n",
       "      <td>0</td>\n",
       "      <td>422.34</td>\n",
       "      <td>547.259</td>\n",
       "      <td>350.45</td>\n",
       "      <td>19</td>\n",
       "      <td>1</td>\n",
       "      <td>36.738411</td>\n",
       "    </tr>\n",
       "    <tr>\n",
       "      <th>921</th>\n",
       "      <td>1</td>\n",
       "      <td>342.62</td>\n",
       "      <td>473.919</td>\n",
       "      <td>200.85</td>\n",
       "      <td>105</td>\n",
       "      <td>0</td>\n",
       "      <td>138.343895</td>\n",
       "    </tr>\n",
       "    <tr>\n",
       "      <th>922</th>\n",
       "      <td>1</td>\n",
       "      <td>265.10</td>\n",
       "      <td>538.170</td>\n",
       "      <td>208.35</td>\n",
       "      <td>179</td>\n",
       "      <td>1</td>\n",
       "      <td>133.485252</td>\n",
       "    </tr>\n",
       "    <tr>\n",
       "      <th>923</th>\n",
       "      <td>0</td>\n",
       "      <td>397.12</td>\n",
       "      <td>622.386</td>\n",
       "      <td>433.45</td>\n",
       "      <td>41</td>\n",
       "      <td>1</td>\n",
       "      <td>134.249771</td>\n",
       "    </tr>\n",
       "    <tr>\n",
       "      <th>924</th>\n",
       "      <td>1</td>\n",
       "      <td>242.10</td>\n",
       "      <td>420.429</td>\n",
       "      <td>369.20</td>\n",
       "      <td>1</td>\n",
       "      <td>1</td>\n",
       "      <td>207.860443</td>\n",
       "    </tr>\n",
       "  </tbody>\n",
       "</table>\n",
       "<p>925 rows × 7 columns</p>\n",
       "</div>"
      ],
      "text/plain": [
       "     target    var1     var2    var5  var3  var6        var4\n",
       "0         0  509.18  417.681  393.00   137     0  138.000000\n",
       "1         0  446.06  666.182  352.05    57     1   81.000000\n",
       "2         1  235.50  398.097  339.00   101     0   90.000000\n",
       "3         0  306.02  518.163  439.25   216     1  102.000000\n",
       "4         0  453.08  600.156  422.95    36     0  105.000000\n",
       "..      ...     ...      ...     ...   ...   ...         ...\n",
       "920       0  422.34  547.259  350.45    19     1   36.738411\n",
       "921       1  342.62  473.919  200.85   105     0  138.343895\n",
       "922       1  265.10  538.170  208.35   179     1  133.485252\n",
       "923       0  397.12  622.386  433.45    41     1  134.249771\n",
       "924       1  242.10  420.429  369.20     1     1  207.860443\n",
       "\n",
       "[925 rows x 7 columns]"
      ]
     },
     "execution_count": 29,
     "metadata": {},
     "output_type": "execute_result"
    }
   ],
   "source": [
    "polynomial_features = PolynomialFeatures(degree=2)\n",
    "regressor = Pipeline([(\"polynomial_features\", polynomial_features),\n",
    "                      (\"linear_regression\", linear_regression)])\n",
    "regressor.fit(X, y)\n",
    "y_predict = regressor.predict(X_predict)\n",
    "\n",
    "X['var4'] = y\n",
    "X_predict['var4'] = y_predict\n",
    "\n",
    "preprocessed_data = pd.concat([X, X_predict], axis=0)\n",
    "preprocessed_data"
   ]
  },
  {
   "cell_type": "markdown",
   "metadata": {},
   "source": [
    "## Implementing the PCA"
   ]
  },
  {
   "cell_type": "markdown",
   "metadata": {},
   "source": [
    "### Data scaling"
   ]
  },
  {
   "cell_type": "markdown",
   "metadata": {},
   "source": [
    "As we discussed on labs - PCA is sensitive to scaling. Therefore, I scale data using StandardScaler."
   ]
  },
  {
   "cell_type": "code",
   "execution_count": 30,
   "metadata": {},
   "outputs": [],
   "source": [
    "from sklearn.preprocessing import StandardScaler\n",
    "\n",
    "standard_scaler = StandardScaler()\n",
    "scaled_data = standard_scaler.fit_transform(preprocessed_data)\n",
    "scaled_data = pd.DataFrame(scaled_data, \n",
    "                           columns=preprocessed_data.columns)"
   ]
  },
  {
   "cell_type": "markdown",
   "metadata": {},
   "source": [
    "### PCA"
   ]
  },
  {
   "cell_type": "code",
   "execution_count": 31,
   "metadata": {},
   "outputs": [],
   "source": [
    "# My PCA class\n",
    "class PCA:\n",
    "    dim : int\n",
    "    good_eig_v : np.ndarray\n",
    "    bad_eig_v : np.ndarray\n",
    "\n",
    "\n",
    "    def __init__(self, dim):\n",
    "        self.dim = dim\n",
    "\n",
    "    # Function that transforms given data using good eigenvectors\n",
    "    def transform(self, to_pca_data):\n",
    "        return np.dot(to_pca_data.values, self.good_eig_v)\n",
    "\n",
    "    # Function that transforms given data using bad eigenvectors\n",
    "    def bad_transform(self, to_pca_data):\n",
    "        return np.dot(to_pca_data.values, self.bad_eig_v)\n",
    "\n",
    "    # Function to fit given data and calculate best eigenvectors for use\n",
    "    def fit(self, to_pca_data, plot_eginvalues=False, print_eigenvectors=False):\n",
    "        # Calculate covariance\n",
    "        cov = np.cov(scaled_data.T)\n",
    "\n",
    "        # Get eigenvalues and eigenvectors\n",
    "        w, v = np.linalg.eig(cov)\n",
    "\n",
    "        if self.dim > len(v):\n",
    "            raise Exception('Given dimension is more than initial dimension')\n",
    "        if self.dim < 1:\n",
    "            raise Exception('Given dimension is less than 1')\n",
    "\n",
    "        if plot_eginvalues:\n",
    "            plt.bar([i+1 for i in range(len(w))], w)\n",
    "            plt.title(\"Eigenvalues\")\n",
    "            plt.xlabel(\"Magnitude of the eigenvalue\")\n",
    "            plt.show()\n",
    "\n",
    "        column_names = [f'v{i+1}' for i in range(len(v))]\n",
    "\n",
    "        # Represent eigenvectors as dataframe\n",
    "        v = pd.DataFrame(v, columns=column_names)\n",
    "        if print_eigenvectors:\n",
    "            print(v)\n",
    "\n",
    "        sorted_names = [i for _, i in sorted(zip(w, column_names), reverse=True)]\n",
    "        self.good_eig_v = v[sorted_names[:self.dim]].values\n",
    "        self.bad_eig_v = v[sorted_names[-self.dim:]].values\n",
    "        \n",
    "        return self"
   ]
  },
  {
   "cell_type": "markdown",
   "metadata": {},
   "source": [
    "According to eigenvalues - we need to take the first and the sixth eigenvectors to get the best result"
   ]
  },
  {
   "cell_type": "code",
   "execution_count": 36,
   "metadata": {},
   "outputs": [
    {
     "data": {
      "image/png": "[encoded data removed]",
      "text/plain": [
       "<Figure size 640x480 with 1 Axes>"
      ]
     },
     "metadata": {},
     "output_type": "display_data"
    },
    {
     "data": {
      "text/plain": [
       "<__main__.PCA at 0x7fcdc72d4b80>"
      ]
     },
     "execution_count": 36,
     "metadata": {},
     "output_type": "execute_result"
    }
   ],
   "source": [
    "# Initialize my PCA object and fit it\n",
    "pca = PCA(2)\n",
    "pca.fit(scaled_data, plot_eginvalues=True)"
   ]
  },
  {
   "cell_type": "code",
   "execution_count": 33,
   "metadata": {},
   "outputs": [
    {
     "data": {
      "image/png": "[encoded data removed]",
      "text/plain": [
       "<Figure size 640x480 with 1 Axes>"
      ]
     },
     "metadata": {},
     "output_type": "display_data"
    }
   ],
   "source": [
    "# Use eigenvectors with the smallest eigenvalues for pca\n",
    "x_bad = pca.bad_transform(scaled_data)\n",
    "\n",
    "# Plot data\n",
    "color = ['g', 'r']\n",
    "for i in range(len(x_bad)):\n",
    "    x_temp = x_bad[i, 0]\n",
    "    y_temp = x_bad[i, 1]\n",
    "    c_temp = color[data['target'][i]]\n",
    "    plt.plot(x_temp, y_temp, 'o', c=c_temp)\n",
    "\n",
    "plt.title(\"PCA Bad plot\")\n",
    "plt.show()"
   ]
  },
  {
   "cell_type": "code",
   "execution_count": 34,
   "metadata": {},
   "outputs": [
    {
     "data": {
      "image/png": "[encoded data removed]",
      "text/plain": [
       "<Figure size 640x480 with 1 Axes>"
      ]
     },
     "metadata": {},
     "output_type": "display_data"
    }
   ],
   "source": [
    "# Use eigenvectors with the highest eigenvalues for pca\n",
    "x_pca = pca.transform(scaled_data)\n",
    "\n",
    "# Plot data\n",
    "for i in range(len(x_pca)):\n",
    "    x_temp = x_pca[i, 0]\n",
    "    y_temp = x_pca[i, 1]\n",
    "    c_temp = color[data['target'][i]]\n",
    "    plt.plot(x_temp, y_temp, 'o', c=c_temp)\n",
    "\n",
    "plt.title(\"PCA plot\")\n",
    "plt.show()"
   ]
  },
  {
   "cell_type": "markdown",
   "metadata": {},
   "source": [
    "# Training"
   ]
  },
  {
   "cell_type": "markdown",
   "metadata": {},
   "source": [
    "Firstly, we need to split preprocessed data on training and testing"
   ]
  },
  {
   "cell_type": "code",
   "execution_count": 35,
   "metadata": {},
   "outputs": [],
   "source": [
    "# Split data to target and features\n",
    "X = preprocessed_data.iloc[:, 1:]\n",
    "y = preprocessed_data['target']\n",
    "\n",
    "# Split data to training and testing\n",
    "random_state = 13\n",
    "X_train, X_test, y_train, y_test = train_test_split(X, y, test_size=0.2, \n",
    "                                                    random_state=random_state, \n",
    "                                                    shuffle=True)"
   ]
  },
  {
   "cell_type": "code",
   "execution_count": null,
   "metadata": {},
   "outputs": [],
   "source": [
    "# Scale testing and training data\n",
    "scaler = StandardScaler()\n",
    "scaler.fit(X_train)\n",
    "\n",
    "X_train = pd.DataFrame(scaler.transform(X_train), \n",
    "                       columns=X_train.columns)\n",
    "\n",
    "X_test = pd.DataFrame(scaler.transform(X_test), \n",
    "                      columns=X_test.columns)"
   ]
  },
  {
   "cell_type": "markdown",
   "metadata": {},
   "source": [
    "## Logistic Regression"
   ]
  },
  {
   "cell_type": "code",
   "execution_count": null,
   "metadata": {},
   "outputs": [],
   "source": []
  }
 ],
 "metadata": {
  "kernelspec": {
   "display_name": "Python 3.8.10 64-bit",
   "language": "python",
   "name": "python3"
  },
  "language_info": {
   "codemirror_mode": {
    "name": "ipython",
    "version": 3
   },
   "file_extension": ".py",
   "mimetype": "text/x-python",
   "name": "python",
   "nbconvert_exporter": "python",
   "pygments_lexer": "ipython3",
   "version": "3.8.10"
  },
  "orig_nbformat": 4,
  "vscode": {
   "interpreter": {
    "hash": "916dbcbb3f70747c44a77c7bcd40155683ae19c65e1c03b4aa3499c5328201f1"
   }
  }
 },
 "nbformat": 4,
 "nbformat_minor": 2
}
