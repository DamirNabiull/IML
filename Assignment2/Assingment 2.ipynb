{
 "cells": [
  {
   "cell_type": "markdown",
   "metadata": {
    "collapsed": true,
    "pycharm": {
     "name": "#%% md\n"
    }
   },
   "source": [
    "# Assignment 2\n",
    "\n",
    "## Instructions\n",
    "- Your submission should be the `.ipynb` file with your name,\n",
    "  like `YusufMesbah.ipynb`. it should include the answers to the questions in\n",
    "  markdown cells.\n",
    "- You are expected to follow the best practices for code writing and model\n",
    "training. Poor coding style will be penalized.\n",
    "- You are allowed to discuss ideas with your peers, but no sharing of code.\n",
    "Plagiarism in the code will result in failing. If you use code from the\n",
    "internet, cite it.\n",
    "- If the instructions seem vague, use common sense."
   ]
  },
  {
   "cell_type": "markdown",
   "metadata": {
    "collapsed": false
   },
   "source": [
    "# Task 1: ANN (30%)\n",
    "For this task, you are required to build a fully connect feed-forward ANN model\n",
    "for a multi-label regression problem.\n",
    "\n",
    "For the given data, you need do proper data preprocessing, design the ANN model,\n",
    "then fine-tune your model architecture (number of layers, number of neurons,\n",
    "activation function, learning rate, momentum, regularization).\n",
    "\n",
    "For evaluating your model, do $80/20$ train test split.\n",
    "\n",
    "### Data\n",
    "You will be working with the data in `Task 1.csv` for predicting students'\n",
    "scores in 3 different exams: math, reading and writing. The columns include:\n",
    " - gender\n",
    " - race\n",
    " - parental level of education\n",
    " - lunch meal plan at school\n",
    " - whether the student undertook the test preparation course"
   ]
  },
  {
   "cell_type": "code",
   "execution_count": 881,
   "metadata": {},
   "outputs": [
    {
     "name": "stdout",
     "output_type": "stream",
     "text": [
      "(1000, 8)\n"
     ]
    },
    {
     "data": {
      "text/html": [
       "<div>\n",
       "<style scoped>\n",
       "    .dataframe tbody tr th:only-of-type {\n",
       "        vertical-align: middle;\n",
       "    }\n",
       "\n",
       "    .dataframe tbody tr th {\n",
       "        vertical-align: top;\n",
       "    }\n",
       "\n",
       "    .dataframe thead th {\n",
       "        text-align: right;\n",
       "    }\n",
       "</style>\n",
       "<table border=\"1\" class=\"dataframe\">\n",
       "  <thead>\n",
       "    <tr style=\"text-align: right;\">\n",
       "      <th></th>\n",
       "      <th>gender</th>\n",
       "      <th>race/ethnicity</th>\n",
       "      <th>parental level of education</th>\n",
       "      <th>lunch</th>\n",
       "      <th>test preparation course</th>\n",
       "      <th>math score</th>\n",
       "      <th>reading score</th>\n",
       "      <th>writing score</th>\n",
       "    </tr>\n",
       "  </thead>\n",
       "  <tbody>\n",
       "    <tr>\n",
       "      <th>0</th>\n",
       "      <td>male</td>\n",
       "      <td>group A</td>\n",
       "      <td>high school</td>\n",
       "      <td>standard</td>\n",
       "      <td>completed</td>\n",
       "      <td>67</td>\n",
       "      <td>67</td>\n",
       "      <td>63</td>\n",
       "    </tr>\n",
       "    <tr>\n",
       "      <th>1</th>\n",
       "      <td>female</td>\n",
       "      <td>group D</td>\n",
       "      <td>some high school</td>\n",
       "      <td>free/reduced</td>\n",
       "      <td>none</td>\n",
       "      <td>40</td>\n",
       "      <td>59</td>\n",
       "      <td>55</td>\n",
       "    </tr>\n",
       "    <tr>\n",
       "      <th>2</th>\n",
       "      <td>male</td>\n",
       "      <td>group E</td>\n",
       "      <td>some college</td>\n",
       "      <td>free/reduced</td>\n",
       "      <td>none</td>\n",
       "      <td>59</td>\n",
       "      <td>60</td>\n",
       "      <td>50</td>\n",
       "    </tr>\n",
       "    <tr>\n",
       "      <th>3</th>\n",
       "      <td>male</td>\n",
       "      <td>group B</td>\n",
       "      <td>high school</td>\n",
       "      <td>standard</td>\n",
       "      <td>none</td>\n",
       "      <td>77</td>\n",
       "      <td>78</td>\n",
       "      <td>68</td>\n",
       "    </tr>\n",
       "    <tr>\n",
       "      <th>4</th>\n",
       "      <td>male</td>\n",
       "      <td>group E</td>\n",
       "      <td>associate's degree</td>\n",
       "      <td>standard</td>\n",
       "      <td>completed</td>\n",
       "      <td>78</td>\n",
       "      <td>73</td>\n",
       "      <td>68</td>\n",
       "    </tr>\n",
       "  </tbody>\n",
       "</table>\n",
       "</div>"
      ],
      "text/plain": [
       "   gender race/ethnicity parental level of education         lunch  \\\n",
       "0    male        group A                 high school      standard   \n",
       "1  female        group D            some high school  free/reduced   \n",
       "2    male        group E                some college  free/reduced   \n",
       "3    male        group B                 high school      standard   \n",
       "4    male        group E          associate's degree      standard   \n",
       "\n",
       "  test preparation course  math score  reading score  writing score  \n",
       "0               completed          67             67             63  \n",
       "1                    none          40             59             55  \n",
       "2                    none          59             60             50  \n",
       "3                    none          77             78             68  \n",
       "4               completed          78             73             68  "
      ]
     },
     "execution_count": 881,
     "metadata": {},
     "output_type": "execute_result"
    }
   ],
   "source": [
    "import pandas as pd\n",
    "import numpy as np\n",
    "\n",
    "# Read data set\n",
    "data = pd.read_csv('Task 1.csv')\n",
    "print(data.shape)\n",
    "data.head()"
   ]
  },
  {
   "cell_type": "code",
   "execution_count": 882,
   "metadata": {},
   "outputs": [
    {
     "name": "stdout",
     "output_type": "stream",
     "text": [
      "2 ['male' 'female']\n",
      "2 ['standard' 'free/reduced']\n",
      "2 ['completed' 'none']\n",
      "5 ['group A' 'group B' 'group C' 'group D' 'group E']\n",
      "6 ['high school' 'some high school' 'some college' \"associate's degree\"\n",
      " \"bachelor's degree\" \"master's degree\"]\n",
      "Orginized parental level of education:  ['some high school', 'high school', 'some college', \"associate's degree\", \"bachelor's degree\", \"master's degree\"]\n"
     ]
    }
   ],
   "source": [
    "# Check count of distinct values in columns gender, lunch\n",
    "gender_col = data['gender'].unique()\n",
    "print(data['gender'].nunique(), gender_col)\n",
    "\n",
    "lunch_col = data['lunch'].unique()\n",
    "print(data['lunch'].nunique(), lunch_col)\n",
    "\n",
    "course_col = data['test preparation course'].unique()\n",
    "print(data['test preparation course'].nunique(), course_col)\n",
    "\n",
    "race_col = data['race/ethnicity'].unique()\n",
    "race_col.sort()\n",
    "print(data['race/ethnicity'].nunique(), race_col)\n",
    "\n",
    "level_col = data['parental level of education'].unique()\n",
    "print(data['parental level of education'].nunique(), level_col)\n",
    "\n",
    "# Array of orginized parental level of education\n",
    "level_col = ['some high school', 'high school', 'some college', 'associate\\'s degree', 'bachelor\\'s degree', 'master\\'s degree']\n",
    "\n",
    "print('Orginized parental level of education: ', level_col)"
   ]
  },
  {
   "cell_type": "code",
   "execution_count": 883,
   "metadata": {},
   "outputs": [],
   "source": [
    "from sklearn.preprocessing import OrdinalEncoder, OneHotEncoder\n",
    "\n",
    "# Create encoder\n",
    "ordinalEncoder = OrdinalEncoder()\n",
    "oneHotEncoder = OneHotEncoder()\n",
    "\n",
    "ordinal_features = ['race/ethnicity', 'parental level of education']\n",
    "one_hot_features = ['gender', 'lunch', 'test preparation course']"
   ]
  },
  {
   "cell_type": "code",
   "execution_count": 884,
   "metadata": {},
   "outputs": [
    {
     "data": {
      "text/html": [
       "<div>\n",
       "<style scoped>\n",
       "    .dataframe tbody tr th:only-of-type {\n",
       "        vertical-align: middle;\n",
       "    }\n",
       "\n",
       "    .dataframe tbody tr th {\n",
       "        vertical-align: top;\n",
       "    }\n",
       "\n",
       "    .dataframe thead th {\n",
       "        text-align: right;\n",
       "    }\n",
       "</style>\n",
       "<table border=\"1\" class=\"dataframe\">\n",
       "  <thead>\n",
       "    <tr style=\"text-align: right;\">\n",
       "      <th></th>\n",
       "      <th>race/ethnicity</th>\n",
       "      <th>parental level of education</th>\n",
       "    </tr>\n",
       "  </thead>\n",
       "  <tbody>\n",
       "    <tr>\n",
       "      <th>0</th>\n",
       "      <td>group A</td>\n",
       "      <td>some high school</td>\n",
       "    </tr>\n",
       "    <tr>\n",
       "      <th>1</th>\n",
       "      <td>group B</td>\n",
       "      <td>high school</td>\n",
       "    </tr>\n",
       "    <tr>\n",
       "      <th>2</th>\n",
       "      <td>group C</td>\n",
       "      <td>some college</td>\n",
       "    </tr>\n",
       "    <tr>\n",
       "      <th>3</th>\n",
       "      <td>group D</td>\n",
       "      <td>associate's degree</td>\n",
       "    </tr>\n",
       "    <tr>\n",
       "      <th>4</th>\n",
       "      <td>group E</td>\n",
       "      <td>bachelor's degree</td>\n",
       "    </tr>\n",
       "    <tr>\n",
       "      <th>5</th>\n",
       "      <td>group A</td>\n",
       "      <td>master's degree</td>\n",
       "    </tr>\n",
       "  </tbody>\n",
       "</table>\n",
       "</div>"
      ],
      "text/plain": [
       "  race/ethnicity parental level of education\n",
       "0        group A            some high school\n",
       "1        group B                 high school\n",
       "2        group C                some college\n",
       "3        group D          associate's degree\n",
       "4        group E           bachelor's degree\n",
       "5        group A             master's degree"
      ]
     },
     "execution_count": 884,
     "metadata": {},
     "output_type": "execute_result"
    }
   ],
   "source": [
    "# Create data frame with race_col, level_col\n",
    "race_col = np.append(race_col, race_col[0])\n",
    "oe_fit_data = np.array([race_col, level_col]).T\n",
    "oe_fit_data = pd.DataFrame(oe_fit_data, columns = ordinal_features)\n",
    "oe_fit_data"
   ]
  },
  {
   "cell_type": "code",
   "execution_count": 885,
   "metadata": {},
   "outputs": [],
   "source": [
    "# Encode ordinal features\n",
    "ordinalEncoder.fit(oe_fit_data)\n",
    "new_oe_features = ordinalEncoder.transform(data[ordinal_features])\n",
    "new_oe_cols = pd.DataFrame(new_oe_features, dtype=int, columns=ordinal_features)"
   ]
  },
  {
   "cell_type": "code",
   "execution_count": 886,
   "metadata": {},
   "outputs": [
    {
     "name": "stderr",
     "output_type": "stream",
     "text": [
      "C:\\Users\\Dale\\AppData\\Roaming\\Python\\Python310\\site-packages\\sklearn\\utils\\deprecation.py:87: FutureWarning: Function get_feature_names is deprecated; get_feature_names is deprecated in 1.0 and will be removed in 1.2. Please use get_feature_names_out instead.\n",
      "  warnings.warn(msg, category=FutureWarning)\n"
     ]
    }
   ],
   "source": [
    "# Encode one hot features\n",
    "new_ohe_features = oneHotEncoder.fit_transform(data[one_hot_features])\n",
    "new_ohe_cols = pd.DataFrame(new_ohe_features.toarray(), dtype=int, columns=oneHotEncoder.get_feature_names(one_hot_features))"
   ]
  },
  {
   "cell_type": "code",
   "execution_count": 887,
   "metadata": {},
   "outputs": [
    {
     "data": {
      "text/html": [
       "<div>\n",
       "<style scoped>\n",
       "    .dataframe tbody tr th:only-of-type {\n",
       "        vertical-align: middle;\n",
       "    }\n",
       "\n",
       "    .dataframe tbody tr th {\n",
       "        vertical-align: top;\n",
       "    }\n",
       "\n",
       "    .dataframe thead th {\n",
       "        text-align: right;\n",
       "    }\n",
       "</style>\n",
       "<table border=\"1\" class=\"dataframe\">\n",
       "  <thead>\n",
       "    <tr style=\"text-align: right;\">\n",
       "      <th></th>\n",
       "      <th>math score</th>\n",
       "      <th>reading score</th>\n",
       "      <th>writing score</th>\n",
       "      <th>race/ethnicity</th>\n",
       "      <th>parental level of education</th>\n",
       "      <th>gender_female</th>\n",
       "      <th>gender_male</th>\n",
       "      <th>lunch_free/reduced</th>\n",
       "      <th>lunch_standard</th>\n",
       "      <th>test preparation course_completed</th>\n",
       "      <th>test preparation course_none</th>\n",
       "    </tr>\n",
       "  </thead>\n",
       "  <tbody>\n",
       "    <tr>\n",
       "      <th>0</th>\n",
       "      <td>67</td>\n",
       "      <td>67</td>\n",
       "      <td>63</td>\n",
       "      <td>0</td>\n",
       "      <td>2</td>\n",
       "      <td>0</td>\n",
       "      <td>1</td>\n",
       "      <td>0</td>\n",
       "      <td>1</td>\n",
       "      <td>1</td>\n",
       "      <td>0</td>\n",
       "    </tr>\n",
       "    <tr>\n",
       "      <th>1</th>\n",
       "      <td>40</td>\n",
       "      <td>59</td>\n",
       "      <td>55</td>\n",
       "      <td>3</td>\n",
       "      <td>5</td>\n",
       "      <td>1</td>\n",
       "      <td>0</td>\n",
       "      <td>1</td>\n",
       "      <td>0</td>\n",
       "      <td>0</td>\n",
       "      <td>1</td>\n",
       "    </tr>\n",
       "    <tr>\n",
       "      <th>2</th>\n",
       "      <td>59</td>\n",
       "      <td>60</td>\n",
       "      <td>50</td>\n",
       "      <td>4</td>\n",
       "      <td>4</td>\n",
       "      <td>0</td>\n",
       "      <td>1</td>\n",
       "      <td>1</td>\n",
       "      <td>0</td>\n",
       "      <td>0</td>\n",
       "      <td>1</td>\n",
       "    </tr>\n",
       "    <tr>\n",
       "      <th>3</th>\n",
       "      <td>77</td>\n",
       "      <td>78</td>\n",
       "      <td>68</td>\n",
       "      <td>1</td>\n",
       "      <td>2</td>\n",
       "      <td>0</td>\n",
       "      <td>1</td>\n",
       "      <td>0</td>\n",
       "      <td>1</td>\n",
       "      <td>0</td>\n",
       "      <td>1</td>\n",
       "    </tr>\n",
       "    <tr>\n",
       "      <th>4</th>\n",
       "      <td>78</td>\n",
       "      <td>73</td>\n",
       "      <td>68</td>\n",
       "      <td>4</td>\n",
       "      <td>0</td>\n",
       "      <td>0</td>\n",
       "      <td>1</td>\n",
       "      <td>0</td>\n",
       "      <td>1</td>\n",
       "      <td>1</td>\n",
       "      <td>0</td>\n",
       "    </tr>\n",
       "  </tbody>\n",
       "</table>\n",
       "</div>"
      ],
      "text/plain": [
       "   math score  reading score  writing score  race/ethnicity  \\\n",
       "0          67             67             63               0   \n",
       "1          40             59             55               3   \n",
       "2          59             60             50               4   \n",
       "3          77             78             68               1   \n",
       "4          78             73             68               4   \n",
       "\n",
       "   parental level of education  gender_female  gender_male  \\\n",
       "0                            2              0            1   \n",
       "1                            5              1            0   \n",
       "2                            4              0            1   \n",
       "3                            2              0            1   \n",
       "4                            0              0            1   \n",
       "\n",
       "   lunch_free/reduced  lunch_standard  test preparation course_completed  \\\n",
       "0                   0               1                                  1   \n",
       "1                   1               0                                  0   \n",
       "2                   1               0                                  0   \n",
       "3                   0               1                                  0   \n",
       "4                   0               1                                  1   \n",
       "\n",
       "   test preparation course_none  \n",
       "0                             0  \n",
       "1                             1  \n",
       "2                             1  \n",
       "3                             1  \n",
       "4                             0  "
      ]
     },
     "execution_count": 887,
     "metadata": {},
     "output_type": "execute_result"
    }
   ],
   "source": [
    "# Combine all features\n",
    "new_data = pd.concat([data], axis=1)\n",
    "new_data = new_data.drop(columns=ordinal_features + one_hot_features )\n",
    "new_data = pd.concat([new_data, new_oe_cols, new_ohe_cols], axis=1)\n",
    "new_data.head()"
   ]
  },
  {
   "cell_type": "code",
   "execution_count": 888,
   "metadata": {},
   "outputs": [],
   "source": [
    "from sklearn.model_selection import train_test_split\n",
    "\n",
    "# Split data to target and features\n",
    "X = new_data.iloc[:, 3:].values\n",
    "y = new_data.iloc[:, :3].values\n",
    "\n",
    "# Split data to training and testing\n",
    "X_train, X_test, y_train, y_test = train_test_split(X, y, test_size=0.2, shuffle=True)"
   ]
  },
  {
   "cell_type": "code",
   "execution_count": 889,
   "metadata": {},
   "outputs": [],
   "source": [
    "from sklearn.preprocessing import StandardScaler\n",
    "\n",
    "# Scale testing and training data\n",
    "scaler = StandardScaler()\n",
    "scaler.fit(X_train)\n",
    "\n",
    "# Create Data Frames with scaled data\n",
    "X_train = scaler.transform(X_train)\n",
    "X_test = scaler.transform(X_test)"
   ]
  },
  {
   "cell_type": "code",
   "execution_count": 890,
   "metadata": {},
   "outputs": [],
   "source": [
    "# Scale target data\n",
    "target_scaler = StandardScaler()\n",
    "target_scaler.fit(y_train)\n",
    "\n",
    "# Create Data Frames with scaled data\n",
    "y_train = target_scaler.transform(y_train)\n",
    "y_test = target_scaler.transform(y_test)"
   ]
  },
  {
   "cell_type": "code",
   "execution_count": 891,
   "metadata": {},
   "outputs": [],
   "source": [
    "import torch\n",
    "from torch.utils.data import Dataset, DataLoader\n",
    "\n",
    "# Custom dataset class\n",
    "class CustomDataset(Dataset):\n",
    "    def __init__(self, X, y):\n",
    "        super().__init__()\n",
    "        self.y = torch.tensor(y).float()\n",
    "        self.X = torch.tensor(X).float()\n",
    "\n",
    "    def __len__(self):\n",
    "        return len(self.X)\n",
    "    \n",
    "    def __getitem__(self, idx):\n",
    "        return self.X[idx, :], self.y[idx]"
   ]
  },
  {
   "cell_type": "code",
   "execution_count": 892,
   "metadata": {},
   "outputs": [],
   "source": [
    "batch_size = 32\n",
    "\n",
    "train_dataset = CustomDataset(X_train, y_train)\n",
    "test_dataset = CustomDataset(X_test, y_test)\n",
    "\n",
    "train_dataloader = DataLoader(train_dataset, batch_size, shuffle=True)\n",
    "test_dataloader = DataLoader(test_dataset, batch_size, shuffle=False)"
   ]
  },
  {
   "cell_type": "code",
   "execution_count": 893,
   "metadata": {},
   "outputs": [
    {
     "data": {
      "text/plain": [
       "torch.Size([32, 3])"
      ]
     },
     "execution_count": 893,
     "metadata": {},
     "output_type": "execute_result"
    }
   ],
   "source": [
    "data, label = next(iter(train_dataloader))\n",
    "label.shape"
   ]
  },
  {
   "cell_type": "code",
   "execution_count": 894,
   "metadata": {},
   "outputs": [
    {
     "name": "stdout",
     "output_type": "stream",
     "text": [
      "cuda\n",
      "ANN(\n",
      "  (hidden1): Linear(in_features=8, out_features=128, bias=True)\n",
      "  (hidden2): Linear(in_features=128, out_features=64, bias=True)\n",
      "  (hidden3): Linear(in_features=64, out_features=32, bias=True)\n",
      "  (output): Linear(in_features=32, out_features=3, bias=True)\n",
      ")\n"
     ]
    }
   ],
   "source": [
    "import torch\n",
    "import torch.nn as nn\n",
    "import torch.nn.functional as F\n",
    "\n",
    "# Custom neural network class\n",
    "class ANN(nn.Module):\n",
    "    def __init__(self):\n",
    "        super(ANN, self).__init__()\n",
    "        self.hidden1 = nn.Linear(8, 128)\n",
    "        self.hidden2 = nn.Linear(128, 64)\n",
    "        self.hidden3 = nn.Linear(64, 32)\n",
    "        self.output = nn.Linear(32, 3)\n",
    "\n",
    "    def forward(self, x):\n",
    "        x = F.leaky_relu(self.hidden1(x))\n",
    "        x = F.leaky_relu(self.hidden2(x))\n",
    "        x = F.leaky_relu(self.hidden3(x))\n",
    "        x = self.output(x)\n",
    "        return x\n",
    "\n",
    "# Create neural network\n",
    "use_cuda = torch.cuda.is_available()\n",
    "print(\"cuda\" if use_cuda else \"cpu\")\n",
    "device = torch.device(\"cuda\" if use_cuda else \"cpu\")\n",
    "model = ANN().to(device)\n",
    "\n",
    "print(model)"
   ]
  },
  {
   "cell_type": "code",
   "execution_count": 895,
   "metadata": {},
   "outputs": [],
   "source": [
    "epochs = 10\n",
    "lr = 0.01\n",
    "momentum = 0.5\n",
    "seed = 1\n",
    "log_interval = 2\n",
    "\n",
    "loss_fn = nn.MSELoss(reduction='mean')"
   ]
  },
  {
   "cell_type": "code",
   "execution_count": 896,
   "metadata": {},
   "outputs": [],
   "source": [
    "def train(model, device, train_loader, optimizer, epoch):\n",
    "    model.train()\n",
    "    epoch_loss = 0 \n",
    "    for batch_idx, (data, target) in enumerate(train_loader):\n",
    "        data, target = data.to(device), target.to(device)\n",
    "        optimizer.zero_grad() \n",
    "        output = model(data).squeeze()\n",
    "        loss = loss_fn(output, target)\n",
    "        loss.backward()\n",
    "        optimizer.step()\n",
    "        epoch_loss += loss.item()\n",
    "        if batch_idx % log_interval == 0:\n",
    "            # print_batch_element_error(output, target)\n",
    "            print('Train Epoch: {} [{}/{} ({:.0f}%)]\\tLoss: {:.6f}'.format(\n",
    "                epoch, batch_idx * len(data), len(train_loader.dataset),\n",
    "                       100. * batch_idx / len(train_loader), loss.item()))\n",
    "\n",
    "    # Print average loss for epoch\n",
    "    print('Average Loss:', epoch_loss / len(train_loader.dataset))\n",
    "\n",
    "\n",
    "def print_batch_element_error(batch, target):\n",
    "    # get value from tensor\n",
    "    batch = batch.cpu().data.numpy()\n",
    "    target = target.cpu().data.numpy()\n",
    "    # calculate error\n",
    "    predicted_v = target_scaler.inverse_transform(batch)\n",
    "    predicted_v = predicted_v[0]\n",
    "    target_v = target_scaler.inverse_transform(target)\n",
    "    target_v = target_v[0]\n",
    "    error = np.abs(predicted_v - target_v)\n",
    "    print('Predicted: ', predicted_v, 'Target: ', target_v, 'Error: ', error, '\\n')\n"
   ]
  },
  {
   "cell_type": "code",
   "execution_count": 897,
   "metadata": {},
   "outputs": [],
   "source": [
    "def test(model, device, test_loader):\n",
    "    model.eval()\n",
    "    test_loss = 0\n",
    "    with torch.no_grad():\n",
    "        for data, target in test_loader:\n",
    "            data, target = data.to(device), target.to(device)\n",
    "            output = model(data).squeeze() \n",
    "            test_loss += loss_fn(output, target).item()  # sum up batch loss \n",
    "\n",
    "    test_loss /= len(test_loader.dataset)\n",
    "\n",
    "    print('\\nTest set: Average loss: {:.4f}\\n'.format(\n",
    "        test_loss))"
   ]
  },
  {
   "cell_type": "code",
   "execution_count": 898,
   "metadata": {},
   "outputs": [
    {
     "name": "stdout",
     "output_type": "stream",
     "text": [
      "Train Epoch: 1 [0/800 (0%)]\tLoss: 0.901352\n",
      "Train Epoch: 1 [64/800 (8%)]\tLoss: 1.555570\n",
      "Train Epoch: 1 [128/800 (16%)]\tLoss: 1.301422\n",
      "Train Epoch: 1 [192/800 (24%)]\tLoss: 1.116609\n",
      "Train Epoch: 1 [256/800 (32%)]\tLoss: 1.414525\n",
      "Train Epoch: 1 [320/800 (40%)]\tLoss: 0.807258\n",
      "Train Epoch: 1 [384/800 (48%)]\tLoss: 0.624021\n",
      "Train Epoch: 1 [448/800 (56%)]\tLoss: 0.918138\n",
      "Train Epoch: 1 [512/800 (64%)]\tLoss: 0.974768\n",
      "Train Epoch: 1 [576/800 (72%)]\tLoss: 1.061050\n",
      "Train Epoch: 1 [640/800 (80%)]\tLoss: 1.210215\n",
      "Train Epoch: 1 [704/800 (88%)]\tLoss: 0.797882\n",
      "Train Epoch: 1 [768/800 (96%)]\tLoss: 1.034278\n",
      "Average Loss: 0.031398807168006894\n",
      "\n",
      "Test set: Average loss: 0.0366\n",
      "\n",
      "Train Epoch: 2 [0/800 (0%)]\tLoss: 1.219925\n",
      "Train Epoch: 2 [64/800 (8%)]\tLoss: 0.835018\n",
      "Train Epoch: 2 [128/800 (16%)]\tLoss: 0.774729\n",
      "Train Epoch: 2 [192/800 (24%)]\tLoss: 0.886572\n",
      "Train Epoch: 2 [256/800 (32%)]\tLoss: 1.146508\n",
      "Train Epoch: 2 [320/800 (40%)]\tLoss: 0.651895\n",
      "Train Epoch: 2 [384/800 (48%)]\tLoss: 1.099976\n",
      "Train Epoch: 2 [448/800 (56%)]\tLoss: 1.029803\n",
      "Train Epoch: 2 [512/800 (64%)]\tLoss: 0.971572\n",
      "Train Epoch: 2 [576/800 (72%)]\tLoss: 1.042135\n",
      "Train Epoch: 2 [640/800 (80%)]\tLoss: 1.263299\n",
      "Train Epoch: 2 [704/800 (88%)]\tLoss: 0.831223\n",
      "Train Epoch: 2 [768/800 (96%)]\tLoss: 0.989387\n",
      "Average Loss: 0.030584465116262435\n",
      "\n",
      "Test set: Average loss: 0.0358\n",
      "\n",
      "Train Epoch: 3 [0/800 (0%)]\tLoss: 1.127546\n",
      "Train Epoch: 3 [64/800 (8%)]\tLoss: 1.033057\n",
      "Train Epoch: 3 [128/800 (16%)]\tLoss: 0.822291\n",
      "Train Epoch: 3 [192/800 (24%)]\tLoss: 1.123302\n",
      "Train Epoch: 3 [256/800 (32%)]\tLoss: 0.870505\n",
      "Train Epoch: 3 [320/800 (40%)]\tLoss: 0.895011\n",
      "Train Epoch: 3 [384/800 (48%)]\tLoss: 1.209895\n",
      "Train Epoch: 3 [448/800 (56%)]\tLoss: 0.829684\n",
      "Train Epoch: 3 [512/800 (64%)]\tLoss: 0.891324\n",
      "Train Epoch: 3 [576/800 (72%)]\tLoss: 0.642802\n",
      "Train Epoch: 3 [640/800 (80%)]\tLoss: 0.905283\n",
      "Train Epoch: 3 [704/800 (88%)]\tLoss: 0.650392\n",
      "Train Epoch: 3 [768/800 (96%)]\tLoss: 1.337866\n",
      "Average Loss: 0.029878629483282567\n",
      "\n",
      "Test set: Average loss: 0.0347\n",
      "\n",
      "Train Epoch: 4 [0/800 (0%)]\tLoss: 0.694063\n",
      "Train Epoch: 4 [64/800 (8%)]\tLoss: 1.137470\n",
      "Train Epoch: 4 [128/800 (16%)]\tLoss: 0.674844\n",
      "Train Epoch: 4 [192/800 (24%)]\tLoss: 1.174026\n",
      "Train Epoch: 4 [256/800 (32%)]\tLoss: 0.858671\n",
      "Train Epoch: 4 [320/800 (40%)]\tLoss: 0.862711\n",
      "Train Epoch: 4 [384/800 (48%)]\tLoss: 1.066979\n",
      "Train Epoch: 4 [448/800 (56%)]\tLoss: 0.977554\n",
      "Train Epoch: 4 [512/800 (64%)]\tLoss: 0.945540\n",
      "Train Epoch: 4 [576/800 (72%)]\tLoss: 0.636253\n",
      "Train Epoch: 4 [640/800 (80%)]\tLoss: 0.848876\n",
      "Train Epoch: 4 [704/800 (88%)]\tLoss: 0.505679\n",
      "Train Epoch: 4 [768/800 (96%)]\tLoss: 1.337857\n",
      "Average Loss: 0.029109188988804817\n",
      "\n",
      "Test set: Average loss: 0.0335\n",
      "\n",
      "Train Epoch: 5 [0/800 (0%)]\tLoss: 0.964491\n",
      "Train Epoch: 5 [64/800 (8%)]\tLoss: 0.767311\n",
      "Train Epoch: 5 [128/800 (16%)]\tLoss: 0.698239\n",
      "Train Epoch: 5 [192/800 (24%)]\tLoss: 0.989903\n",
      "Train Epoch: 5 [256/800 (32%)]\tLoss: 0.476065\n",
      "Train Epoch: 5 [320/800 (40%)]\tLoss: 1.264433\n",
      "Train Epoch: 5 [384/800 (48%)]\tLoss: 1.014257\n",
      "Train Epoch: 5 [448/800 (56%)]\tLoss: 1.359467\n",
      "Train Epoch: 5 [512/800 (64%)]\tLoss: 0.720308\n",
      "Train Epoch: 5 [576/800 (72%)]\tLoss: 0.868548\n",
      "Train Epoch: 5 [640/800 (80%)]\tLoss: 0.756564\n",
      "Train Epoch: 5 [704/800 (88%)]\tLoss: 0.931102\n",
      "Train Epoch: 5 [768/800 (96%)]\tLoss: 0.909302\n",
      "Average Loss: 0.028219285309314727\n",
      "\n",
      "Test set: Average loss: 0.0319\n",
      "\n",
      "Train Epoch: 6 [0/800 (0%)]\tLoss: 0.886669\n",
      "Train Epoch: 6 [64/800 (8%)]\tLoss: 0.877877\n",
      "Train Epoch: 6 [128/800 (16%)]\tLoss: 0.838475\n",
      "Train Epoch: 6 [192/800 (24%)]\tLoss: 0.930909\n",
      "Train Epoch: 6 [256/800 (32%)]\tLoss: 0.801023\n",
      "Train Epoch: 6 [320/800 (40%)]\tLoss: 0.613453\n",
      "Train Epoch: 6 [384/800 (48%)]\tLoss: 1.016051\n",
      "Train Epoch: 6 [448/800 (56%)]\tLoss: 0.698524\n",
      "Train Epoch: 6 [512/800 (64%)]\tLoss: 0.982076\n",
      "Train Epoch: 6 [576/800 (72%)]\tLoss: 0.811735\n",
      "Train Epoch: 6 [640/800 (80%)]\tLoss: 0.913632\n",
      "Train Epoch: 6 [704/800 (88%)]\tLoss: 0.987841\n",
      "Train Epoch: 6 [768/800 (96%)]\tLoss: 1.045143\n",
      "Average Loss: 0.02713206522166729\n",
      "\n",
      "Test set: Average loss: 0.0299\n",
      "\n",
      "Train Epoch: 7 [0/800 (0%)]\tLoss: 1.157904\n",
      "Train Epoch: 7 [64/800 (8%)]\tLoss: 0.965127\n",
      "Train Epoch: 7 [128/800 (16%)]\tLoss: 0.748322\n",
      "Train Epoch: 7 [192/800 (24%)]\tLoss: 0.860403\n",
      "Train Epoch: 7 [256/800 (32%)]\tLoss: 0.859244\n",
      "Train Epoch: 7 [320/800 (40%)]\tLoss: 0.652355\n",
      "Train Epoch: 7 [384/800 (48%)]\tLoss: 1.027481\n",
      "Train Epoch: 7 [448/800 (56%)]\tLoss: 0.588075\n",
      "Train Epoch: 7 [512/800 (64%)]\tLoss: 0.863556\n",
      "Train Epoch: 7 [576/800 (72%)]\tLoss: 0.472410\n",
      "Train Epoch: 7 [640/800 (80%)]\tLoss: 1.030915\n",
      "Train Epoch: 7 [704/800 (88%)]\tLoss: 0.681848\n",
      "Train Epoch: 7 [768/800 (96%)]\tLoss: 0.742859\n",
      "Average Loss: 0.026034678146243096\n",
      "\n",
      "Test set: Average loss: 0.0278\n",
      "\n",
      "Train Epoch: 8 [0/800 (0%)]\tLoss: 0.679880\n",
      "Train Epoch: 8 [64/800 (8%)]\tLoss: 0.740200\n",
      "Train Epoch: 8 [128/800 (16%)]\tLoss: 0.800152\n",
      "Train Epoch: 8 [192/800 (24%)]\tLoss: 0.847621\n",
      "Train Epoch: 8 [256/800 (32%)]\tLoss: 1.064252\n",
      "Train Epoch: 8 [320/800 (40%)]\tLoss: 0.786214\n",
      "Train Epoch: 8 [384/800 (48%)]\tLoss: 1.044403\n",
      "Train Epoch: 8 [448/800 (56%)]\tLoss: 0.841406\n",
      "Train Epoch: 8 [512/800 (64%)]\tLoss: 0.588177\n",
      "Train Epoch: 8 [576/800 (72%)]\tLoss: 0.852730\n",
      "Train Epoch: 8 [640/800 (80%)]\tLoss: 0.811060\n",
      "Train Epoch: 8 [704/800 (88%)]\tLoss: 0.683103\n",
      "Train Epoch: 8 [768/800 (96%)]\tLoss: 0.714656\n",
      "Average Loss: 0.02516871839761734\n",
      "\n",
      "Test set: Average loss: 0.0263\n",
      "\n",
      "Train Epoch: 9 [0/800 (0%)]\tLoss: 0.823885\n",
      "Train Epoch: 9 [64/800 (8%)]\tLoss: 0.740563\n",
      "Train Epoch: 9 [128/800 (16%)]\tLoss: 1.031755\n",
      "Train Epoch: 9 [192/800 (24%)]\tLoss: 0.774121\n",
      "Train Epoch: 9 [256/800 (32%)]\tLoss: 0.961370\n",
      "Train Epoch: 9 [320/800 (40%)]\tLoss: 0.667384\n",
      "Train Epoch: 9 [384/800 (48%)]\tLoss: 0.577579\n",
      "Train Epoch: 9 [448/800 (56%)]\tLoss: 0.669502\n",
      "Train Epoch: 9 [512/800 (64%)]\tLoss: 0.928688\n",
      "Train Epoch: 9 [576/800 (72%)]\tLoss: 0.462222\n",
      "Train Epoch: 9 [640/800 (80%)]\tLoss: 0.785249\n",
      "Train Epoch: 9 [704/800 (88%)]\tLoss: 0.772434\n",
      "Train Epoch: 9 [768/800 (96%)]\tLoss: 0.865910\n",
      "Average Loss: 0.02456657312810421\n",
      "\n",
      "Test set: Average loss: 0.0253\n",
      "\n",
      "Train Epoch: 10 [0/800 (0%)]\tLoss: 0.624852\n",
      "Train Epoch: 10 [64/800 (8%)]\tLoss: 0.684256\n",
      "Train Epoch: 10 [128/800 (16%)]\tLoss: 0.732571\n",
      "Train Epoch: 10 [192/800 (24%)]\tLoss: 0.706421\n",
      "Train Epoch: 10 [256/800 (32%)]\tLoss: 0.595954\n",
      "Train Epoch: 10 [320/800 (40%)]\tLoss: 0.621510\n",
      "Train Epoch: 10 [384/800 (48%)]\tLoss: 0.795321\n",
      "Train Epoch: 10 [448/800 (56%)]\tLoss: 1.137135\n",
      "Train Epoch: 10 [512/800 (64%)]\tLoss: 0.904105\n",
      "Train Epoch: 10 [576/800 (72%)]\tLoss: 0.693876\n",
      "Train Epoch: 10 [640/800 (80%)]\tLoss: 0.839485\n",
      "Train Epoch: 10 [704/800 (88%)]\tLoss: 0.912252\n",
      "Train Epoch: 10 [768/800 (96%)]\tLoss: 0.706618\n",
      "Average Loss: 0.024163573756814005\n",
      "\n",
      "Test set: Average loss: 0.0244\n",
      "\n"
     ]
    }
   ],
   "source": [
    "import torch.optim as optim\n",
    "\n",
    "optimizer = optim.SGD(model.parameters(), lr=lr, momentum=momentum)\n",
    "\n",
    "\n",
    "for epoch in range(1, epochs + 1):\n",
    "    train(model, device, train_dataloader, optimizer, epoch)\n",
    "    test(model, device, test_dataloader)"
   ]
  },
  {
   "cell_type": "markdown",
   "metadata": {
    "collapsed": false
   },
   "source": [
    "### Questions\n",
    "1. What preprocessing techniques did you use? Why?\n",
    "    - *Answer*\n",
    "2. Describe the fine-tuning process and how you reached your model architecture.\n",
    "    - *Answer*"
   ]
  },
  {
   "cell_type": "markdown",
   "metadata": {
    "collapsed": false
   },
   "source": [
    "# Task 2: CNN (40%)\n",
    "For this task, you will be doing image classification:\n",
    "- First, adapt your best model from Task 1 to work on this task, and\n",
    "fit it on the new data. Then, evaluate its performance.\n",
    "- After that, build a CNN model for image classification.\n",
    "- Compare both models in terms of accuracy, number of parameters and speed of\n",
    "inference (the time the model takes to predict 50 samples).\n",
    "\n",
    "For the given data, you need to do proper data preprocessing and augmentation,\n",
    "data loaders.\n",
    "Then fine-tune your model architecture (number of layers, number of filters,\n",
    "activation function, learning rate, momentum, regularization).\n",
    "\n",
    "### Data\n",
    "You will be working with the data in `triple_mnist.zip` for predicting 3-digit\n",
    "numbers writen in the image. Each image contains 3 digits similar to the\n",
    "following example (whose label is `039`):\n",
    "\n",
    "![example](https://github.com/shaohua0116/MultiDigitMNIST/blob/master/asset/examples/039/0_039.png?raw=true)"
   ]
  },
  {
   "cell_type": "code",
   "execution_count": 899,
   "metadata": {
    "collapsed": false,
    "pycharm": {
     "name": "#%%\n"
    }
   },
   "outputs": [],
   "source": [
    "# TODO: Implement task 2"
   ]
  },
  {
   "cell_type": "markdown",
   "metadata": {
    "collapsed": false,
    "pycharm": {
     "name": "#%% md\n"
    }
   },
   "source": [
    "### Questions\n",
    "1. What preprocessing techniques did you use? Why?\n",
    "    - *Answer*\n",
    "2. What data augmentation techniques did you use?\n",
    "    - *Answer*\n",
    "3. Describe the fine-tuning process and how you reached your final CNN model.\n",
    "    - *Answer*"
   ]
  },
  {
   "cell_type": "markdown",
   "metadata": {
    "collapsed": false,
    "pycharm": {
     "name": "#%% md\n"
    }
   },
   "source": [
    "# Task 3: Decision Trees and Ensemble Learning (15%)\n",
    "\n",
    "For the `loan_data.csv` data, predict if the bank should give a loan or not.\n",
    "You need to do the following:\n",
    "- Fine-tune a decision tree on the data\n",
    "- Fine-tune a random forest on the data\n",
    "- Compare their performance\n",
    "- Visualize your DT and one of the trees from the RF\n",
    "\n",
    "For evaluating your models, do $80/20$ train test split.\n",
    "\n",
    "### Data\n",
    "- `credit.policy`: Whether the customer meets the credit underwriting criteria.\n",
    "- `purpose`: The purpose of the loan.\n",
    "- `int.rate`: The interest rate of the loan.\n",
    "- `installment`: The monthly installments owed by the borrower if the loan is funded.\n",
    "- `log.annual.inc`: The natural logarithm of the self-reported annual income of the borrower.\n",
    "- `dti`: The debt-to-income ratio of the borrower.\n",
    "- `fico`: The FICO credit score of the borrower.\n",
    "- `days.with.cr.line`: The number of days the borrower has had a credit line.\n",
    "- `revol.bal`: The borrower's revolving balance.\n",
    "- `revol.util`: The borrower's revolving line utilization rate."
   ]
  },
  {
   "cell_type": "code",
   "execution_count": 900,
   "metadata": {
    "collapsed": false,
    "pycharm": {
     "name": "#%%\n"
    }
   },
   "outputs": [],
   "source": [
    "# TODO: Implement task 3"
   ]
  },
  {
   "cell_type": "markdown",
   "metadata": {
    "collapsed": false
   },
   "source": [
    "### Questions\n",
    "1. How did the DT compare to the RF in performance? Why?\n",
    "    - *Answer*\n",
    "2. After fine-tuning, how does the max depth in DT compare to RF? Why?\n",
    "    - *Answer*\n",
    "3. What is ensemble learning? What are its pros and cons?\n",
    "    - *Answer*\n",
    "4. Briefly explain 2 types of boosting methods and 2 types of bagging methods.\n",
    "Which of these categories does RF fall under?\n",
    "    - *Answer*"
   ]
  },
  {
   "cell_type": "markdown",
   "metadata": {
    "collapsed": false,
    "pycharm": {
     "name": "#%% md\n"
    }
   },
   "source": [
    "# Task 4: Domain Gap (15%)\n",
    "\n",
    "Evaluate your CNN model from task 2 on SVHN data without retraining your model."
   ]
  },
  {
   "cell_type": "code",
   "execution_count": 901,
   "metadata": {
    "collapsed": false,
    "pycharm": {
     "name": "#%%\n"
    }
   },
   "outputs": [],
   "source": [
    "# TODO: Implement task 4"
   ]
  },
  {
   "cell_type": "markdown",
   "metadata": {
    "collapsed": false,
    "pycharm": {
     "name": "#%% md\n"
    }
   },
   "source": [
    "### Questions\n",
    "1. How did your model perform? Why is it better/worse?\n",
    "    - *Answer*\n",
    "2. What is domain gap in the context of ML?\n",
    "    - *Answer*\n",
    "3. Suggest two ways through which the problem of domain gap can be tackled.\n",
    "    - *Answer*"
   ]
  }
 ],
 "metadata": {
  "kernelspec": {
   "display_name": "Python 3.10.7 64-bit",
   "language": "python",
   "name": "python3"
  },
  "language_info": {
   "codemirror_mode": {
    "name": "ipython",
    "version": 3
   },
   "file_extension": ".py",
   "mimetype": "text/x-python",
   "name": "python",
   "nbconvert_exporter": "python",
   "pygments_lexer": "ipython3",
   "version": "3.10.7"
  },
  "vscode": {
   "interpreter": {
    "hash": "26de051ba29f2982a8de78e945f0abaf191376122a1563185a90213a26c5da77"
   }
  }
 },
 "nbformat": 4,
 "nbformat_minor": 0
}
