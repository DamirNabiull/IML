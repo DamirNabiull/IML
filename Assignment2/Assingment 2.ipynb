{
 "cells": [
  {
   "cell_type": "markdown",
   "metadata": {
    "collapsed": true,
    "pycharm": {
     "name": "#%% md\n"
    }
   },
   "source": [
    "# Assignment 2\n",
    "\n",
    "## Instructions\n",
    "- Your submission should be the `.ipynb` file with your name,\n",
    "  like `YusufMesbah.ipynb`. it should include the answers to the questions in\n",
    "  markdown cells.\n",
    "- You are expected to follow the best practices for code writing and model\n",
    "training. Poor coding style will be penalized.\n",
    "- You are allowed to discuss ideas with your peers, but no sharing of code.\n",
    "Plagiarism in the code will result in failing. If you use code from the\n",
    "internet, cite it.\n",
    "- If the instructions seem vague, use common sense."
   ]
  },
  {
   "cell_type": "markdown",
   "metadata": {
    "collapsed": false
   },
   "source": [
    "# Task 1: ANN (30%)\n",
    "For this task, you are required to build a fully connect feed-forward ANN model\n",
    "for a multi-label regression problem.\n",
    "\n",
    "For the given data, you need do proper data preprocessing, design the ANN model,\n",
    "then fine-tune your model architecture (number of layers, number of neurons,\n",
    "activation function, learning rate, momentum, regularization).\n",
    "\n",
    "For evaluating your model, do $80/20$ train test split.\n",
    "\n",
    "### Data\n",
    "You will be working with the data in `Task 1.csv` for predicting students'\n",
    "scores in 3 different exams: math, reading and writing. The columns include:\n",
    " - gender\n",
    " - race\n",
    " - parental level of education\n",
    " - lunch meal plan at school\n",
    " - whether the student undertook the test preparation course"
   ]
  },
  {
   "cell_type": "markdown",
   "metadata": {},
   "source": [
    "## Import dataset"
   ]
  },
  {
   "cell_type": "code",
   "execution_count": 338,
   "metadata": {},
   "outputs": [
    {
     "name": "stdout",
     "output_type": "stream",
     "text": [
      "(1000, 8)\n"
     ]
    },
    {
     "data": {
      "text/html": [
       "<div>\n",
       "<style scoped>\n",
       "    .dataframe tbody tr th:only-of-type {\n",
       "        vertical-align: middle;\n",
       "    }\n",
       "\n",
       "    .dataframe tbody tr th {\n",
       "        vertical-align: top;\n",
       "    }\n",
       "\n",
       "    .dataframe thead th {\n",
       "        text-align: right;\n",
       "    }\n",
       "</style>\n",
       "<table border=\"1\" class=\"dataframe\">\n",
       "  <thead>\n",
       "    <tr style=\"text-align: right;\">\n",
       "      <th></th>\n",
       "      <th>gender</th>\n",
       "      <th>race/ethnicity</th>\n",
       "      <th>parental level of education</th>\n",
       "      <th>lunch</th>\n",
       "      <th>test preparation course</th>\n",
       "      <th>math score</th>\n",
       "      <th>reading score</th>\n",
       "      <th>writing score</th>\n",
       "    </tr>\n",
       "  </thead>\n",
       "  <tbody>\n",
       "    <tr>\n",
       "      <th>0</th>\n",
       "      <td>male</td>\n",
       "      <td>group A</td>\n",
       "      <td>high school</td>\n",
       "      <td>standard</td>\n",
       "      <td>completed</td>\n",
       "      <td>67</td>\n",
       "      <td>67</td>\n",
       "      <td>63</td>\n",
       "    </tr>\n",
       "    <tr>\n",
       "      <th>1</th>\n",
       "      <td>female</td>\n",
       "      <td>group D</td>\n",
       "      <td>some high school</td>\n",
       "      <td>free/reduced</td>\n",
       "      <td>none</td>\n",
       "      <td>40</td>\n",
       "      <td>59</td>\n",
       "      <td>55</td>\n",
       "    </tr>\n",
       "    <tr>\n",
       "      <th>2</th>\n",
       "      <td>male</td>\n",
       "      <td>group E</td>\n",
       "      <td>some college</td>\n",
       "      <td>free/reduced</td>\n",
       "      <td>none</td>\n",
       "      <td>59</td>\n",
       "      <td>60</td>\n",
       "      <td>50</td>\n",
       "    </tr>\n",
       "    <tr>\n",
       "      <th>3</th>\n",
       "      <td>male</td>\n",
       "      <td>group B</td>\n",
       "      <td>high school</td>\n",
       "      <td>standard</td>\n",
       "      <td>none</td>\n",
       "      <td>77</td>\n",
       "      <td>78</td>\n",
       "      <td>68</td>\n",
       "    </tr>\n",
       "    <tr>\n",
       "      <th>4</th>\n",
       "      <td>male</td>\n",
       "      <td>group E</td>\n",
       "      <td>associate's degree</td>\n",
       "      <td>standard</td>\n",
       "      <td>completed</td>\n",
       "      <td>78</td>\n",
       "      <td>73</td>\n",
       "      <td>68</td>\n",
       "    </tr>\n",
       "  </tbody>\n",
       "</table>\n",
       "</div>"
      ],
      "text/plain": [
       "   gender race/ethnicity parental level of education         lunch  \\\n",
       "0    male        group A                 high school      standard   \n",
       "1  female        group D            some high school  free/reduced   \n",
       "2    male        group E                some college  free/reduced   \n",
       "3    male        group B                 high school      standard   \n",
       "4    male        group E          associate's degree      standard   \n",
       "\n",
       "  test preparation course  math score  reading score  writing score  \n",
       "0               completed          67             67             63  \n",
       "1                    none          40             59             55  \n",
       "2                    none          59             60             50  \n",
       "3                    none          77             78             68  \n",
       "4               completed          78             73             68  "
      ]
     },
     "execution_count": 338,
     "metadata": {},
     "output_type": "execute_result"
    }
   ],
   "source": [
    "import pandas as pd\n",
    "import numpy as np\n",
    "\n",
    "# Read data set\n",
    "data = pd.read_csv('Task 1.csv')\n",
    "print(data.shape)\n",
    "data.head()"
   ]
  },
  {
   "cell_type": "markdown",
   "metadata": {},
   "source": [
    "## Check columns and prepare them for encoding"
   ]
  },
  {
   "cell_type": "code",
   "execution_count": 339,
   "metadata": {},
   "outputs": [
    {
     "name": "stdout",
     "output_type": "stream",
     "text": [
      "2 ['male' 'female']\n",
      "2 ['standard' 'free/reduced']\n",
      "2 ['completed' 'none']\n",
      "5 ['group A' 'group B' 'group C' 'group D' 'group E']\n",
      "6 ['high school' 'some high school' 'some college' \"associate's degree\"\n",
      " \"bachelor's degree\" \"master's degree\"]\n",
      "\n",
      "Orginized parental level of education:  ['some high school', 'high school', 'some college', \"associate's degree\", \"bachelor's degree\", \"master's degree\"]\n"
     ]
    }
   ],
   "source": [
    "# Check count of distinct values in columns gender, lunch\n",
    "gender_col = data['gender'].unique()\n",
    "print(data['gender'].nunique(), gender_col)\n",
    "\n",
    "lunch_col = data['lunch'].unique()\n",
    "print(data['lunch'].nunique(), lunch_col)\n",
    "\n",
    "course_col = data['test preparation course'].unique()\n",
    "print(data['test preparation course'].nunique(), course_col)\n",
    "\n",
    "race_col = data['race/ethnicity'].unique()\n",
    "race_col.sort()\n",
    "print(data['race/ethnicity'].nunique(), race_col)\n",
    "\n",
    "level_col = data['parental level of education'].unique()\n",
    "print(data['parental level of education'].nunique(), level_col)\n",
    "\n",
    "# Array of orginized parental level of education\n",
    "level_col = ['some high school', 'high school', 'some college', 'associate\\'s degree', 'bachelor\\'s degree', 'master\\'s degree']\n",
    "\n",
    "print('\\nOrginized parental level of education: ', level_col)"
   ]
  },
  {
   "cell_type": "markdown",
   "metadata": {},
   "source": [
    "## Encode columns"
   ]
  },
  {
   "cell_type": "code",
   "execution_count": 340,
   "metadata": {},
   "outputs": [],
   "source": [
    "from sklearn.preprocessing import OrdinalEncoder, OneHotEncoder\n",
    "\n",
    "# Create encoder\n",
    "ordinalEncoder = OrdinalEncoder(categories=[race_col, level_col])\n",
    "oneHotEncoder = OneHotEncoder()\n",
    "\n",
    "ordinal_features = ['race/ethnicity', 'parental level of education']\n",
    "one_hot_features = ['gender', 'lunch', 'test preparation course']"
   ]
  },
  {
   "cell_type": "code",
   "execution_count": 341,
   "metadata": {},
   "outputs": [],
   "source": [
    "# Encode ordinal features\n",
    "new_oe_features = ordinalEncoder.fit_transform(data[ordinal_features])\n",
    "new_oe_cols = pd.DataFrame(new_oe_features, dtype=int, columns=ordinal_features)"
   ]
  },
  {
   "cell_type": "code",
   "execution_count": 342,
   "metadata": {},
   "outputs": [
    {
     "name": "stderr",
     "output_type": "stream",
     "text": [
      "C:\\Users\\Dale\\AppData\\Roaming\\Python\\Python310\\site-packages\\sklearn\\utils\\deprecation.py:87: FutureWarning: Function get_feature_names is deprecated; get_feature_names is deprecated in 1.0 and will be removed in 1.2. Please use get_feature_names_out instead.\n",
      "  warnings.warn(msg, category=FutureWarning)\n"
     ]
    }
   ],
   "source": [
    "# Encode one hot features\n",
    "new_ohe_features = oneHotEncoder.fit_transform(data[one_hot_features])\n",
    "new_ohe_cols = pd.DataFrame(new_ohe_features.toarray(), dtype=int, columns=oneHotEncoder.get_feature_names(one_hot_features))"
   ]
  },
  {
   "cell_type": "markdown",
   "metadata": {},
   "source": [
    "## Combine new columns into new dataset"
   ]
  },
  {
   "cell_type": "code",
   "execution_count": 343,
   "metadata": {},
   "outputs": [
    {
     "data": {
      "text/html": [
       "<div>\n",
       "<style scoped>\n",
       "    .dataframe tbody tr th:only-of-type {\n",
       "        vertical-align: middle;\n",
       "    }\n",
       "\n",
       "    .dataframe tbody tr th {\n",
       "        vertical-align: top;\n",
       "    }\n",
       "\n",
       "    .dataframe thead th {\n",
       "        text-align: right;\n",
       "    }\n",
       "</style>\n",
       "<table border=\"1\" class=\"dataframe\">\n",
       "  <thead>\n",
       "    <tr style=\"text-align: right;\">\n",
       "      <th></th>\n",
       "      <th>math score</th>\n",
       "      <th>reading score</th>\n",
       "      <th>writing score</th>\n",
       "      <th>race/ethnicity</th>\n",
       "      <th>parental level of education</th>\n",
       "      <th>gender_female</th>\n",
       "      <th>gender_male</th>\n",
       "      <th>lunch_free/reduced</th>\n",
       "      <th>lunch_standard</th>\n",
       "      <th>test preparation course_completed</th>\n",
       "      <th>test preparation course_none</th>\n",
       "    </tr>\n",
       "  </thead>\n",
       "  <tbody>\n",
       "    <tr>\n",
       "      <th>0</th>\n",
       "      <td>67</td>\n",
       "      <td>67</td>\n",
       "      <td>63</td>\n",
       "      <td>0</td>\n",
       "      <td>1</td>\n",
       "      <td>0</td>\n",
       "      <td>1</td>\n",
       "      <td>0</td>\n",
       "      <td>1</td>\n",
       "      <td>1</td>\n",
       "      <td>0</td>\n",
       "    </tr>\n",
       "    <tr>\n",
       "      <th>1</th>\n",
       "      <td>40</td>\n",
       "      <td>59</td>\n",
       "      <td>55</td>\n",
       "      <td>3</td>\n",
       "      <td>0</td>\n",
       "      <td>1</td>\n",
       "      <td>0</td>\n",
       "      <td>1</td>\n",
       "      <td>0</td>\n",
       "      <td>0</td>\n",
       "      <td>1</td>\n",
       "    </tr>\n",
       "    <tr>\n",
       "      <th>2</th>\n",
       "      <td>59</td>\n",
       "      <td>60</td>\n",
       "      <td>50</td>\n",
       "      <td>4</td>\n",
       "      <td>2</td>\n",
       "      <td>0</td>\n",
       "      <td>1</td>\n",
       "      <td>1</td>\n",
       "      <td>0</td>\n",
       "      <td>0</td>\n",
       "      <td>1</td>\n",
       "    </tr>\n",
       "    <tr>\n",
       "      <th>3</th>\n",
       "      <td>77</td>\n",
       "      <td>78</td>\n",
       "      <td>68</td>\n",
       "      <td>1</td>\n",
       "      <td>1</td>\n",
       "      <td>0</td>\n",
       "      <td>1</td>\n",
       "      <td>0</td>\n",
       "      <td>1</td>\n",
       "      <td>0</td>\n",
       "      <td>1</td>\n",
       "    </tr>\n",
       "    <tr>\n",
       "      <th>4</th>\n",
       "      <td>78</td>\n",
       "      <td>73</td>\n",
       "      <td>68</td>\n",
       "      <td>4</td>\n",
       "      <td>3</td>\n",
       "      <td>0</td>\n",
       "      <td>1</td>\n",
       "      <td>0</td>\n",
       "      <td>1</td>\n",
       "      <td>1</td>\n",
       "      <td>0</td>\n",
       "    </tr>\n",
       "  </tbody>\n",
       "</table>\n",
       "</div>"
      ],
      "text/plain": [
       "   math score  reading score  writing score  race/ethnicity  \\\n",
       "0          67             67             63               0   \n",
       "1          40             59             55               3   \n",
       "2          59             60             50               4   \n",
       "3          77             78             68               1   \n",
       "4          78             73             68               4   \n",
       "\n",
       "   parental level of education  gender_female  gender_male  \\\n",
       "0                            1              0            1   \n",
       "1                            0              1            0   \n",
       "2                            2              0            1   \n",
       "3                            1              0            1   \n",
       "4                            3              0            1   \n",
       "\n",
       "   lunch_free/reduced  lunch_standard  test preparation course_completed  \\\n",
       "0                   0               1                                  1   \n",
       "1                   1               0                                  0   \n",
       "2                   1               0                                  0   \n",
       "3                   0               1                                  0   \n",
       "4                   0               1                                  1   \n",
       "\n",
       "   test preparation course_none  \n",
       "0                             0  \n",
       "1                             1  \n",
       "2                             1  \n",
       "3                             1  \n",
       "4                             0  "
      ]
     },
     "execution_count": 343,
     "metadata": {},
     "output_type": "execute_result"
    }
   ],
   "source": [
    "# Combine all features\n",
    "new_data = pd.concat([data], axis=1)\n",
    "new_data = new_data.drop(columns=ordinal_features + one_hot_features )\n",
    "new_data = pd.concat([new_data, new_oe_cols, new_ohe_cols], axis=1)\n",
    "new_data.head()"
   ]
  },
  {
   "cell_type": "markdown",
   "metadata": {},
   "source": [
    "## Split dataset"
   ]
  },
  {
   "cell_type": "code",
   "execution_count": 344,
   "metadata": {},
   "outputs": [],
   "source": [
    "from sklearn.model_selection import train_test_split\n",
    "\n",
    "# Split data to target and features\n",
    "X = new_data.iloc[:, 3:].values\n",
    "y = new_data.iloc[:, :3].values\n",
    "\n",
    "# Split data to training and testing\n",
    "X_train, X_test, y_train, y_test = train_test_split(X, y, test_size=0.2, shuffle=True)"
   ]
  },
  {
   "cell_type": "markdown",
   "metadata": {},
   "source": [
    "## Scale features"
   ]
  },
  {
   "cell_type": "code",
   "execution_count": 345,
   "metadata": {},
   "outputs": [],
   "source": [
    "from sklearn.preprocessing import StandardScaler\n",
    "\n",
    "# Scale testing and training data\n",
    "scaler = StandardScaler()\n",
    "scaler.fit(X_train)\n",
    "\n",
    "# Create Data Frames with scaled data\n",
    "X_train = scaler.transform(X_train)\n",
    "X_test = scaler.transform(X_test)"
   ]
  },
  {
   "cell_type": "code",
   "execution_count": 346,
   "metadata": {},
   "outputs": [],
   "source": [
    "# # Scale target data\n",
    "# target_scaler = StandardScaler()\n",
    "# target_scaler.fit(y_train)\n",
    "\n",
    "# # Create Data Frames with scaled data\n",
    "# y_train = target_scaler.transform(y_train)\n",
    "# y_test = target_scaler.transform(y_test)"
   ]
  },
  {
   "cell_type": "markdown",
   "metadata": {},
   "source": [
    "## Create custom dataset for pytorch"
   ]
  },
  {
   "cell_type": "code",
   "execution_count": 347,
   "metadata": {},
   "outputs": [],
   "source": [
    "import torch\n",
    "from torch.utils.data import Dataset, DataLoader\n",
    "\n",
    "# Custom dataset class\n",
    "class CustomDataset(Dataset):\n",
    "    def __init__(self, X, y):\n",
    "        super().__init__()\n",
    "        self.y = torch.tensor(y).float()\n",
    "        self.X = torch.tensor(X).float()\n",
    "\n",
    "    def __len__(self):\n",
    "        return len(self.X)\n",
    "    \n",
    "    def __getitem__(self, idx):\n",
    "        return self.X[idx, :], self.y[idx]"
   ]
  },
  {
   "cell_type": "code",
   "execution_count": 348,
   "metadata": {},
   "outputs": [],
   "source": [
    "batch_size = 32\n",
    "\n",
    "train_dataset = CustomDataset(X_train, y_train)\n",
    "test_dataset = CustomDataset(X_test, y_test)\n",
    "\n",
    "train_dataloader = DataLoader(train_dataset, batch_size, shuffle=True)\n",
    "test_dataloader = DataLoader(test_dataset, batch_size, shuffle=False)"
   ]
  },
  {
   "cell_type": "code",
   "execution_count": 349,
   "metadata": {},
   "outputs": [
    {
     "data": {
      "text/plain": [
       "torch.Size([32, 3])"
      ]
     },
     "execution_count": 349,
     "metadata": {},
     "output_type": "execute_result"
    }
   ],
   "source": [
    "data, label = next(iter(train_dataloader))\n",
    "label.shape"
   ]
  },
  {
   "cell_type": "markdown",
   "metadata": {},
   "source": [
    "## Create ANN model and prepare device"
   ]
  },
  {
   "cell_type": "code",
   "execution_count": 350,
   "metadata": {},
   "outputs": [
    {
     "name": "stdout",
     "output_type": "stream",
     "text": [
      "cuda\n"
     ]
    }
   ],
   "source": [
    "use_cuda = torch.cuda.is_available()\n",
    "print(\"cuda\" if use_cuda else \"cpu\")\n",
    "device = torch.device(\"cuda\" if use_cuda else \"cpu\")"
   ]
  },
  {
   "cell_type": "code",
   "execution_count": 351,
   "metadata": {},
   "outputs": [
    {
     "name": "stdout",
     "output_type": "stream",
     "text": [
      "ANN(\n",
      "  (hidden1): Linear(in_features=8, out_features=4, bias=True)\n",
      "  (output): Linear(in_features=4, out_features=3, bias=True)\n",
      ")\n"
     ]
    }
   ],
   "source": [
    "import torch\n",
    "import torch.nn as nn\n",
    "import torch.nn.functional as F\n",
    "\n",
    "# Custom neural network class\n",
    "class ANN(nn.Module):\n",
    "    def __init__(self):\n",
    "        super(ANN, self).__init__()\n",
    "        self.hidden1 = nn.Linear(8, 4)\n",
    "        self.output = nn.Linear(4, 3)\n",
    "\n",
    "    def forward(self, x):\n",
    "        x = F.leaky_relu(self.hidden1(x))\n",
    "        x = self.output(x)\n",
    "        return x\n",
    "\n",
    "# Create neural network\n",
    "model = ANN().to(device)\n",
    "\n",
    "print(model)"
   ]
  },
  {
   "cell_type": "code",
   "execution_count": 352,
   "metadata": {},
   "outputs": [],
   "source": [
    "epochs = 100\n",
    "lr = 0.001\n",
    "momentum = 0.9\n",
    "seed = 1\n",
    "log_interval = 4\n",
    "\n",
    "loss_fn = nn.MSELoss(reduction='mean')"
   ]
  },
  {
   "cell_type": "markdown",
   "metadata": {},
   "source": [
    "## Create functions for accuracy and debug"
   ]
  },
  {
   "cell_type": "code",
   "execution_count": 353,
   "metadata": {},
   "outputs": [],
   "source": [
    "# Function to compare first element in batch with the first target value \n",
    "def print_batch_element_error(batch, target):\n",
    "    # get value from tensor\n",
    "    batch = batch.cpu().data.numpy()\n",
    "    target = target.cpu().data.numpy()\n",
    "    predicted_v = batch[0]\n",
    "    target_v = target[0]\n",
    "    error = np.abs(predicted_v - target_v)\n",
    "    print('Predicted: ', predicted_v, 'Target: ', target_v, 'Error: ', error, '\\n')\n",
    "\n",
    "\n",
    "# Custom accuracy function\n",
    "def task1_accuracy(output, target, threshold=2):\n",
    "    output = output.cpu().data.numpy()\n",
    "    target = target.cpu().data.numpy()\n",
    "    # output = target_scaler.inverse_transform(output)\n",
    "    # target = target_scaler.inverse_transform(target)\n",
    "    accuracy = 0\n",
    "    for i in range(len(output)):\n",
    "        predicted_v = output[i]\n",
    "        target_v = target[i]\n",
    "        error = np.abs(predicted_v - target_v)\n",
    "        for j in range(len(error)):\n",
    "            if error[j] <= threshold:\n",
    "                error[j] = 1\n",
    "            else:\n",
    "                error[j] = 0\n",
    "        accuracy += np.sum(error)/3\n",
    "    \n",
    "    return accuracy/len(output)"
   ]
  },
  {
   "cell_type": "markdown",
   "metadata": {},
   "source": [
    "## Prepare EarlyStopping"
   ]
  },
  {
   "cell_type": "code",
   "execution_count": 354,
   "metadata": {},
   "outputs": [],
   "source": [
    "import operator\n",
    "\n",
    "class EarlyStopping():\n",
    "    def __init__(self, tolerance=5, min_delta=0, mode='min'):\n",
    "        self.tolerance = tolerance\n",
    "        self.min_delta = min_delta\n",
    "        self.mode = mode\n",
    "        self.counter = 0\n",
    "        self.early_stop = False\n",
    "        self.prev_metric = np.inf if mode == 'min' else -np.inf\n",
    "\n",
    "        self.operation = operator.gt if mode == 'min' else operator.lt\n",
    "\n",
    "    def __call__(self, metric):\n",
    "        delta = (metric - self.prev_metric)\n",
    "\n",
    "        if self.operation(delta, self.min_delta):\n",
    "            self.counter +=1\n",
    "        else:\n",
    "            self.counter = 0\n",
    "            self.prev_metric = metric\n",
    "\n",
    "        if self.counter >= self.tolerance:\n",
    "            self.early_stop = True\n",
    "        return self.early_stop"
   ]
  },
  {
   "cell_type": "markdown",
   "metadata": {},
   "source": [
    "## Function to train model"
   ]
  },
  {
   "cell_type": "code",
   "execution_count": 355,
   "metadata": {},
   "outputs": [],
   "source": [
    "def train(model, device, train_loader, optimizer, epoch, loss_func, accuracy_func = None, task = 1):\n",
    "    model.train()\n",
    "    epoch_loss = 0\n",
    "    accuracy = 0\n",
    "    for batch_idx, (data, target) in enumerate(train_loader):\n",
    "        data, target = data.to(device), target.to(device)\n",
    "        optimizer.zero_grad() \n",
    "        output = model(data).squeeze()\n",
    "        # print('Output: ', output)\n",
    "        # print('Target: ', target)\n",
    "        # print(output.shape)\n",
    "        # print(target.shape)\n",
    "        loss = loss_func(output, target)\n",
    "        loss.backward()\n",
    "        optimizer.step()\n",
    "        epoch_loss += loss.item()\n",
    "\n",
    "        if accuracy_func:\n",
    "            curr_accuracy = accuracy_func(output, target)\n",
    "            accuracy += curr_accuracy\n",
    "\n",
    "        if batch_idx % log_interval == 0:\n",
    "            print('Train Epoch: {} [{}/{} ({:.0f}%)]\\tLoss: {:.6f}'.format(\n",
    "                epoch, batch_idx * len(data), len(train_loader.dataset),\n",
    "                        100. * batch_idx / len(train_loader), loss.item()), end='')\n",
    "            if accuracy_func:\n",
    "                print('\\tAccuracy: {:.6f}'.format(curr_accuracy), end='')\n",
    "            print()\n",
    "\n",
    "    # Print average scores for epoch\n",
    "    if task == 1:\n",
    "        epoch_loss /= len(train_loader.dataset)\n",
    "    elif task == 2:\n",
    "        epoch_loss /= len(train_loader)\n",
    "\n",
    "    print('\\nTrain Epoch: Average Loss: {:.6f}'.format(epoch_loss), end='')\n",
    "    \n",
    "    if accuracy_func:\n",
    "        print('\\tAverage Accuracy: {:.6f}'.format(accuracy/len(train_loader)), end='')\n",
    "    print()"
   ]
  },
  {
   "cell_type": "markdown",
   "metadata": {},
   "source": [
    "## Function to test/validate model"
   ]
  },
  {
   "cell_type": "code",
   "execution_count": 356,
   "metadata": {},
   "outputs": [],
   "source": [
    "def test(model, device, test_loader, loss_func, accuracy_func, task = 1, set_name = 'Test'):\n",
    "    model.eval()\n",
    "    test_loss = 0\n",
    "    accuracy = 0\n",
    "    with torch.no_grad():\n",
    "        for data, target in test_loader:\n",
    "            data, target = data.to(device), target.to(device)\n",
    "            output = model(data).squeeze()\n",
    "            test_loss += loss_func(output, target).item()\n",
    "            accuracy += accuracy_func(output, target)\n",
    "\n",
    "    if task == 1:\n",
    "        test_loss /= len(test_loader.dataset)\n",
    "    elif task == 2:\n",
    "        test_loss /= len(test_loader)\n",
    "    \n",
    "\n",
    "    print('\\n{} set: Average loss: {:.4f} Average accuracy: {:.4f}\\n'.format(\n",
    "        set_name, test_loss, accuracy / len(test_loader)))\n",
    "\n",
    "    return test_loss"
   ]
  },
  {
   "cell_type": "markdown",
   "metadata": {},
   "source": [
    "## Train and test ANN model"
   ]
  },
  {
   "cell_type": "code",
   "execution_count": 357,
   "metadata": {},
   "outputs": [
    {
     "name": "stdout",
     "output_type": "stream",
     "text": [
      "Train Epoch: 1 [0/800 (0%)]\tLoss: 4904.065430\tAccuracy: 0.000000\n",
      "Train Epoch: 1 [128/800 (16%)]\tLoss: 4957.311523\tAccuracy: 0.000000\n",
      "Train Epoch: 1 [256/800 (32%)]\tLoss: 4201.226562\tAccuracy: 0.000000\n",
      "Train Epoch: 1 [384/800 (48%)]\tLoss: 3714.946777\tAccuracy: 0.000000\n",
      "Train Epoch: 1 [512/800 (64%)]\tLoss: 1244.681641\tAccuracy: 0.020833\n",
      "Train Epoch: 1 [640/800 (80%)]\tLoss: 1561.835938\tAccuracy: 0.020833\n",
      "Train Epoch: 1 [768/800 (96%)]\tLoss: 442.847839\tAccuracy: 0.041667\n",
      "\n",
      "Train Epoch: Average Loss: 94.811380\tAverage Accuracy: 0.018333\n",
      "\n",
      "Test set: Average loss: 21.3818 Average accuracy: 0.0580\n",
      "\n",
      "Train Epoch: 2 [0/800 (0%)]\tLoss: 655.039185\tAccuracy: 0.031250\n",
      "Train Epoch: 2 [128/800 (16%)]\tLoss: 821.732910\tAccuracy: 0.031250\n",
      "Train Epoch: 2 [256/800 (32%)]\tLoss: 522.695190\tAccuracy: 0.083333\n",
      "Train Epoch: 2 [384/800 (48%)]\tLoss: 440.646851\tAccuracy: 0.083333\n",
      "Train Epoch: 2 [512/800 (64%)]\tLoss: 320.158691\tAccuracy: 0.072917\n",
      "Train Epoch: 2 [640/800 (80%)]\tLoss: 252.775848\tAccuracy: 0.083333\n",
      "Train Epoch: 2 [768/800 (96%)]\tLoss: 175.190231\tAccuracy: 0.104167\n",
      "\n",
      "Train Epoch: Average Loss: 16.046692\tAverage Accuracy: 0.072083\n",
      "\n",
      "Test set: Average loss: 8.0028 Average accuracy: 0.1071\n",
      "\n",
      "Train Epoch: 3 [0/800 (0%)]\tLoss: 323.288544\tAccuracy: 0.052083\n",
      "Train Epoch: 3 [128/800 (16%)]\tLoss: 205.604172\tAccuracy: 0.104167\n",
      "Train Epoch: 3 [256/800 (32%)]\tLoss: 259.931000\tAccuracy: 0.114583\n",
      "Train Epoch: 3 [384/800 (48%)]\tLoss: 157.190292\tAccuracy: 0.145833\n",
      "Train Epoch: 3 [512/800 (64%)]\tLoss: 135.026794\tAccuracy: 0.083333\n",
      "Train Epoch: 3 [640/800 (80%)]\tLoss: 237.510361\tAccuracy: 0.083333\n",
      "Train Epoch: 3 [768/800 (96%)]\tLoss: 137.854355\tAccuracy: 0.187500\n",
      "\n",
      "Train Epoch: Average Loss: 6.176104\tAverage Accuracy: 0.114167\n",
      "\n",
      "Test set: Average loss: 5.8830 Average accuracy: 0.1205\n",
      "\n",
      "Train Epoch: 4 [0/800 (0%)]\tLoss: 146.247345\tAccuracy: 0.093750\n",
      "Train Epoch: 4 [128/800 (16%)]\tLoss: 188.958176\tAccuracy: 0.093750\n",
      "Train Epoch: 4 [256/800 (32%)]\tLoss: 91.462112\tAccuracy: 0.229167\n",
      "Train Epoch: 4 [384/800 (48%)]\tLoss: 108.799400\tAccuracy: 0.145833\n",
      "Train Epoch: 4 [512/800 (64%)]\tLoss: 189.151123\tAccuracy: 0.093750\n",
      "Train Epoch: 4 [640/800 (80%)]\tLoss: 213.491455\tAccuracy: 0.114583\n",
      "Train Epoch: 4 [768/800 (96%)]\tLoss: 132.912231\tAccuracy: 0.125000\n",
      "\n",
      "Train Epoch: Average Loss: 5.542298\tAverage Accuracy: 0.112500\n",
      "\n",
      "Test set: Average loss: 5.6402 Average accuracy: 0.1146\n",
      "\n",
      "Train Epoch: 5 [0/800 (0%)]\tLoss: 112.945419\tAccuracy: 0.125000\n",
      "Train Epoch: 5 [128/800 (16%)]\tLoss: 201.580002\tAccuracy: 0.104167\n",
      "Train Epoch: 5 [256/800 (32%)]\tLoss: 163.598083\tAccuracy: 0.145833\n",
      "Train Epoch: 5 [384/800 (48%)]\tLoss: 131.414291\tAccuracy: 0.135417\n",
      "Train Epoch: 5 [512/800 (64%)]\tLoss: 144.647003\tAccuracy: 0.135417\n",
      "Train Epoch: 5 [640/800 (80%)]\tLoss: 213.038574\tAccuracy: 0.083333\n",
      "Train Epoch: 5 [768/800 (96%)]\tLoss: 148.369019\tAccuracy: 0.166667\n",
      "\n",
      "Train Epoch: Average Loss: 5.425184\tAverage Accuracy: 0.102917\n",
      "\n",
      "Test set: Average loss: 6.9658 Average accuracy: 0.1027\n",
      "\n",
      "Train Epoch: 6 [0/800 (0%)]\tLoss: 228.364975\tAccuracy: 0.145833\n",
      "Train Epoch: 6 [128/800 (16%)]\tLoss: 158.546722\tAccuracy: 0.052083\n",
      "Train Epoch: 6 [256/800 (32%)]\tLoss: 157.540558\tAccuracy: 0.156250\n",
      "Train Epoch: 6 [384/800 (48%)]\tLoss: 189.069305\tAccuracy: 0.072917\n",
      "Train Epoch: 6 [512/800 (64%)]\tLoss: 146.290405\tAccuracy: 0.104167\n",
      "Train Epoch: 6 [640/800 (80%)]\tLoss: 160.518768\tAccuracy: 0.104167\n",
      "Train Epoch: 6 [768/800 (96%)]\tLoss: 129.049652\tAccuracy: 0.177083\n",
      "\n",
      "Train Epoch: Average Loss: 5.495375\tAverage Accuracy: 0.111250\n",
      "\n",
      "Test set: Average loss: 5.6757 Average accuracy: 0.1220\n",
      "\n",
      "Train Epoch: 7 [0/800 (0%)]\tLoss: 168.004120\tAccuracy: 0.218750\n",
      "Train Epoch: 7 [128/800 (16%)]\tLoss: 191.777313\tAccuracy: 0.093750\n",
      "Train Epoch: 7 [256/800 (32%)]\tLoss: 172.227692\tAccuracy: 0.187500\n",
      "Train Epoch: 7 [384/800 (48%)]\tLoss: 145.730026\tAccuracy: 0.093750\n",
      "Train Epoch: 7 [512/800 (64%)]\tLoss: 152.146561\tAccuracy: 0.083333\n",
      "Train Epoch: 7 [640/800 (80%)]\tLoss: 152.247055\tAccuracy: 0.125000\n",
      "Train Epoch: 7 [768/800 (96%)]\tLoss: 265.496643\tAccuracy: 0.031250\n",
      "\n",
      "Train Epoch: Average Loss: 5.263898\tAverage Accuracy: 0.115000\n",
      "\n",
      "Test set: Average loss: 5.7792 Average accuracy: 0.1176\n",
      "\n",
      "Train Epoch: 8 [0/800 (0%)]\tLoss: 144.288635\tAccuracy: 0.135417\n",
      "Train Epoch: 8 [128/800 (16%)]\tLoss: 230.903366\tAccuracy: 0.072917\n",
      "Train Epoch: 8 [256/800 (32%)]\tLoss: 178.591599\tAccuracy: 0.125000\n",
      "Train Epoch: 8 [384/800 (48%)]\tLoss: 183.570297\tAccuracy: 0.114583\n",
      "Train Epoch: 8 [512/800 (64%)]\tLoss: 172.207184\tAccuracy: 0.114583\n",
      "Train Epoch: 8 [640/800 (80%)]\tLoss: 181.742676\tAccuracy: 0.135417\n",
      "Train Epoch: 8 [768/800 (96%)]\tLoss: 140.273117\tAccuracy: 0.156250\n",
      "\n",
      "Train Epoch: Average Loss: 5.485983\tAverage Accuracy: 0.118750\n",
      "\n",
      "Test set: Average loss: 6.2996 Average accuracy: 0.1250\n",
      "\n",
      "Train Epoch: 9 [0/800 (0%)]\tLoss: 158.325592\tAccuracy: 0.093750\n",
      "Train Epoch: 9 [128/800 (16%)]\tLoss: 173.801727\tAccuracy: 0.104167\n",
      "Train Epoch: 9 [256/800 (32%)]\tLoss: 232.095917\tAccuracy: 0.125000\n",
      "Train Epoch: 9 [384/800 (48%)]\tLoss: 198.341660\tAccuracy: 0.135417\n",
      "Train Epoch: 9 [512/800 (64%)]\tLoss: 183.126022\tAccuracy: 0.125000\n",
      "Train Epoch: 9 [640/800 (80%)]\tLoss: 206.054016\tAccuracy: 0.072917\n",
      "Train Epoch: 9 [768/800 (96%)]\tLoss: 137.137497\tAccuracy: 0.062500\n",
      "\n",
      "Train Epoch: Average Loss: 5.509394\tAverage Accuracy: 0.113750\n",
      "\n",
      "Test set: Average loss: 6.2851 Average accuracy: 0.1176\n",
      "\n"
     ]
    }
   ],
   "source": [
    "import torch.optim as optim\n",
    "\n",
    "optimizer = optim.SGD(model.parameters(), lr=lr, momentum=momentum)\n",
    "early_stopping = EarlyStopping()\n",
    "\n",
    "for epoch in range(1, epochs + 1):\n",
    "    train(model, device, train_dataloader, optimizer, epoch, loss_fn, task1_accuracy)\n",
    "    test_loss = test(model, device, test_dataloader, loss_fn, task1_accuracy)\n",
    "\n",
    "    if early_stopping(test_loss):\n",
    "        break"
   ]
  },
  {
   "cell_type": "markdown",
   "metadata": {
    "collapsed": false
   },
   "source": [
    "### Questions\n",
    "1. What preprocessing techniques did you use? Why?\n",
    "    - *Answer*\n",
    "2. Describe the fine-tuning process and how you reached your model architecture.\n",
    "    - *Answer*"
   ]
  },
  {
   "cell_type": "markdown",
   "metadata": {
    "collapsed": false
   },
   "source": [
    "# Task 2: CNN (40%)\n",
    "For this task, you will be doing image classification:\n",
    "- First, adapt your best model from Task 1 to work on this task, and\n",
    "fit it on the new data. Then, evaluate its performance.\n",
    "- After that, build a CNN model for image classification.\n",
    "- Compare both models in terms of accuracy, number of parameters and speed of\n",
    "inference (the time the model takes to predict 50 samples).\n",
    "\n",
    "For the given data, you need to do proper data preprocessing and augmentation,\n",
    "data loaders.\n",
    "Then fine-tune your model architecture (number of layers, number of filters,\n",
    "activation function, learning rate, momentum, regularization).\n",
    "\n",
    "### Data\n",
    "You will be working with the data in `triple_mnist.zip` for predicting 3-digit\n",
    "numbers writen in the image. Each image contains 3 digits similar to the\n",
    "following example (whose label is `039`):\n",
    "\n",
    "![example](https://github.com/shaohua0116/MultiDigitMNIST/blob/master/asset/examples/039/0_039.png?raw=true)"
   ]
  },
  {
   "cell_type": "markdown",
   "metadata": {},
   "source": [
    "## Data preprocessing and augmentation"
   ]
  },
  {
   "cell_type": "code",
   "execution_count": 358,
   "metadata": {},
   "outputs": [],
   "source": [
    "from torchvision import transforms\n",
    "from torchvision.datasets import ImageFolder\n",
    "\n",
    "test_path = './triple_mnist/triple_mnist/test/'\n",
    "train_path = './triple_mnist/triple_mnist/train/'\n",
    "val_path = './triple_mnist/triple_mnist/val/'\n",
    "\n",
    "batch_size = 64\n",
    "\n",
    "train_transform = transforms.Compose([\n",
    "    transforms.Resize(84),\n",
    "    transforms.Grayscale(),\n",
    "    # transforms.RandomRotation(degrees=(-2, 2)),\n",
    "    transforms.ToTensor()\n",
    "])\n",
    "\n",
    "test_transform = transforms.Compose([\n",
    "    transforms.Resize(84),\n",
    "    transforms.Grayscale(),\n",
    "    transforms.ToTensor()\n",
    "])\n",
    "\n",
    "train_data = ImageFolder(root=train_path, transform=train_transform)\n",
    "\n",
    "test_data = ImageFolder(root=test_path, transform=test_transform)\n",
    "\n",
    "val_data = ImageFolder(root=val_path, transform=test_transform)"
   ]
  },
  {
   "cell_type": "code",
   "execution_count": 359,
   "metadata": {},
   "outputs": [],
   "source": [
    "def fix_data_targets(data):\n",
    "    classes = data.classes\n",
    "    for i in range(len(data.samples)):\n",
    "        path, index = data.samples[i]\n",
    "        cl = classes[index]\n",
    "        arr = np.zeros((3,), dtype=np.int64)\n",
    "        for j in range(len(cl)):\n",
    "            arr[j] = int(cl[j])\n",
    "        new_sample = (path, arr)\n",
    "        data.samples[i] = new_sample\n",
    "        data.targets[i] = arr"
   ]
  },
  {
   "cell_type": "code",
   "execution_count": 360,
   "metadata": {},
   "outputs": [],
   "source": [
    "fix_data_targets(train_data)\n",
    "fix_data_targets(test_data)\n",
    "fix_data_targets(val_data)"
   ]
  },
  {
   "cell_type": "code",
   "execution_count": 361,
   "metadata": {},
   "outputs": [],
   "source": [
    "train_loader = DataLoader(train_data, batch_size=batch_size, shuffle=True)\n",
    "test_loader = DataLoader(test_data, batch_size=batch_size, shuffle=False)\n",
    "val_loader = DataLoader(val_data, batch_size=batch_size, shuffle=False)"
   ]
  },
  {
   "cell_type": "markdown",
   "metadata": {},
   "source": [
    "## Show one sample from dataset"
   ]
  },
  {
   "cell_type": "markdown",
   "metadata": {},
   "source": [
    "In this part I get number of input channels and show first image from batch"
   ]
  },
  {
   "cell_type": "code",
   "execution_count": 362,
   "metadata": {
    "collapsed": false,
    "pycharm": {
     "name": "#%%\n"
    }
   },
   "outputs": [
    {
     "name": "stdout",
     "output_type": "stream",
     "text": [
      "torch.Size([64, 1, 84, 84]) 7056 1\n"
     ]
    },
    {
     "data": {
      "text/plain": [
       "<matplotlib.image.AxesImage at 0x19432de72b0>"
      ]
     },
     "execution_count": 362,
     "metadata": {},
     "output_type": "execute_result"
    },
    {
     "data": {
      "image/png": "[encoded data removed]",
      "text/plain": [
       "<Figure size 640x480 with 1 Axes>"
      ]
     },
     "metadata": {},
     "output_type": "display_data"
    }
   ],
   "source": [
    "import matplotlib.pyplot as plt\n",
    "images, labels = next(iter(train_loader))\n",
    "\n",
    "in_channels = images.shape[1]\n",
    "images_shape = np.prod(images.shape[1:])\n",
    "\n",
    "print(images.shape, images_shape, in_channels)\n",
    "plt.imshow(np.transpose(images[0].cpu().detach().numpy(), (1, 2, 0)), cmap='gray')"
   ]
  },
  {
   "cell_type": "markdown",
   "metadata": {},
   "source": [
    "## Prepare ANN from the first task for new data"
   ]
  },
  {
   "cell_type": "code",
   "execution_count": 363,
   "metadata": {},
   "outputs": [],
   "source": [
    "class ANN_2(ANN):\n",
    "    def __init__(self):\n",
    "        super(ANN_2, self).__init__()\n",
    "        self.hidden1 = nn.Linear(images_shape, 2500)\n",
    "        self.output = nn.Linear(2500, 30)\n",
    "        \n",
    "    def forward(self, x):\n",
    "        x = x.view(-1, images_shape)\n",
    "        x = F.leaky_relu(self.hidden1(x))\n",
    "        x = self.output(x)\n",
    "        x = F.log_softmax(x, dim=1)\n",
    "        x = x.view(-1, 3, 10)\n",
    "        x = x.transpose(1, 2)\n",
    "        return x"
   ]
  },
  {
   "cell_type": "code",
   "execution_count": 364,
   "metadata": {},
   "outputs": [
    {
     "name": "stdout",
     "output_type": "stream",
     "text": [
      "ANN_2(\n",
      "  (hidden1): Linear(in_features=7056, out_features=2500, bias=True)\n",
      "  (output): Linear(in_features=2500, out_features=30, bias=True)\n",
      ")\n"
     ]
    }
   ],
   "source": [
    "model = ANN_2().to(device)\n",
    "print(model)"
   ]
  },
  {
   "cell_type": "markdown",
   "metadata": {},
   "source": [
    "## Update epochs number and loss function"
   ]
  },
  {
   "cell_type": "markdown",
   "metadata": {},
   "source": [
    "In this task I decide to check ANN model without changing learning rate and momentum. As we asked to change only input and output layers."
   ]
  },
  {
   "cell_type": "code",
   "execution_count": 365,
   "metadata": {},
   "outputs": [],
   "source": [
    "epochs = 1\n",
    "log_interval = 20\n",
    "\n",
    "loss_fn = nn.NLLLoss()\n",
    "# loss_fn = nn.CrossEntropyLoss()"
   ]
  },
  {
   "cell_type": "markdown",
   "metadata": {},
   "source": [
    "## Create a custom function for accuracy"
   ]
  },
  {
   "cell_type": "code",
   "execution_count": 366,
   "metadata": {},
   "outputs": [],
   "source": [
    "def task2_accuracy(output, target):\n",
    "    output = output.cpu().detach().numpy()\n",
    "    target = target.cpu().detach().numpy()\n",
    "\n",
    "    accuracy = 0\n",
    "\n",
    "    for i in range(len(output)):\n",
    "        out = np.transpose(output[i])\n",
    "        tar = target[i]\n",
    "\n",
    "        # print(out)\n",
    "        # print(tar)\n",
    "\n",
    "        num1 = out[0].argmax()\n",
    "        num2 = out[1].argmax()\n",
    "        num3 = out[2].argmax()\n",
    "\n",
    "        # print(num1, num2, num3)\n",
    "\n",
    "        if num1 == tar[0] and num2 == tar[1] and num3 == tar[2]:\n",
    "            accuracy += 1\n",
    "    \n",
    "    return accuracy / len(output)"
   ]
  },
  {
   "cell_type": "markdown",
   "metadata": {},
   "source": [
    "## Train, validate and test ANN model"
   ]
  },
  {
   "cell_type": "code",
   "execution_count": 367,
   "metadata": {},
   "outputs": [
    {
     "name": "stdout",
     "output_type": "stream",
     "text": [
      "Train Epoch: 1 [0/64000 (0%)]\tLoss: 3.396143\n",
      "Train Epoch: 1 [1280/64000 (2%)]\tLoss: 3.401229\n",
      "Train Epoch: 1 [2560/64000 (4%)]\tLoss: 3.401330\n",
      "Train Epoch: 1 [3840/64000 (6%)]\tLoss: 3.395938\n",
      "Train Epoch: 1 [5120/64000 (8%)]\tLoss: 3.396170\n",
      "Train Epoch: 1 [6400/64000 (10%)]\tLoss: 3.391620\n",
      "Train Epoch: 1 [7680/64000 (12%)]\tLoss: 3.388487\n",
      "Train Epoch: 1 [8960/64000 (14%)]\tLoss: 3.393157\n",
      "Train Epoch: 1 [10240/64000 (16%)]\tLoss: 3.392922\n",
      "Train Epoch: 1 [11520/64000 (18%)]\tLoss: 3.394390\n",
      "Train Epoch: 1 [12800/64000 (20%)]\tLoss: 3.390010\n",
      "Train Epoch: 1 [14080/64000 (22%)]\tLoss: 3.390893\n",
      "Train Epoch: 1 [15360/64000 (24%)]\tLoss: 3.385768\n",
      "Train Epoch: 1 [16640/64000 (26%)]\tLoss: 3.392180\n",
      "Train Epoch: 1 [17920/64000 (28%)]\tLoss: 3.393362\n",
      "Train Epoch: 1 [19200/64000 (30%)]\tLoss: 3.391141\n",
      "Train Epoch: 1 [20480/64000 (32%)]\tLoss: 3.387752\n",
      "Train Epoch: 1 [21760/64000 (34%)]\tLoss: 3.386425\n",
      "Train Epoch: 1 [23040/64000 (36%)]\tLoss: 3.386404\n",
      "Train Epoch: 1 [24320/64000 (38%)]\tLoss: 3.374224\n",
      "Train Epoch: 1 [25600/64000 (40%)]\tLoss: 3.385166\n",
      "Train Epoch: 1 [26880/64000 (42%)]\tLoss: 3.379134\n",
      "Train Epoch: 1 [28160/64000 (44%)]\tLoss: 3.378832\n",
      "Train Epoch: 1 [29440/64000 (46%)]\tLoss: 3.381103\n",
      "Train Epoch: 1 [30720/64000 (48%)]\tLoss: 3.381402\n",
      "Train Epoch: 1 [32000/64000 (50%)]\tLoss: 3.371785\n",
      "Train Epoch: 1 [33280/64000 (52%)]\tLoss: 3.378335\n",
      "Train Epoch: 1 [34560/64000 (54%)]\tLoss: 3.379257\n",
      "Train Epoch: 1 [35840/64000 (56%)]\tLoss: 3.360118\n",
      "Train Epoch: 1 [37120/64000 (58%)]\tLoss: 3.368108\n",
      "Train Epoch: 1 [38400/64000 (60%)]\tLoss: 3.375770\n",
      "Train Epoch: 1 [39680/64000 (62%)]\tLoss: 3.370901\n",
      "Train Epoch: 1 [40960/64000 (64%)]\tLoss: 3.379186\n",
      "Train Epoch: 1 [42240/64000 (66%)]\tLoss: 3.367082\n",
      "Train Epoch: 1 [43520/64000 (68%)]\tLoss: 3.375002\n",
      "Train Epoch: 1 [44800/64000 (70%)]\tLoss: 3.372111\n",
      "Train Epoch: 1 [46080/64000 (72%)]\tLoss: 3.367330\n",
      "Train Epoch: 1 [47360/64000 (74%)]\tLoss: 3.372351\n",
      "Train Epoch: 1 [48640/64000 (76%)]\tLoss: 3.371602\n",
      "Train Epoch: 1 [49920/64000 (78%)]\tLoss: 3.362981\n",
      "Train Epoch: 1 [51200/64000 (80%)]\tLoss: 3.373067\n",
      "Train Epoch: 1 [52480/64000 (82%)]\tLoss: 3.362395\n",
      "Train Epoch: 1 [53760/64000 (84%)]\tLoss: 3.366717\n",
      "Train Epoch: 1 [55040/64000 (86%)]\tLoss: 3.357631\n",
      "Train Epoch: 1 [56320/64000 (88%)]\tLoss: 3.359935\n",
      "Train Epoch: 1 [57600/64000 (90%)]\tLoss: 3.346339\n",
      "Train Epoch: 1 [58880/64000 (92%)]\tLoss: 3.363291\n",
      "Train Epoch: 1 [60160/64000 (94%)]\tLoss: 3.354546\n",
      "Train Epoch: 1 [61440/64000 (96%)]\tLoss: 3.351537\n",
      "Train Epoch: 1 [62720/64000 (98%)]\tLoss: 3.363180\n",
      "\n",
      "Train Epoch: Average Loss: 3.377744\n",
      "\n",
      "Validation set: Average loss: 3.3660 Average accuracy: 0.0083\n",
      "\n",
      "\n",
      "Test set: Average loss: 3.3691 Average accuracy: 0.0063\n",
      "\n"
     ]
    }
   ],
   "source": [
    "optimizer = optim.SGD(model.parameters(), lr=lr, momentum=momentum)\n",
    "early_stopping = EarlyStopping()\n",
    "\n",
    "for epoch in range(1, epochs + 1):\n",
    "    train(model, device, train_loader, optimizer, epoch, loss_fn, None, 2)\n",
    "    val_loss = test(model, device, val_loader, loss_fn, task2_accuracy, 2, 'Validation')\n",
    "\n",
    "    if early_stopping(val_loss):\n",
    "        break\n",
    "\n",
    "test_loss = test(model, device, test_loader, loss_fn, task2_accuracy, 2)"
   ]
  },
  {
   "cell_type": "markdown",
   "metadata": {},
   "source": [
    "## Create a CNN model"
   ]
  },
  {
   "cell_type": "code",
   "execution_count": 368,
   "metadata": {},
   "outputs": [],
   "source": [
    "class CNN(nn.Module):\n",
    "    def __init__(self):\n",
    "        super(CNN, self).__init__()\n",
    "        # Input image 84 x 84\n",
    "        self.conv1 = nn.Conv2d(in_channels, 8, 3)  # output 82 x 82\n",
    "        self.pool = nn.MaxPool2d(2, 2)  # pool function with kernel size 2 and stride 2\n",
    "        self.conv1_bn = nn.BatchNorm2d(8)\n",
    "\n",
    "        self.conv2 = nn.Conv2d(8, 16, 4)  # output 38 x 38\n",
    "        self.conv2_bn = nn.BatchNorm2d(16)  # output 19 x 19\n",
    "\n",
    "        self.conv3 = nn.Conv2d(16, 4, 3) # output 17 x 17\n",
    "        self.conv3_bn = nn.BatchNorm2d(4)\n",
    "\n",
    "        self.fc1 = nn.Linear(17 * 17 * 4, 128)\n",
    "        self.fc2 = nn.Linear(128, 64)\n",
    "        self.out = nn.Linear(64, 30)\n",
    "\n",
    "    def forward(self, x):\n",
    "        x = self.pool(F.relu(self.conv1(x)))\n",
    "\n",
    "        # print(x.shape)\n",
    "\n",
    "        x = self.conv1_bn(x)\n",
    "\n",
    "        # print(x.shape)\n",
    "\n",
    "        x = self.pool(F.relu(self.conv2(x)))\n",
    "\n",
    "        # print(x.shape)\n",
    "\n",
    "        x = self.conv2_bn(x)\n",
    "\n",
    "        # print(x.shape)\n",
    "\n",
    "        x = F.relu(self.conv3(x))\n",
    "\n",
    "        # print(x.shape)\n",
    "\n",
    "        x = self.conv3_bn(x)\n",
    "\n",
    "        # print(x.shape)\n",
    "\n",
    "        x = torch.flatten(x, 1)\n",
    "        x = F.relu(self.fc1(x))\n",
    "        x = F.relu(self.fc2(x))\n",
    "\n",
    "        x = self.out(x)\n",
    "\n",
    "        x = F.log_softmax(x, dim=1)\n",
    "        # x = F.sigmoid(x)\n",
    "        x = x.view(-1, 3, 10)\n",
    "        x = x.transpose(1, 2)\n",
    "        \n",
    "        return x"
   ]
  },
  {
   "cell_type": "code",
   "execution_count": 369,
   "metadata": {},
   "outputs": [
    {
     "name": "stdout",
     "output_type": "stream",
     "text": [
      "CNN(\n",
      "  (conv1): Conv2d(1, 8, kernel_size=(3, 3), stride=(1, 1))\n",
      "  (pool): MaxPool2d(kernel_size=2, stride=2, padding=0, dilation=1, ceil_mode=False)\n",
      "  (conv1_bn): BatchNorm2d(8, eps=1e-05, momentum=0.1, affine=True, track_running_stats=True)\n",
      "  (conv2): Conv2d(8, 16, kernel_size=(4, 4), stride=(1, 1))\n",
      "  (conv2_bn): BatchNorm2d(16, eps=1e-05, momentum=0.1, affine=True, track_running_stats=True)\n",
      "  (conv3): Conv2d(16, 4, kernel_size=(3, 3), stride=(1, 1))\n",
      "  (conv3_bn): BatchNorm2d(4, eps=1e-05, momentum=0.1, affine=True, track_running_stats=True)\n",
      "  (fc1): Linear(in_features=1156, out_features=128, bias=True)\n",
      "  (fc2): Linear(in_features=128, out_features=64, bias=True)\n",
      "  (out): Linear(in_features=64, out_features=30, bias=True)\n",
      ")\n"
     ]
    }
   ],
   "source": [
    "# device = torch.device(\"cuda\" if use_cuda else \"cpu\")\n",
    "lr = 0.01\n",
    "momentum = 0.5\n",
    "\n",
    "model = CNN().to(device)\n",
    "print(model)"
   ]
  },
  {
   "cell_type": "markdown",
   "metadata": {},
   "source": [
    "## Train, validate and test CNN model"
   ]
  },
  {
   "cell_type": "code",
   "execution_count": 370,
   "metadata": {},
   "outputs": [
    {
     "name": "stdout",
     "output_type": "stream",
     "text": [
      "Train Epoch: 1 [0/64000 (0%)]\tLoss: 3.413382\n",
      "Train Epoch: 1 [1280/64000 (2%)]\tLoss: 3.397486\n",
      "Train Epoch: 1 [2560/64000 (4%)]\tLoss: 3.400151\n",
      "Train Epoch: 1 [3840/64000 (6%)]\tLoss: 3.399995\n",
      "Train Epoch: 1 [5120/64000 (8%)]\tLoss: 3.403501\n",
      "Train Epoch: 1 [6400/64000 (10%)]\tLoss: 3.411619\n",
      "Train Epoch: 1 [7680/64000 (12%)]\tLoss: 3.394128\n",
      "Train Epoch: 1 [8960/64000 (14%)]\tLoss: 3.402182\n",
      "Train Epoch: 1 [10240/64000 (16%)]\tLoss: 3.398787\n",
      "Train Epoch: 1 [11520/64000 (18%)]\tLoss: 3.406830\n",
      "Train Epoch: 1 [12800/64000 (20%)]\tLoss: 3.381422\n",
      "Train Epoch: 1 [14080/64000 (22%)]\tLoss: 3.389558\n",
      "Train Epoch: 1 [15360/64000 (24%)]\tLoss: 3.385446\n",
      "Train Epoch: 1 [16640/64000 (26%)]\tLoss: 3.384447\n",
      "Train Epoch: 1 [17920/64000 (28%)]\tLoss: 3.382584\n",
      "Train Epoch: 1 [19200/64000 (30%)]\tLoss: 3.382854\n",
      "Train Epoch: 1 [20480/64000 (32%)]\tLoss: 3.360689\n",
      "Train Epoch: 1 [21760/64000 (34%)]\tLoss: 3.366872\n",
      "Train Epoch: 1 [23040/64000 (36%)]\tLoss: 3.370051\n",
      "Train Epoch: 1 [24320/64000 (38%)]\tLoss: 3.340829\n",
      "Train Epoch: 1 [25600/64000 (40%)]\tLoss: 3.336217\n",
      "Train Epoch: 1 [26880/64000 (42%)]\tLoss: 3.328061\n",
      "Train Epoch: 1 [28160/64000 (44%)]\tLoss: 3.324039\n",
      "Train Epoch: 1 [29440/64000 (46%)]\tLoss: 3.289207\n",
      "Train Epoch: 1 [30720/64000 (48%)]\tLoss: 3.241915\n",
      "Train Epoch: 1 [32000/64000 (50%)]\tLoss: 3.219775\n",
      "Train Epoch: 1 [33280/64000 (52%)]\tLoss: 3.191390\n",
      "Train Epoch: 1 [34560/64000 (54%)]\tLoss: 3.199143\n",
      "Train Epoch: 1 [35840/64000 (56%)]\tLoss: 3.155313\n",
      "Train Epoch: 1 [37120/64000 (58%)]\tLoss: 3.129000\n",
      "Train Epoch: 1 [38400/64000 (60%)]\tLoss: 3.129099\n",
      "Train Epoch: 1 [39680/64000 (62%)]\tLoss: 3.010002\n",
      "Train Epoch: 1 [40960/64000 (64%)]\tLoss: 2.966958\n",
      "Train Epoch: 1 [42240/64000 (66%)]\tLoss: 2.911488\n",
      "Train Epoch: 1 [43520/64000 (68%)]\tLoss: 2.901923\n",
      "Train Epoch: 1 [44800/64000 (70%)]\tLoss: 2.859319\n",
      "Train Epoch: 1 [46080/64000 (72%)]\tLoss: 2.755687\n",
      "Train Epoch: 1 [47360/64000 (74%)]\tLoss: 2.780497\n",
      "Train Epoch: 1 [48640/64000 (76%)]\tLoss: 2.700949\n",
      "Train Epoch: 1 [49920/64000 (78%)]\tLoss: 2.633080\n",
      "Train Epoch: 1 [51200/64000 (80%)]\tLoss: 2.571543\n",
      "Train Epoch: 1 [52480/64000 (82%)]\tLoss: 2.552758\n",
      "Train Epoch: 1 [53760/64000 (84%)]\tLoss: 2.562310\n",
      "Train Epoch: 1 [55040/64000 (86%)]\tLoss: 2.559299\n",
      "Train Epoch: 1 [56320/64000 (88%)]\tLoss: 2.501643\n",
      "Train Epoch: 1 [57600/64000 (90%)]\tLoss: 2.441390\n",
      "Train Epoch: 1 [58880/64000 (92%)]\tLoss: 2.358217\n",
      "Train Epoch: 1 [60160/64000 (94%)]\tLoss: 2.358003\n",
      "Train Epoch: 1 [61440/64000 (96%)]\tLoss: 2.311322\n",
      "Train Epoch: 1 [62720/64000 (98%)]\tLoss: 2.298575\n",
      "\n",
      "Train Epoch: Average Loss: 3.062807\n",
      "\n",
      "Validation set: Average loss: 2.3462 Average accuracy: 0.2476\n",
      "\n",
      "\n",
      "Test set: Average loss: 2.3710 Average accuracy: 0.2316\n",
      "\n"
     ]
    }
   ],
   "source": [
    "optimizer = optim.SGD(model.parameters(), lr=lr, momentum=momentum)\n",
    "early_stopping = EarlyStopping()\n",
    "\n",
    "for epoch in range(1, epochs + 1):\n",
    "    train(model, device, train_loader, optimizer, epoch, loss_fn, None, 2)\n",
    "    val_loss = test(model, device, val_loader, loss_fn, task2_accuracy, 2, 'Validation')\n",
    "\n",
    "    if early_stopping(val_loss):\n",
    "        break\n",
    "\n",
    "test_loss = test(model, device, test_loader, loss_fn, task2_accuracy, 2)"
   ]
  },
  {
   "cell_type": "markdown",
   "metadata": {
    "collapsed": false,
    "pycharm": {
     "name": "#%% md\n"
    }
   },
   "source": [
    "### Questions\n",
    "1. What preprocessing techniques did you use? Why?\n",
    "    - *Answer*\n",
    "2. What data augmentation techniques did you use?\n",
    "    - *Answer*\n",
    "3. Describe the fine-tuning process and how you reached your final CNN model.\n",
    "    - *Answer*"
   ]
  },
  {
   "cell_type": "markdown",
   "metadata": {
    "collapsed": false,
    "pycharm": {
     "name": "#%% md\n"
    }
   },
   "source": [
    "# Task 3: Decision Trees and Ensemble Learning (15%)\n",
    "\n",
    "For the `loan_data.csv` data, predict if the bank should give a loan or not.\n",
    "You need to do the following:\n",
    "- Fine-tune a decision tree on the data\n",
    "- Fine-tune a random forest on the data\n",
    "- Compare their performance\n",
    "- Visualize your DT and one of the trees from the RF\n",
    "\n",
    "For evaluating your models, do $80/20$ train test split.\n",
    "\n",
    "### Data\n",
    "- `credit.policy`: Whether the customer meets the credit underwriting criteria.\n",
    "- `purpose`: The purpose of the loan.\n",
    "- `int.rate`: The interest rate of the loan.\n",
    "- `installment`: The monthly installments owed by the borrower if the loan is funded.\n",
    "- `log.annual.inc`: The natural logarithm of the self-reported annual income of the borrower.\n",
    "- `dti`: The debt-to-income ratio of the borrower.\n",
    "- `fico`: The FICO credit score of the borrower.\n",
    "- `days.with.cr.line`: The number of days the borrower has had a credit line.\n",
    "- `revol.bal`: The borrower's revolving balance.\n",
    "- `revol.util`: The borrower's revolving line utilization rate."
   ]
  },
  {
   "cell_type": "code",
   "execution_count": 371,
   "metadata": {
    "collapsed": false,
    "pycharm": {
     "name": "#%%\n"
    }
   },
   "outputs": [],
   "source": [
    "# TODO: Implement task 3"
   ]
  },
  {
   "cell_type": "markdown",
   "metadata": {
    "collapsed": false
   },
   "source": [
    "### Questions\n",
    "1. How did the DT compare to the RF in performance? Why?\n",
    "    - *Answer*\n",
    "2. After fine-tuning, how does the max depth in DT compare to RF? Why?\n",
    "    - *Answer*\n",
    "3. What is ensemble learning? What are its pros and cons?\n",
    "    - *Answer*\n",
    "4. Briefly explain 2 types of boosting methods and 2 types of bagging methods.\n",
    "Which of these categories does RF fall under?\n",
    "    - *Answer*"
   ]
  },
  {
   "cell_type": "markdown",
   "metadata": {
    "collapsed": false,
    "pycharm": {
     "name": "#%% md\n"
    }
   },
   "source": [
    "# Task 4: Domain Gap (15%)\n",
    "\n",
    "Evaluate your CNN model from task 2 on SVHN data without retraining your model."
   ]
  },
  {
   "cell_type": "code",
   "execution_count": 372,
   "metadata": {
    "collapsed": false,
    "pycharm": {
     "name": "#%%\n"
    }
   },
   "outputs": [],
   "source": [
    "# TODO: Implement task 4"
   ]
  },
  {
   "cell_type": "markdown",
   "metadata": {
    "collapsed": false,
    "pycharm": {
     "name": "#%% md\n"
    }
   },
   "source": [
    "### Questions\n",
    "1. How did your model perform? Why is it better/worse?\n",
    "    - *Answer*\n",
    "2. What is domain gap in the context of ML?\n",
    "    - *Answer*\n",
    "3. Suggest two ways through which the problem of domain gap can be tackled.\n",
    "    - *Answer*"
   ]
  }
 ],
 "metadata": {
  "kernelspec": {
   "display_name": "Python 3.10.7 64-bit",
   "language": "python",
   "name": "python3"
  },
  "language_info": {
   "codemirror_mode": {
    "name": "ipython",
    "version": 3
   },
   "file_extension": ".py",
   "mimetype": "text/x-python",
   "name": "python",
   "nbconvert_exporter": "python",
   "pygments_lexer": "ipython3",
   "version": "3.10.7"
  },
  "vscode": {
   "interpreter": {
    "hash": "26de051ba29f2982a8de78e945f0abaf191376122a1563185a90213a26c5da77"
   }
  }
 },
 "nbformat": 4,
 "nbformat_minor": 0
}
