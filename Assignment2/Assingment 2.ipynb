{
 "cells": [
  {
   "cell_type": "markdown",
   "metadata": {
    "collapsed": true,
    "pycharm": {
     "name": "#%% md\n"
    }
   },
   "source": [
    "# Assignment 2\n",
    "\n",
    "## Instructions\n",
    "- Your submission should be the `.ipynb` file with your name,\n",
    "  like `YusufMesbah.ipynb`. it should include the answers to the questions in\n",
    "  markdown cells.\n",
    "- You are expected to follow the best practices for code writing and model\n",
    "training. Poor coding style will be penalized.\n",
    "- You are allowed to discuss ideas with your peers, but no sharing of code.\n",
    "Plagiarism in the code will result in failing. If you use code from the\n",
    "internet, cite it.\n",
    "- If the instructions seem vague, use common sense."
   ]
  },
  {
   "cell_type": "markdown",
   "metadata": {
    "collapsed": false
   },
   "source": [
    "# Task 1: ANN (30%)\n",
    "For this task, you are required to build a fully connect feed-forward ANN model\n",
    "for a multi-label regression problem.\n",
    "\n",
    "For the given data, you need do proper data preprocessing, design the ANN model,\n",
    "then fine-tune your model architecture (number of layers, number of neurons,\n",
    "activation function, learning rate, momentum, regularization).\n",
    "\n",
    "For evaluating your model, do $80/20$ train test split.\n",
    "\n",
    "### Data\n",
    "You will be working with the data in `Task 1.csv` for predicting students'\n",
    "scores in 3 different exams: math, reading and writing. The columns include:\n",
    " - gender\n",
    " - race\n",
    " - parental level of education\n",
    " - lunch meal plan at school\n",
    " - whether the student undertook the test preparation course"
   ]
  },
  {
   "cell_type": "code",
   "execution_count": 726,
   "metadata": {},
   "outputs": [
    {
     "name": "stdout",
     "output_type": "stream",
     "text": [
      "(1000, 8)\n"
     ]
    },
    {
     "data": {
      "text/html": [
       "<div>\n",
       "<style scoped>\n",
       "    .dataframe tbody tr th:only-of-type {\n",
       "        vertical-align: middle;\n",
       "    }\n",
       "\n",
       "    .dataframe tbody tr th {\n",
       "        vertical-align: top;\n",
       "    }\n",
       "\n",
       "    .dataframe thead th {\n",
       "        text-align: right;\n",
       "    }\n",
       "</style>\n",
       "<table border=\"1\" class=\"dataframe\">\n",
       "  <thead>\n",
       "    <tr style=\"text-align: right;\">\n",
       "      <th></th>\n",
       "      <th>gender</th>\n",
       "      <th>race/ethnicity</th>\n",
       "      <th>parental level of education</th>\n",
       "      <th>lunch</th>\n",
       "      <th>test preparation course</th>\n",
       "      <th>math score</th>\n",
       "      <th>reading score</th>\n",
       "      <th>writing score</th>\n",
       "    </tr>\n",
       "  </thead>\n",
       "  <tbody>\n",
       "    <tr>\n",
       "      <th>0</th>\n",
       "      <td>male</td>\n",
       "      <td>group A</td>\n",
       "      <td>high school</td>\n",
       "      <td>standard</td>\n",
       "      <td>completed</td>\n",
       "      <td>67</td>\n",
       "      <td>67</td>\n",
       "      <td>63</td>\n",
       "    </tr>\n",
       "    <tr>\n",
       "      <th>1</th>\n",
       "      <td>female</td>\n",
       "      <td>group D</td>\n",
       "      <td>some high school</td>\n",
       "      <td>free/reduced</td>\n",
       "      <td>none</td>\n",
       "      <td>40</td>\n",
       "      <td>59</td>\n",
       "      <td>55</td>\n",
       "    </tr>\n",
       "    <tr>\n",
       "      <th>2</th>\n",
       "      <td>male</td>\n",
       "      <td>group E</td>\n",
       "      <td>some college</td>\n",
       "      <td>free/reduced</td>\n",
       "      <td>none</td>\n",
       "      <td>59</td>\n",
       "      <td>60</td>\n",
       "      <td>50</td>\n",
       "    </tr>\n",
       "    <tr>\n",
       "      <th>3</th>\n",
       "      <td>male</td>\n",
       "      <td>group B</td>\n",
       "      <td>high school</td>\n",
       "      <td>standard</td>\n",
       "      <td>none</td>\n",
       "      <td>77</td>\n",
       "      <td>78</td>\n",
       "      <td>68</td>\n",
       "    </tr>\n",
       "    <tr>\n",
       "      <th>4</th>\n",
       "      <td>male</td>\n",
       "      <td>group E</td>\n",
       "      <td>associate's degree</td>\n",
       "      <td>standard</td>\n",
       "      <td>completed</td>\n",
       "      <td>78</td>\n",
       "      <td>73</td>\n",
       "      <td>68</td>\n",
       "    </tr>\n",
       "  </tbody>\n",
       "</table>\n",
       "</div>"
      ],
      "text/plain": [
       "   gender race/ethnicity parental level of education         lunch  \\\n",
       "0    male        group A                 high school      standard   \n",
       "1  female        group D            some high school  free/reduced   \n",
       "2    male        group E                some college  free/reduced   \n",
       "3    male        group B                 high school      standard   \n",
       "4    male        group E          associate's degree      standard   \n",
       "\n",
       "  test preparation course  math score  reading score  writing score  \n",
       "0               completed          67             67             63  \n",
       "1                    none          40             59             55  \n",
       "2                    none          59             60             50  \n",
       "3                    none          77             78             68  \n",
       "4               completed          78             73             68  "
      ]
     },
     "execution_count": 726,
     "metadata": {},
     "output_type": "execute_result"
    }
   ],
   "source": [
    "import pandas as pd\n",
    "\n",
    "# Read data set\n",
    "data = pd.read_csv('Task 1.csv')\n",
    "print(data.shape)\n",
    "data.head()"
   ]
  },
  {
   "cell_type": "code",
   "execution_count": 727,
   "metadata": {},
   "outputs": [
    {
     "name": "stdout",
     "output_type": "stream",
     "text": [
      "2\n",
      "2\n",
      "2\n"
     ]
    }
   ],
   "source": [
    "# Check count of distinct values in columns gender, lunch\n",
    "print(data['gender'].nunique())\n",
    "print(data['lunch'].nunique())\n",
    "print(data['test preparation course'].nunique())"
   ]
  },
  {
   "cell_type": "code",
   "execution_count": 728,
   "metadata": {},
   "outputs": [],
   "source": [
    "from sklearn.preprocessing import OrdinalEncoder, OneHotEncoder\n",
    "\n",
    "# Create encoder\n",
    "ordinalEncoder = OrdinalEncoder()\n",
    "oneHotEncoder = OneHotEncoder()\n",
    "\n",
    "ordinal_features = ['race/ethnicity', 'parental level of education']\n",
    "one_hot_features = ['gender', 'lunch', 'test preparation course']"
   ]
  },
  {
   "cell_type": "code",
   "execution_count": 729,
   "metadata": {},
   "outputs": [],
   "source": [
    "# Encode ordinal features\n",
    "new_oe_features = ordinalEncoder.fit_transform(data[ordinal_features])\n",
    "new_oe_cols = pd.DataFrame(new_oe_features, dtype=int, columns=ordinal_features)"
   ]
  },
  {
   "cell_type": "code",
   "execution_count": 730,
   "metadata": {},
   "outputs": [
    {
     "name": "stderr",
     "output_type": "stream",
     "text": [
      "/home/dale/.local/lib/python3.8/site-packages/sklearn/utils/deprecation.py:87: FutureWarning: Function get_feature_names is deprecated; get_feature_names is deprecated in 1.0 and will be removed in 1.2. Please use get_feature_names_out instead.\n",
      "  warnings.warn(msg, category=FutureWarning)\n"
     ]
    }
   ],
   "source": [
    "# Encode one hot features\n",
    "new_ohe_features = oneHotEncoder.fit_transform(data[one_hot_features])\n",
    "new_ohe_cols = pd.DataFrame(new_ohe_features.toarray(), dtype=int, columns=oneHotEncoder.get_feature_names(one_hot_features))"
   ]
  },
  {
   "cell_type": "code",
   "execution_count": 731,
   "metadata": {},
   "outputs": [
    {
     "data": {
      "text/html": [
       "<div>\n",
       "<style scoped>\n",
       "    .dataframe tbody tr th:only-of-type {\n",
       "        vertical-align: middle;\n",
       "    }\n",
       "\n",
       "    .dataframe tbody tr th {\n",
       "        vertical-align: top;\n",
       "    }\n",
       "\n",
       "    .dataframe thead th {\n",
       "        text-align: right;\n",
       "    }\n",
       "</style>\n",
       "<table border=\"1\" class=\"dataframe\">\n",
       "  <thead>\n",
       "    <tr style=\"text-align: right;\">\n",
       "      <th></th>\n",
       "      <th>math score</th>\n",
       "      <th>reading score</th>\n",
       "      <th>writing score</th>\n",
       "      <th>race/ethnicity</th>\n",
       "      <th>parental level of education</th>\n",
       "      <th>gender_female</th>\n",
       "      <th>gender_male</th>\n",
       "      <th>lunch_free/reduced</th>\n",
       "      <th>lunch_standard</th>\n",
       "      <th>test preparation course_completed</th>\n",
       "      <th>test preparation course_none</th>\n",
       "    </tr>\n",
       "  </thead>\n",
       "  <tbody>\n",
       "    <tr>\n",
       "      <th>0</th>\n",
       "      <td>67</td>\n",
       "      <td>67</td>\n",
       "      <td>63</td>\n",
       "      <td>0</td>\n",
       "      <td>2</td>\n",
       "      <td>0</td>\n",
       "      <td>1</td>\n",
       "      <td>0</td>\n",
       "      <td>1</td>\n",
       "      <td>1</td>\n",
       "      <td>0</td>\n",
       "    </tr>\n",
       "    <tr>\n",
       "      <th>1</th>\n",
       "      <td>40</td>\n",
       "      <td>59</td>\n",
       "      <td>55</td>\n",
       "      <td>3</td>\n",
       "      <td>5</td>\n",
       "      <td>1</td>\n",
       "      <td>0</td>\n",
       "      <td>1</td>\n",
       "      <td>0</td>\n",
       "      <td>0</td>\n",
       "      <td>1</td>\n",
       "    </tr>\n",
       "    <tr>\n",
       "      <th>2</th>\n",
       "      <td>59</td>\n",
       "      <td>60</td>\n",
       "      <td>50</td>\n",
       "      <td>4</td>\n",
       "      <td>4</td>\n",
       "      <td>0</td>\n",
       "      <td>1</td>\n",
       "      <td>1</td>\n",
       "      <td>0</td>\n",
       "      <td>0</td>\n",
       "      <td>1</td>\n",
       "    </tr>\n",
       "    <tr>\n",
       "      <th>3</th>\n",
       "      <td>77</td>\n",
       "      <td>78</td>\n",
       "      <td>68</td>\n",
       "      <td>1</td>\n",
       "      <td>2</td>\n",
       "      <td>0</td>\n",
       "      <td>1</td>\n",
       "      <td>0</td>\n",
       "      <td>1</td>\n",
       "      <td>0</td>\n",
       "      <td>1</td>\n",
       "    </tr>\n",
       "    <tr>\n",
       "      <th>4</th>\n",
       "      <td>78</td>\n",
       "      <td>73</td>\n",
       "      <td>68</td>\n",
       "      <td>4</td>\n",
       "      <td>0</td>\n",
       "      <td>0</td>\n",
       "      <td>1</td>\n",
       "      <td>0</td>\n",
       "      <td>1</td>\n",
       "      <td>1</td>\n",
       "      <td>0</td>\n",
       "    </tr>\n",
       "  </tbody>\n",
       "</table>\n",
       "</div>"
      ],
      "text/plain": [
       "   math score  reading score  writing score  race/ethnicity  \\\n",
       "0          67             67             63               0   \n",
       "1          40             59             55               3   \n",
       "2          59             60             50               4   \n",
       "3          77             78             68               1   \n",
       "4          78             73             68               4   \n",
       "\n",
       "   parental level of education  gender_female  gender_male  \\\n",
       "0                            2              0            1   \n",
       "1                            5              1            0   \n",
       "2                            4              0            1   \n",
       "3                            2              0            1   \n",
       "4                            0              0            1   \n",
       "\n",
       "   lunch_free/reduced  lunch_standard  test preparation course_completed  \\\n",
       "0                   0               1                                  1   \n",
       "1                   1               0                                  0   \n",
       "2                   1               0                                  0   \n",
       "3                   0               1                                  0   \n",
       "4                   0               1                                  1   \n",
       "\n",
       "   test preparation course_none  \n",
       "0                             0  \n",
       "1                             1  \n",
       "2                             1  \n",
       "3                             1  \n",
       "4                             0  "
      ]
     },
     "execution_count": 731,
     "metadata": {},
     "output_type": "execute_result"
    }
   ],
   "source": [
    "# Combine all features\n",
    "new_data = pd.concat([data], axis=1)\n",
    "new_data = new_data.drop(columns=ordinal_features + one_hot_features)\n",
    "new_data = pd.concat([new_data, new_oe_cols, new_ohe_cols], axis=1)\n",
    "new_data.head()"
   ]
  },
  {
   "cell_type": "code",
   "execution_count": 732,
   "metadata": {},
   "outputs": [],
   "source": [
    "from sklearn.model_selection import train_test_split\n",
    "\n",
    "# Split data to target and features\n",
    "X = new_data.iloc[:, 3:].values\n",
    "y = new_data.iloc[:, :3].values\n",
    "\n",
    "# Split data to training and testing\n",
    "X_train, X_test, y_train, y_test = train_test_split(X, y, test_size=0.2, shuffle=True)"
   ]
  },
  {
   "cell_type": "code",
   "execution_count": 733,
   "metadata": {},
   "outputs": [],
   "source": [
    "from sklearn.preprocessing import StandardScaler\n",
    "\n",
    "# Scale testing and training data\n",
    "scaler = StandardScaler()\n",
    "scaler.fit(X_train)\n",
    "\n",
    "# Create Data Frames with scaled data\n",
    "X_train = scaler.transform(X_train)\n",
    "X_test = scaler.transform(X_test)"
   ]
  },
  {
   "cell_type": "code",
   "execution_count": 734,
   "metadata": {},
   "outputs": [],
   "source": [
    "# Scale target data\n",
    "scaler = StandardScaler()\n",
    "scaler.fit(y_train)\n",
    "\n",
    "# Create Data Frames with scaled data\n",
    "y_train = scaler.transform(y_train)\n",
    "y_test = scaler.transform(y_test)"
   ]
  },
  {
   "cell_type": "code",
   "execution_count": 735,
   "metadata": {},
   "outputs": [],
   "source": [
    "import torch\n",
    "from torch.utils.data import Dataset, DataLoader\n",
    "\n",
    "# Custom dataset class\n",
    "class CustomDataset(Dataset):\n",
    "    def __init__(self, X, y):\n",
    "        super().__init__()\n",
    "        self.y = torch.tensor(y).float()\n",
    "        self.X = torch.tensor(X).float()\n",
    "\n",
    "    def __len__(self):\n",
    "        return len(self.X)\n",
    "    \n",
    "    def __getitem__(self, idx):\n",
    "        return self.X[idx, :], self.y[idx]"
   ]
  },
  {
   "cell_type": "code",
   "execution_count": 736,
   "metadata": {},
   "outputs": [],
   "source": [
    "batch_size = 32\n",
    "\n",
    "train_dataset = CustomDataset(X_train, y_train)\n",
    "test_dataset = CustomDataset(X_test, y_test)\n",
    "\n",
    "train_dataloader = DataLoader(train_dataset, batch_size, shuffle=True)\n",
    "test_dataloader = DataLoader(test_dataset, batch_size, shuffle=False)"
   ]
  },
  {
   "cell_type": "code",
   "execution_count": 737,
   "metadata": {},
   "outputs": [
    {
     "data": {
      "text/plain": [
       "torch.Size([32, 3])"
      ]
     },
     "execution_count": 737,
     "metadata": {},
     "output_type": "execute_result"
    }
   ],
   "source": [
    "data, label = next(iter(train_dataloader))\n",
    "label.shape"
   ]
  },
  {
   "cell_type": "code",
   "execution_count": 738,
   "metadata": {},
   "outputs": [
    {
     "name": "stdout",
     "output_type": "stream",
     "text": [
      "ANN(\n",
      "  (hidden3): Linear(in_features=8, out_features=4, bias=True)\n",
      "  (output): Linear(in_features=4, out_features=3, bias=True)\n",
      ")\n"
     ]
    }
   ],
   "source": [
    "import torch\n",
    "import torch.nn as nn\n",
    "import torch.nn.functional as F\n",
    "\n",
    "# Custom neural network class\n",
    "class ANN(nn.Module):\n",
    "    def __init__(self):\n",
    "        super(ANN, self).__init__()\n",
    "        # self.hidden1 = nn.Linear(14, 10)\n",
    "        # self.hidden2 = nn.Linear(10, 8)\n",
    "        self.hidden3 = nn.Linear(8, 4)\n",
    "        self.output = nn.Linear(4, 3)\n",
    "\n",
    "    def forward(self, x):\n",
    "        # x = F.leaky_relu(self.hidden1(x))\n",
    "        # x = F.leaky_relu(self.hidden2(x))\n",
    "        x = F.leaky_relu(self.hidden3(x))\n",
    "        x = self.output(x)\n",
    "        return x\n",
    "\n",
    "# Create neural network\n",
    "use_cuda = torch.cuda.is_available()\n",
    "device = torch.device(\"cuda\" if use_cuda else \"cpu\")\n",
    "model = ANN().to(device)\n",
    "\n",
    "print(model)"
   ]
  },
  {
   "cell_type": "code",
   "execution_count": 739,
   "metadata": {},
   "outputs": [],
   "source": [
    "epochs = 10\n",
    "lr = 0.01\n",
    "momentum = 0.5\n",
    "seed = 1\n",
    "log_interval = 2\n",
    "\n",
    "loss_fn = nn.MSELoss(reduction='mean')"
   ]
  },
  {
   "cell_type": "code",
   "execution_count": 740,
   "metadata": {},
   "outputs": [],
   "source": [
    "def train( model, device, train_loader, optimizer, epoch):\n",
    "    model.train()\n",
    "    for batch_idx, (data, target) in enumerate(train_loader):\n",
    "        data, target = data.to(device), target.to(device)\n",
    "        optimizer.zero_grad() \n",
    "        output = model(data).squeeze()\n",
    "        loss = loss_fn(output, target) \n",
    "        loss.backward()\n",
    "        optimizer.step()\n",
    "        if batch_idx % log_interval == 0:\n",
    "            print('Train Epoch: {} [{}/{} ({:.0f}%)]\\tLoss: {:.6f}'.format(\n",
    "                epoch, batch_idx * len(data), len(train_loader.dataset),\n",
    "                       100. * batch_idx / len(train_loader), loss.item()))"
   ]
  },
  {
   "cell_type": "code",
   "execution_count": 741,
   "metadata": {},
   "outputs": [],
   "source": [
    "def test(model, device, test_loader):\n",
    "    model.eval()\n",
    "    test_loss = 0\n",
    "    with torch.no_grad():\n",
    "        for data, target in test_loader:\n",
    "            data, target = data.to(device), target.to(device)\n",
    "            output = model(data).squeeze() \n",
    "            test_loss += loss_fn(output, target).item()  # sum up batch loss \n",
    "\n",
    "    test_loss /= len(test_loader.dataset)\n",
    "\n",
    "    print('\\nTest set: Average loss: {:.4f}\\n'.format(\n",
    "        test_loss))"
   ]
  },
  {
   "cell_type": "code",
   "execution_count": 742,
   "metadata": {},
   "outputs": [
    {
     "name": "stdout",
     "output_type": "stream",
     "text": [
      "Train Epoch: 1 [0/800 (0%)]\tLoss: 1.486703\n",
      "Train Epoch: 1 [64/800 (8%)]\tLoss: 0.736567\n",
      "Train Epoch: 1 [128/800 (16%)]\tLoss: 0.959596\n",
      "Train Epoch: 1 [192/800 (24%)]\tLoss: 1.068595\n",
      "Train Epoch: 1 [256/800 (32%)]\tLoss: 0.892480\n",
      "Train Epoch: 1 [320/800 (40%)]\tLoss: 1.129210\n",
      "Train Epoch: 1 [384/800 (48%)]\tLoss: 1.107879\n",
      "Train Epoch: 1 [448/800 (56%)]\tLoss: 1.009586\n",
      "Train Epoch: 1 [512/800 (64%)]\tLoss: 1.189214\n",
      "Train Epoch: 1 [576/800 (72%)]\tLoss: 1.058165\n",
      "Train Epoch: 1 [640/800 (80%)]\tLoss: 0.761957\n",
      "Train Epoch: 1 [704/800 (88%)]\tLoss: 0.855828\n",
      "Train Epoch: 1 [768/800 (96%)]\tLoss: 0.789668\n",
      "\n",
      "Test set: Average loss: 0.0352\n",
      "\n",
      "Train Epoch: 2 [0/800 (0%)]\tLoss: 0.998031\n",
      "Train Epoch: 2 [64/800 (8%)]\tLoss: 1.051263\n",
      "Train Epoch: 2 [128/800 (16%)]\tLoss: 0.747223\n",
      "Train Epoch: 2 [192/800 (24%)]\tLoss: 0.929103\n",
      "Train Epoch: 2 [256/800 (32%)]\tLoss: 0.958430\n",
      "Train Epoch: 2 [320/800 (40%)]\tLoss: 0.966292\n",
      "Train Epoch: 2 [384/800 (48%)]\tLoss: 0.827203\n",
      "Train Epoch: 2 [448/800 (56%)]\tLoss: 0.794993\n",
      "Train Epoch: 2 [512/800 (64%)]\tLoss: 1.069606\n",
      "Train Epoch: 2 [576/800 (72%)]\tLoss: 0.910182\n",
      "Train Epoch: 2 [640/800 (80%)]\tLoss: 0.818784\n",
      "Train Epoch: 2 [704/800 (88%)]\tLoss: 0.815685\n",
      "Train Epoch: 2 [768/800 (96%)]\tLoss: 0.806221\n",
      "\n",
      "Test set: Average loss: 0.0338\n",
      "\n",
      "Train Epoch: 3 [0/800 (0%)]\tLoss: 1.034884\n",
      "Train Epoch: 3 [64/800 (8%)]\tLoss: 1.101498\n",
      "Train Epoch: 3 [128/800 (16%)]\tLoss: 0.874946\n",
      "Train Epoch: 3 [192/800 (24%)]\tLoss: 0.840290\n",
      "Train Epoch: 3 [256/800 (32%)]\tLoss: 1.045121\n",
      "Train Epoch: 3 [320/800 (40%)]\tLoss: 0.843468\n",
      "Train Epoch: 3 [384/800 (48%)]\tLoss: 0.701046\n",
      "Train Epoch: 3 [448/800 (56%)]\tLoss: 0.631178\n",
      "Train Epoch: 3 [512/800 (64%)]\tLoss: 1.021044\n",
      "Train Epoch: 3 [576/800 (72%)]\tLoss: 0.798010\n",
      "Train Epoch: 3 [640/800 (80%)]\tLoss: 0.909833\n",
      "Train Epoch: 3 [704/800 (88%)]\tLoss: 0.920326\n",
      "Train Epoch: 3 [768/800 (96%)]\tLoss: 0.600820\n",
      "\n",
      "Test set: Average loss: 0.0330\n",
      "\n",
      "Train Epoch: 4 [0/800 (0%)]\tLoss: 0.674843\n",
      "Train Epoch: 4 [64/800 (8%)]\tLoss: 0.972354\n",
      "Train Epoch: 4 [128/800 (16%)]\tLoss: 0.902559\n",
      "Train Epoch: 4 [192/800 (24%)]\tLoss: 0.772459\n",
      "Train Epoch: 4 [256/800 (32%)]\tLoss: 0.723563\n",
      "Train Epoch: 4 [320/800 (40%)]\tLoss: 0.676645\n",
      "Train Epoch: 4 [384/800 (48%)]\tLoss: 0.874664\n",
      "Train Epoch: 4 [448/800 (56%)]\tLoss: 1.119202\n",
      "Train Epoch: 4 [512/800 (64%)]\tLoss: 0.925407\n",
      "Train Epoch: 4 [576/800 (72%)]\tLoss: 1.117092\n",
      "Train Epoch: 4 [640/800 (80%)]\tLoss: 0.970712\n",
      "Train Epoch: 4 [704/800 (88%)]\tLoss: 0.780448\n",
      "Train Epoch: 4 [768/800 (96%)]\tLoss: 0.911595\n",
      "\n",
      "Test set: Average loss: 0.0324\n",
      "\n",
      "Train Epoch: 5 [0/800 (0%)]\tLoss: 0.746963\n",
      "Train Epoch: 5 [64/800 (8%)]\tLoss: 0.924544\n",
      "Train Epoch: 5 [128/800 (16%)]\tLoss: 0.855175\n",
      "Train Epoch: 5 [192/800 (24%)]\tLoss: 0.632217\n",
      "Train Epoch: 5 [256/800 (32%)]\tLoss: 0.903012\n",
      "Train Epoch: 5 [320/800 (40%)]\tLoss: 0.871021\n",
      "Train Epoch: 5 [384/800 (48%)]\tLoss: 0.691409\n",
      "Train Epoch: 5 [448/800 (56%)]\tLoss: 0.889014\n",
      "Train Epoch: 5 [512/800 (64%)]\tLoss: 0.780410\n",
      "Train Epoch: 5 [576/800 (72%)]\tLoss: 0.862297\n",
      "Train Epoch: 5 [640/800 (80%)]\tLoss: 0.900117\n",
      "Train Epoch: 5 [704/800 (88%)]\tLoss: 0.653729\n",
      "Train Epoch: 5 [768/800 (96%)]\tLoss: 1.367696\n",
      "\n",
      "Test set: Average loss: 0.0320\n",
      "\n",
      "Train Epoch: 6 [0/800 (0%)]\tLoss: 0.958495\n",
      "Train Epoch: 6 [64/800 (8%)]\tLoss: 0.642869\n",
      "Train Epoch: 6 [128/800 (16%)]\tLoss: 0.698260\n",
      "Train Epoch: 6 [192/800 (24%)]\tLoss: 0.740782\n",
      "Train Epoch: 6 [256/800 (32%)]\tLoss: 0.853072\n",
      "Train Epoch: 6 [320/800 (40%)]\tLoss: 0.738217\n",
      "Train Epoch: 6 [384/800 (48%)]\tLoss: 0.821230\n",
      "Train Epoch: 6 [448/800 (56%)]\tLoss: 0.935675\n",
      "Train Epoch: 6 [512/800 (64%)]\tLoss: 0.742979\n",
      "Train Epoch: 6 [576/800 (72%)]\tLoss: 0.776640\n",
      "Train Epoch: 6 [640/800 (80%)]\tLoss: 1.060261\n",
      "Train Epoch: 6 [704/800 (88%)]\tLoss: 0.862377\n",
      "Train Epoch: 6 [768/800 (96%)]\tLoss: 0.576029\n",
      "\n",
      "Test set: Average loss: 0.0316\n",
      "\n",
      "Train Epoch: 7 [0/800 (0%)]\tLoss: 0.768537\n",
      "Train Epoch: 7 [64/800 (8%)]\tLoss: 0.949477\n",
      "Train Epoch: 7 [128/800 (16%)]\tLoss: 0.980834\n",
      "Train Epoch: 7 [192/800 (24%)]\tLoss: 0.829115\n",
      "Train Epoch: 7 [256/800 (32%)]\tLoss: 0.808797\n",
      "Train Epoch: 7 [320/800 (40%)]\tLoss: 0.952721\n",
      "Train Epoch: 7 [384/800 (48%)]\tLoss: 0.829281\n",
      "Train Epoch: 7 [448/800 (56%)]\tLoss: 0.895377\n",
      "Train Epoch: 7 [512/800 (64%)]\tLoss: 0.904105\n",
      "Train Epoch: 7 [576/800 (72%)]\tLoss: 0.516166\n",
      "Train Epoch: 7 [640/800 (80%)]\tLoss: 0.836045\n",
      "Train Epoch: 7 [704/800 (88%)]\tLoss: 0.678150\n",
      "Train Epoch: 7 [768/800 (96%)]\tLoss: 0.714659\n",
      "\n",
      "Test set: Average loss: 0.0313\n",
      "\n",
      "Train Epoch: 8 [0/800 (0%)]\tLoss: 0.719221\n",
      "Train Epoch: 8 [64/800 (8%)]\tLoss: 0.752325\n",
      "Train Epoch: 8 [128/800 (16%)]\tLoss: 0.527650\n",
      "Train Epoch: 8 [192/800 (24%)]\tLoss: 0.797708\n",
      "Train Epoch: 8 [256/800 (32%)]\tLoss: 0.952976\n",
      "Train Epoch: 8 [320/800 (40%)]\tLoss: 0.579808\n",
      "Train Epoch: 8 [384/800 (48%)]\tLoss: 0.903231\n",
      "Train Epoch: 8 [448/800 (56%)]\tLoss: 0.793201\n",
      "Train Epoch: 8 [512/800 (64%)]\tLoss: 0.854632\n",
      "Train Epoch: 8 [576/800 (72%)]\tLoss: 0.759561\n",
      "Train Epoch: 8 [640/800 (80%)]\tLoss: 1.082270\n",
      "Train Epoch: 8 [704/800 (88%)]\tLoss: 0.835063\n",
      "Train Epoch: 8 [768/800 (96%)]\tLoss: 0.763045\n",
      "\n",
      "Test set: Average loss: 0.0310\n",
      "\n",
      "Train Epoch: 9 [0/800 (0%)]\tLoss: 0.877174\n",
      "Train Epoch: 9 [64/800 (8%)]\tLoss: 0.561142\n",
      "Train Epoch: 9 [128/800 (16%)]\tLoss: 0.657443\n",
      "Train Epoch: 9 [192/800 (24%)]\tLoss: 1.213219\n",
      "Train Epoch: 9 [256/800 (32%)]\tLoss: 0.724201\n",
      "Train Epoch: 9 [320/800 (40%)]\tLoss: 0.815562\n",
      "Train Epoch: 9 [384/800 (48%)]\tLoss: 0.776725\n",
      "Train Epoch: 9 [448/800 (56%)]\tLoss: 0.862811\n",
      "Train Epoch: 9 [512/800 (64%)]\tLoss: 0.856063\n",
      "Train Epoch: 9 [576/800 (72%)]\tLoss: 0.719904\n",
      "Train Epoch: 9 [640/800 (80%)]\tLoss: 0.976074\n",
      "Train Epoch: 9 [704/800 (88%)]\tLoss: 0.879952\n",
      "Train Epoch: 9 [768/800 (96%)]\tLoss: 0.682634\n",
      "\n",
      "Test set: Average loss: 0.0307\n",
      "\n",
      "Train Epoch: 10 [0/800 (0%)]\tLoss: 1.188603\n",
      "Train Epoch: 10 [64/800 (8%)]\tLoss: 0.825322\n",
      "Train Epoch: 10 [128/800 (16%)]\tLoss: 0.618878\n",
      "Train Epoch: 10 [192/800 (24%)]\tLoss: 0.914263\n",
      "Train Epoch: 10 [256/800 (32%)]\tLoss: 0.833883\n",
      "Train Epoch: 10 [320/800 (40%)]\tLoss: 0.744423\n",
      "Train Epoch: 10 [384/800 (48%)]\tLoss: 0.732632\n",
      "Train Epoch: 10 [448/800 (56%)]\tLoss: 0.812765\n",
      "Train Epoch: 10 [512/800 (64%)]\tLoss: 0.827389\n",
      "Train Epoch: 10 [576/800 (72%)]\tLoss: 0.877626\n",
      "Train Epoch: 10 [640/800 (80%)]\tLoss: 0.520767\n",
      "Train Epoch: 10 [704/800 (88%)]\tLoss: 0.905541\n",
      "Train Epoch: 10 [768/800 (96%)]\tLoss: 0.733609\n",
      "\n",
      "Test set: Average loss: 0.0305\n",
      "\n"
     ]
    }
   ],
   "source": [
    "import torch.optim as optim\n",
    "\n",
    "optimizer = optim.SGD(model.parameters(), lr=lr, momentum=momentum)\n",
    "\n",
    "\n",
    "for epoch in range(1, epochs + 1):\n",
    "    train(model, device, train_dataloader, optimizer, epoch)\n",
    "    test(model, device, test_dataloader)"
   ]
  },
  {
   "cell_type": "markdown",
   "metadata": {
    "collapsed": false
   },
   "source": [
    "### Questions\n",
    "1. What preprocessing techniques did you use? Why?\n",
    "    - *Answer*\n",
    "2. Describe the fine-tuning process and how you reached your model architecture.\n",
    "    - *Answer*"
   ]
  },
  {
   "cell_type": "markdown",
   "metadata": {
    "collapsed": false
   },
   "source": [
    "# Task 2: CNN (40%)\n",
    "For this task, you will be doing image classification:\n",
    "- First, adapt your best model from Task 1 to work on this task, and\n",
    "fit it on the new data. Then, evaluate its performance.\n",
    "- After that, build a CNN model for image classification.\n",
    "- Compare both models in terms of accuracy, number of parameters and speed of\n",
    "inference (the time the model takes to predict 50 samples).\n",
    "\n",
    "For the given data, you need to do proper data preprocessing and augmentation,\n",
    "data loaders.\n",
    "Then fine-tune your model architecture (number of layers, number of filters,\n",
    "activation function, learning rate, momentum, regularization).\n",
    "\n",
    "### Data\n",
    "You will be working with the data in `triple_mnist.zip` for predicting 3-digit\n",
    "numbers writen in the image. Each image contains 3 digits similar to the\n",
    "following example (whose label is `039`):\n",
    "\n",
    "![example](https://github.com/shaohua0116/MultiDigitMNIST/blob/master/asset/examples/039/0_039.png?raw=true)"
   ]
  },
  {
   "cell_type": "code",
   "execution_count": 743,
   "metadata": {
    "collapsed": false,
    "pycharm": {
     "name": "#%%\n"
    }
   },
   "outputs": [],
   "source": [
    "# TODO: Implement task 2"
   ]
  },
  {
   "cell_type": "markdown",
   "metadata": {
    "collapsed": false,
    "pycharm": {
     "name": "#%% md\n"
    }
   },
   "source": [
    "### Questions\n",
    "1. What preprocessing techniques did you use? Why?\n",
    "    - *Answer*\n",
    "2. What data augmentation techniques did you use?\n",
    "    - *Answer*\n",
    "3. Describe the fine-tuning process and how you reached your final CNN model.\n",
    "    - *Answer*"
   ]
  },
  {
   "cell_type": "markdown",
   "metadata": {
    "collapsed": false,
    "pycharm": {
     "name": "#%% md\n"
    }
   },
   "source": [
    "# Task 3: Decision Trees and Ensemble Learning (15%)\n",
    "\n",
    "For the `loan_data.csv` data, predict if the bank should give a loan or not.\n",
    "You need to do the following:\n",
    "- Fine-tune a decision tree on the data\n",
    "- Fine-tune a random forest on the data\n",
    "- Compare their performance\n",
    "- Visualize your DT and one of the trees from the RF\n",
    "\n",
    "For evaluating your models, do $80/20$ train test split.\n",
    "\n",
    "### Data\n",
    "- `credit.policy`: Whether the customer meets the credit underwriting criteria.\n",
    "- `purpose`: The purpose of the loan.\n",
    "- `int.rate`: The interest rate of the loan.\n",
    "- `installment`: The monthly installments owed by the borrower if the loan is funded.\n",
    "- `log.annual.inc`: The natural logarithm of the self-reported annual income of the borrower.\n",
    "- `dti`: The debt-to-income ratio of the borrower.\n",
    "- `fico`: The FICO credit score of the borrower.\n",
    "- `days.with.cr.line`: The number of days the borrower has had a credit line.\n",
    "- `revol.bal`: The borrower's revolving balance.\n",
    "- `revol.util`: The borrower's revolving line utilization rate."
   ]
  },
  {
   "cell_type": "code",
   "execution_count": 744,
   "metadata": {
    "collapsed": false,
    "pycharm": {
     "name": "#%%\n"
    }
   },
   "outputs": [],
   "source": [
    "# TODO: Implement task 3"
   ]
  },
  {
   "cell_type": "markdown",
   "metadata": {
    "collapsed": false
   },
   "source": [
    "### Questions\n",
    "1. How did the DT compare to the RF in performance? Why?\n",
    "    - *Answer*\n",
    "2. After fine-tuning, how does the max depth in DT compare to RF? Why?\n",
    "    - *Answer*\n",
    "3. What is ensemble learning? What are its pros and cons?\n",
    "    - *Answer*\n",
    "4. Briefly explain 2 types of boosting methods and 2 types of bagging methods.\n",
    "Which of these categories does RF fall under?\n",
    "    - *Answer*"
   ]
  },
  {
   "cell_type": "markdown",
   "metadata": {
    "collapsed": false,
    "pycharm": {
     "name": "#%% md\n"
    }
   },
   "source": [
    "# Task 4: Domain Gap (15%)\n",
    "\n",
    "Evaluate your CNN model from task 2 on SVHN data without retraining your model."
   ]
  },
  {
   "cell_type": "code",
   "execution_count": 745,
   "metadata": {
    "collapsed": false,
    "pycharm": {
     "name": "#%%\n"
    }
   },
   "outputs": [],
   "source": [
    "# TODO: Implement task 4"
   ]
  },
  {
   "cell_type": "markdown",
   "metadata": {
    "collapsed": false,
    "pycharm": {
     "name": "#%% md\n"
    }
   },
   "source": [
    "### Questions\n",
    "1. How did your model perform? Why is it better/worse?\n",
    "    - *Answer*\n",
    "2. What is domain gap in the context of ML?\n",
    "    - *Answer*\n",
    "3. Suggest two ways through which the problem of domain gap can be tackled.\n",
    "    - *Answer*"
   ]
  }
 ],
 "metadata": {
  "kernelspec": {
   "display_name": "Python 3.8.10 64-bit",
   "language": "python",
   "name": "python3"
  },
  "language_info": {
   "codemirror_mode": {
    "name": "ipython",
    "version": 3
   },
   "file_extension": ".py",
   "mimetype": "text/x-python",
   "name": "python",
   "nbconvert_exporter": "python",
   "pygments_lexer": "ipython3",
   "version": "3.8.10"
  },
  "vscode": {
   "interpreter": {
    "hash": "916dbcbb3f70747c44a77c7bcd40155683ae19c65e1c03b4aa3499c5328201f1"
   }
  }
 },
 "nbformat": 4,
 "nbformat_minor": 0
}
