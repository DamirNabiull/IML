{
 "cells": [
  {
   "cell_type": "markdown",
   "metadata": {
    "collapsed": true,
    "pycharm": {
     "name": "#%% md\n"
    }
   },
   "source": [
    "# Assignment 2\n",
    "\n",
    "## Instructions\n",
    "- Your submission should be the `.ipynb` file with your name,\n",
    "  like `YusufMesbah.ipynb`. it should include the answers to the questions in\n",
    "  markdown cells.\n",
    "- You are expected to follow the best practices for code writing and model\n",
    "training. Poor coding style will be penalized.\n",
    "- You are allowed to discuss ideas with your peers, but no sharing of code.\n",
    "Plagiarism in the code will result in failing. If you use code from the\n",
    "internet, cite it.\n",
    "- If the instructions seem vague, use common sense."
   ]
  },
  {
   "cell_type": "markdown",
   "metadata": {
    "collapsed": false
   },
   "source": [
    "# Task 1: ANN (30%)\n",
    "For this task, you are required to build a fully connect feed-forward ANN model\n",
    "for a multi-label regression problem.\n",
    "\n",
    "For the given data, you need do proper data preprocessing, design the ANN model,\n",
    "then fine-tune your model architecture (number of layers, number of neurons,\n",
    "activation function, learning rate, momentum, regularization).\n",
    "\n",
    "For evaluating your model, do $80/20$ train test split.\n",
    "\n",
    "### Data\n",
    "You will be working with the data in `Task 1.csv` for predicting students'\n",
    "scores in 3 different exams: math, reading and writing. The columns include:\n",
    " - gender\n",
    " - race\n",
    " - parental level of education\n",
    " - lunch meal plan at school\n",
    " - whether the student undertook the test preparation course"
   ]
  },
  {
   "cell_type": "code",
   "execution_count": 225,
   "metadata": {},
   "outputs": [
    {
     "name": "stdout",
     "output_type": "stream",
     "text": [
      "(1000, 8)\n"
     ]
    },
    {
     "data": {
      "text/html": [
       "<div>\n",
       "<style scoped>\n",
       "    .dataframe tbody tr th:only-of-type {\n",
       "        vertical-align: middle;\n",
       "    }\n",
       "\n",
       "    .dataframe tbody tr th {\n",
       "        vertical-align: top;\n",
       "    }\n",
       "\n",
       "    .dataframe thead th {\n",
       "        text-align: right;\n",
       "    }\n",
       "</style>\n",
       "<table border=\"1\" class=\"dataframe\">\n",
       "  <thead>\n",
       "    <tr style=\"text-align: right;\">\n",
       "      <th></th>\n",
       "      <th>gender</th>\n",
       "      <th>race/ethnicity</th>\n",
       "      <th>parental level of education</th>\n",
       "      <th>lunch</th>\n",
       "      <th>test preparation course</th>\n",
       "      <th>math score</th>\n",
       "      <th>reading score</th>\n",
       "      <th>writing score</th>\n",
       "    </tr>\n",
       "  </thead>\n",
       "  <tbody>\n",
       "    <tr>\n",
       "      <th>0</th>\n",
       "      <td>male</td>\n",
       "      <td>group A</td>\n",
       "      <td>high school</td>\n",
       "      <td>standard</td>\n",
       "      <td>completed</td>\n",
       "      <td>67</td>\n",
       "      <td>67</td>\n",
       "      <td>63</td>\n",
       "    </tr>\n",
       "    <tr>\n",
       "      <th>1</th>\n",
       "      <td>female</td>\n",
       "      <td>group D</td>\n",
       "      <td>some high school</td>\n",
       "      <td>free/reduced</td>\n",
       "      <td>none</td>\n",
       "      <td>40</td>\n",
       "      <td>59</td>\n",
       "      <td>55</td>\n",
       "    </tr>\n",
       "    <tr>\n",
       "      <th>2</th>\n",
       "      <td>male</td>\n",
       "      <td>group E</td>\n",
       "      <td>some college</td>\n",
       "      <td>free/reduced</td>\n",
       "      <td>none</td>\n",
       "      <td>59</td>\n",
       "      <td>60</td>\n",
       "      <td>50</td>\n",
       "    </tr>\n",
       "    <tr>\n",
       "      <th>3</th>\n",
       "      <td>male</td>\n",
       "      <td>group B</td>\n",
       "      <td>high school</td>\n",
       "      <td>standard</td>\n",
       "      <td>none</td>\n",
       "      <td>77</td>\n",
       "      <td>78</td>\n",
       "      <td>68</td>\n",
       "    </tr>\n",
       "    <tr>\n",
       "      <th>4</th>\n",
       "      <td>male</td>\n",
       "      <td>group E</td>\n",
       "      <td>associate's degree</td>\n",
       "      <td>standard</td>\n",
       "      <td>completed</td>\n",
       "      <td>78</td>\n",
       "      <td>73</td>\n",
       "      <td>68</td>\n",
       "    </tr>\n",
       "  </tbody>\n",
       "</table>\n",
       "</div>"
      ],
      "text/plain": [
       "   gender race/ethnicity parental level of education         lunch  \\\n",
       "0    male        group A                 high school      standard   \n",
       "1  female        group D            some high school  free/reduced   \n",
       "2    male        group E                some college  free/reduced   \n",
       "3    male        group B                 high school      standard   \n",
       "4    male        group E          associate's degree      standard   \n",
       "\n",
       "  test preparation course  math score  reading score  writing score  \n",
       "0               completed          67             67             63  \n",
       "1                    none          40             59             55  \n",
       "2                    none          59             60             50  \n",
       "3                    none          77             78             68  \n",
       "4               completed          78             73             68  "
      ]
     },
     "execution_count": 225,
     "metadata": {},
     "output_type": "execute_result"
    }
   ],
   "source": [
    "import pandas as pd\n",
    "import numpy as np\n",
    "\n",
    "# Read data set\n",
    "data = pd.read_csv('Task 1.csv')\n",
    "print(data.shape)\n",
    "data.head()"
   ]
  },
  {
   "cell_type": "code",
   "execution_count": 226,
   "metadata": {},
   "outputs": [
    {
     "name": "stdout",
     "output_type": "stream",
     "text": [
      "2 ['male' 'female']\n",
      "2 ['standard' 'free/reduced']\n",
      "2 ['completed' 'none']\n",
      "5 ['group A' 'group B' 'group C' 'group D' 'group E']\n",
      "6 ['high school' 'some high school' 'some college' \"associate's degree\"\n",
      " \"bachelor's degree\" \"master's degree\"]\n",
      "\n",
      "Orginized parental level of education:  ['some high school', 'high school', 'some college', \"associate's degree\", \"bachelor's degree\", \"master's degree\"]\n"
     ]
    }
   ],
   "source": [
    "# Check count of distinct values in columns gender, lunch\n",
    "gender_col = data['gender'].unique()\n",
    "print(data['gender'].nunique(), gender_col)\n",
    "\n",
    "lunch_col = data['lunch'].unique()\n",
    "print(data['lunch'].nunique(), lunch_col)\n",
    "\n",
    "course_col = data['test preparation course'].unique()\n",
    "print(data['test preparation course'].nunique(), course_col)\n",
    "\n",
    "race_col = data['race/ethnicity'].unique()\n",
    "race_col.sort()\n",
    "print(data['race/ethnicity'].nunique(), race_col)\n",
    "\n",
    "level_col = data['parental level of education'].unique()\n",
    "print(data['parental level of education'].nunique(), level_col)\n",
    "\n",
    "# Array of orginized parental level of education\n",
    "level_col = ['some high school', 'high school', 'some college', 'associate\\'s degree', 'bachelor\\'s degree', 'master\\'s degree']\n",
    "\n",
    "print('\\nOrginized parental level of education: ', level_col)"
   ]
  },
  {
   "cell_type": "code",
   "execution_count": 227,
   "metadata": {},
   "outputs": [],
   "source": [
    "from sklearn.preprocessing import OrdinalEncoder, OneHotEncoder\n",
    "\n",
    "# Create encoder\n",
    "ordinalEncoder = OrdinalEncoder(categories=[race_col, level_col])\n",
    "oneHotEncoder = OneHotEncoder()\n",
    "\n",
    "ordinal_features = ['race/ethnicity', 'parental level of education']\n",
    "one_hot_features = ['gender', 'lunch', 'test preparation course']"
   ]
  },
  {
   "cell_type": "code",
   "execution_count": 228,
   "metadata": {},
   "outputs": [],
   "source": [
    "# Encode ordinal features\n",
    "new_oe_features = ordinalEncoder.fit_transform(data[ordinal_features])\n",
    "new_oe_cols = pd.DataFrame(new_oe_features, dtype=int, columns=ordinal_features)"
   ]
  },
  {
   "cell_type": "code",
   "execution_count": 229,
   "metadata": {},
   "outputs": [
    {
     "name": "stderr",
     "output_type": "stream",
     "text": [
      "C:\\Users\\Dale\\AppData\\Roaming\\Python\\Python310\\site-packages\\sklearn\\utils\\deprecation.py:87: FutureWarning: Function get_feature_names is deprecated; get_feature_names is deprecated in 1.0 and will be removed in 1.2. Please use get_feature_names_out instead.\n",
      "  warnings.warn(msg, category=FutureWarning)\n"
     ]
    }
   ],
   "source": [
    "# Encode one hot features\n",
    "new_ohe_features = oneHotEncoder.fit_transform(data[one_hot_features])\n",
    "new_ohe_cols = pd.DataFrame(new_ohe_features.toarray(), dtype=int, columns=oneHotEncoder.get_feature_names(one_hot_features))"
   ]
  },
  {
   "cell_type": "code",
   "execution_count": 230,
   "metadata": {},
   "outputs": [
    {
     "data": {
      "text/html": [
       "<div>\n",
       "<style scoped>\n",
       "    .dataframe tbody tr th:only-of-type {\n",
       "        vertical-align: middle;\n",
       "    }\n",
       "\n",
       "    .dataframe tbody tr th {\n",
       "        vertical-align: top;\n",
       "    }\n",
       "\n",
       "    .dataframe thead th {\n",
       "        text-align: right;\n",
       "    }\n",
       "</style>\n",
       "<table border=\"1\" class=\"dataframe\">\n",
       "  <thead>\n",
       "    <tr style=\"text-align: right;\">\n",
       "      <th></th>\n",
       "      <th>math score</th>\n",
       "      <th>reading score</th>\n",
       "      <th>writing score</th>\n",
       "      <th>race/ethnicity</th>\n",
       "      <th>parental level of education</th>\n",
       "      <th>gender_female</th>\n",
       "      <th>gender_male</th>\n",
       "      <th>lunch_free/reduced</th>\n",
       "      <th>lunch_standard</th>\n",
       "      <th>test preparation course_completed</th>\n",
       "      <th>test preparation course_none</th>\n",
       "    </tr>\n",
       "  </thead>\n",
       "  <tbody>\n",
       "    <tr>\n",
       "      <th>0</th>\n",
       "      <td>67</td>\n",
       "      <td>67</td>\n",
       "      <td>63</td>\n",
       "      <td>0</td>\n",
       "      <td>1</td>\n",
       "      <td>0</td>\n",
       "      <td>1</td>\n",
       "      <td>0</td>\n",
       "      <td>1</td>\n",
       "      <td>1</td>\n",
       "      <td>0</td>\n",
       "    </tr>\n",
       "    <tr>\n",
       "      <th>1</th>\n",
       "      <td>40</td>\n",
       "      <td>59</td>\n",
       "      <td>55</td>\n",
       "      <td>3</td>\n",
       "      <td>0</td>\n",
       "      <td>1</td>\n",
       "      <td>0</td>\n",
       "      <td>1</td>\n",
       "      <td>0</td>\n",
       "      <td>0</td>\n",
       "      <td>1</td>\n",
       "    </tr>\n",
       "    <tr>\n",
       "      <th>2</th>\n",
       "      <td>59</td>\n",
       "      <td>60</td>\n",
       "      <td>50</td>\n",
       "      <td>4</td>\n",
       "      <td>2</td>\n",
       "      <td>0</td>\n",
       "      <td>1</td>\n",
       "      <td>1</td>\n",
       "      <td>0</td>\n",
       "      <td>0</td>\n",
       "      <td>1</td>\n",
       "    </tr>\n",
       "    <tr>\n",
       "      <th>3</th>\n",
       "      <td>77</td>\n",
       "      <td>78</td>\n",
       "      <td>68</td>\n",
       "      <td>1</td>\n",
       "      <td>1</td>\n",
       "      <td>0</td>\n",
       "      <td>1</td>\n",
       "      <td>0</td>\n",
       "      <td>1</td>\n",
       "      <td>0</td>\n",
       "      <td>1</td>\n",
       "    </tr>\n",
       "    <tr>\n",
       "      <th>4</th>\n",
       "      <td>78</td>\n",
       "      <td>73</td>\n",
       "      <td>68</td>\n",
       "      <td>4</td>\n",
       "      <td>3</td>\n",
       "      <td>0</td>\n",
       "      <td>1</td>\n",
       "      <td>0</td>\n",
       "      <td>1</td>\n",
       "      <td>1</td>\n",
       "      <td>0</td>\n",
       "    </tr>\n",
       "  </tbody>\n",
       "</table>\n",
       "</div>"
      ],
      "text/plain": [
       "   math score  reading score  writing score  race/ethnicity  \\\n",
       "0          67             67             63               0   \n",
       "1          40             59             55               3   \n",
       "2          59             60             50               4   \n",
       "3          77             78             68               1   \n",
       "4          78             73             68               4   \n",
       "\n",
       "   parental level of education  gender_female  gender_male  \\\n",
       "0                            1              0            1   \n",
       "1                            0              1            0   \n",
       "2                            2              0            1   \n",
       "3                            1              0            1   \n",
       "4                            3              0            1   \n",
       "\n",
       "   lunch_free/reduced  lunch_standard  test preparation course_completed  \\\n",
       "0                   0               1                                  1   \n",
       "1                   1               0                                  0   \n",
       "2                   1               0                                  0   \n",
       "3                   0               1                                  0   \n",
       "4                   0               1                                  1   \n",
       "\n",
       "   test preparation course_none  \n",
       "0                             0  \n",
       "1                             1  \n",
       "2                             1  \n",
       "3                             1  \n",
       "4                             0  "
      ]
     },
     "execution_count": 230,
     "metadata": {},
     "output_type": "execute_result"
    }
   ],
   "source": [
    "# Combine all features\n",
    "new_data = pd.concat([data], axis=1)\n",
    "new_data = new_data.drop(columns=ordinal_features + one_hot_features )\n",
    "new_data = pd.concat([new_data, new_oe_cols, new_ohe_cols], axis=1)\n",
    "new_data.head()"
   ]
  },
  {
   "cell_type": "code",
   "execution_count": 231,
   "metadata": {},
   "outputs": [],
   "source": [
    "from sklearn.model_selection import train_test_split\n",
    "\n",
    "# Split data to target and features\n",
    "X = new_data.iloc[:, 3:].values\n",
    "y = new_data.iloc[:, :3].values\n",
    "\n",
    "# Split data to training and testing\n",
    "X_train, X_test, y_train, y_test = train_test_split(X, y, test_size=0.2, shuffle=True)"
   ]
  },
  {
   "cell_type": "code",
   "execution_count": 232,
   "metadata": {},
   "outputs": [],
   "source": [
    "from sklearn.preprocessing import StandardScaler\n",
    "\n",
    "# Scale testing and training data\n",
    "scaler = StandardScaler()\n",
    "scaler.fit(X_train)\n",
    "\n",
    "# Create Data Frames with scaled data\n",
    "X_train = scaler.transform(X_train)\n",
    "X_test = scaler.transform(X_test)"
   ]
  },
  {
   "cell_type": "code",
   "execution_count": 233,
   "metadata": {},
   "outputs": [],
   "source": [
    "# # Scale target data\n",
    "# target_scaler = StandardScaler()\n",
    "# target_scaler.fit(y_train)\n",
    "\n",
    "# # Create Data Frames with scaled data\n",
    "# y_train = target_scaler.transform(y_train)\n",
    "# y_test = target_scaler.transform(y_test)"
   ]
  },
  {
   "cell_type": "code",
   "execution_count": 234,
   "metadata": {},
   "outputs": [],
   "source": [
    "import torch\n",
    "from torch.utils.data import Dataset, DataLoader\n",
    "\n",
    "# Custom dataset class\n",
    "class CustomDataset(Dataset):\n",
    "    def __init__(self, X, y):\n",
    "        super().__init__()\n",
    "        self.y = torch.tensor(y).float()\n",
    "        self.X = torch.tensor(X).float()\n",
    "\n",
    "    def __len__(self):\n",
    "        return len(self.X)\n",
    "    \n",
    "    def __getitem__(self, idx):\n",
    "        return self.X[idx, :], self.y[idx]"
   ]
  },
  {
   "cell_type": "code",
   "execution_count": 235,
   "metadata": {},
   "outputs": [],
   "source": [
    "batch_size = 32\n",
    "\n",
    "train_dataset = CustomDataset(X_train, y_train)\n",
    "test_dataset = CustomDataset(X_test, y_test)\n",
    "\n",
    "train_dataloader = DataLoader(train_dataset, batch_size, shuffle=True)\n",
    "test_dataloader = DataLoader(test_dataset, batch_size, shuffle=False)"
   ]
  },
  {
   "cell_type": "code",
   "execution_count": 236,
   "metadata": {},
   "outputs": [
    {
     "data": {
      "text/plain": [
       "torch.Size([32, 3])"
      ]
     },
     "execution_count": 236,
     "metadata": {},
     "output_type": "execute_result"
    }
   ],
   "source": [
    "data, label = next(iter(train_dataloader))\n",
    "label.shape"
   ]
  },
  {
   "cell_type": "code",
   "execution_count": 237,
   "metadata": {},
   "outputs": [
    {
     "name": "stdout",
     "output_type": "stream",
     "text": [
      "cuda\n",
      "ANN(\n",
      "  (hidden1): Linear(in_features=8, out_features=4, bias=True)\n",
      "  (output): Linear(in_features=4, out_features=3, bias=True)\n",
      ")\n"
     ]
    }
   ],
   "source": [
    "import torch\n",
    "import torch.nn as nn\n",
    "import torch.nn.functional as F\n",
    "\n",
    "# Custom neural network class\n",
    "class ANN(nn.Module):\n",
    "    def __init__(self):\n",
    "        super(ANN, self).__init__()\n",
    "        self.hidden1 = nn.Linear(8, 4)\n",
    "        self.output = nn.Linear(4, 3)\n",
    "\n",
    "    def forward(self, x):\n",
    "        x = F.leaky_relu(self.hidden1(x))\n",
    "        x = self.output(x)\n",
    "        return x\n",
    "\n",
    "# Create neural network\n",
    "use_cuda = torch.cuda.is_available()\n",
    "print(\"cuda\" if use_cuda else \"cpu\")\n",
    "device = torch.device(\"cuda\" if use_cuda else \"cpu\")\n",
    "model = ANN().to(device)\n",
    "\n",
    "print(model)"
   ]
  },
  {
   "cell_type": "code",
   "execution_count": 238,
   "metadata": {},
   "outputs": [],
   "source": [
    "epochs = 100\n",
    "lr = 0.001\n",
    "momentum = 0.9\n",
    "seed = 1\n",
    "log_interval = 4\n",
    "\n",
    "loss_fn = nn.MSELoss(reduction='mean')"
   ]
  },
  {
   "cell_type": "code",
   "execution_count": 239,
   "metadata": {},
   "outputs": [],
   "source": [
    "# Function to compare first element in batch with the first target value \n",
    "def print_batch_element_error(batch, target):\n",
    "    # get value from tensor\n",
    "    batch = batch.cpu().data.numpy()\n",
    "    target = target.cpu().data.numpy()\n",
    "    predicted_v = batch[0]\n",
    "    target_v = target[0]\n",
    "    # predicted_v = target_scaler.inverse_transform(batch)\n",
    "    # predicted_v = predicted_v[0]\n",
    "    # target_v = target_scaler.inverse_transform(target)\n",
    "    # target_v = target_v[0]\n",
    "    error = np.abs(predicted_v - target_v)\n",
    "    print('Predicted: ', predicted_v, 'Target: ', target_v, 'Error: ', error, '\\n')\n",
    "\n",
    "\n",
    "def get_accuracy(output, target, threshold=2):\n",
    "    output = output.cpu().data.numpy()\n",
    "    target = target.cpu().data.numpy()\n",
    "    # output = target_scaler.inverse_transform(output)\n",
    "    # target = target_scaler.inverse_transform(target)\n",
    "    accuracy = 0\n",
    "    for i in range(len(output)):\n",
    "        predicted_v = output[i]\n",
    "        target_v = target[i]\n",
    "        error = np.abs(predicted_v - target_v)\n",
    "        for j in range(len(error)):\n",
    "            if error[j] <= threshold:\n",
    "                error[j] = 1\n",
    "            else:\n",
    "                error[j] = 0\n",
    "        accuracy += np.sum(error)/3\n",
    "    \n",
    "    return accuracy/len(output)"
   ]
  },
  {
   "cell_type": "code",
   "execution_count": 240,
   "metadata": {},
   "outputs": [],
   "source": [
    "import operator\n",
    "\n",
    "class EarlyStopping():\n",
    "    def __init__(self, tolerance=5, min_delta=0, mode='min'):\n",
    "        self.tolerance = tolerance\n",
    "        self.min_delta = min_delta\n",
    "        self.mode = mode\n",
    "        self.counter = 0\n",
    "        self.early_stop = False\n",
    "        self.prev_metric = np.inf if mode == 'min' else -np.inf\n",
    "\n",
    "        self.operation = operator.gt if mode == 'min' else operator.lt\n",
    "\n",
    "    def __call__(self, metric):\n",
    "        delta = (metric - self.prev_metric)\n",
    "\n",
    "        if self.operation(delta, self.min_delta):\n",
    "            self.counter +=1\n",
    "        else:\n",
    "            self.counter = 0\n",
    "            self.prev_metric = metric\n",
    "\n",
    "        if self.counter >= self.tolerance:\n",
    "            self.early_stop = True\n",
    "        return self.early_stop"
   ]
  },
  {
   "cell_type": "code",
   "execution_count": 241,
   "metadata": {},
   "outputs": [],
   "source": [
    "def train(model, device, train_loader, optimizer, epoch, loss_func, accuracy_func, acc_treshold = 2, task = 1):\n",
    "    model.train()\n",
    "    epoch_loss = 0\n",
    "    accuracy = 0\n",
    "    for batch_idx, (data, target) in enumerate(train_loader):\n",
    "        data, target = data.to(device), target.to(device)\n",
    "        optimizer.zero_grad() \n",
    "        output = model(data).squeeze()\n",
    "        # print('Output: ', output)\n",
    "        # print('Target: ', target)\n",
    "        # print(output.shape)\n",
    "        # print(target.shape)\n",
    "        loss = loss_func(output, target)\n",
    "        loss.backward()\n",
    "        optimizer.step()\n",
    "        epoch_loss += loss.item()\n",
    "        curr_accuracy = accuracy_func(output, target, acc_treshold)\n",
    "        accuracy += curr_accuracy\n",
    "        if batch_idx % log_interval == 0:\n",
    "            print('Train Epoch: {} [{}/{} ({:.0f}%)]\\tLoss: {:.6f}\\tAccuracy: {:.4f}'.format(\n",
    "                epoch, batch_idx * len(data), len(train_loader.dataset),\n",
    "                        100. * batch_idx / len(train_loader), loss.item(), curr_accuracy))\n",
    "\n",
    "    # Print average scores for epoch\n",
    "    epoch_loss /= len(train_loader.dataset)\n",
    "\n",
    "    print('\\nTrain Epoch: Average Loss:', \n",
    "          epoch_loss,\n",
    "          '\\tAverage Accuracy:', \n",
    "          accuracy / len(train_loader))"
   ]
  },
  {
   "cell_type": "code",
   "execution_count": 242,
   "metadata": {},
   "outputs": [],
   "source": [
    "def test(model, device, test_loader, loss_func, accuracy_func, acc_treshold = 2):\n",
    "    model.eval()\n",
    "    test_loss = 0\n",
    "    accuracy = 0\n",
    "    with torch.no_grad():\n",
    "        for data, target in test_loader:\n",
    "            data, target = data.to(device), target.to(device)\n",
    "            output = model(data).squeeze()\n",
    "            test_loss += loss_func(output, target).item()\n",
    "            accuracy += accuracy_func(output, target, acc_treshold)\n",
    "\n",
    "    test_loss /= len(test_loader.dataset)\n",
    "\n",
    "    print('\\nTest set: Average loss: {:.4f} Average accuracy: {:.4f}\\n'.format(\n",
    "        test_loss, accuracy / len(test_loader)))\n",
    "\n",
    "    return test_loss"
   ]
  },
  {
   "cell_type": "code",
   "execution_count": 243,
   "metadata": {},
   "outputs": [
    {
     "name": "stdout",
     "output_type": "stream",
     "text": [
      "Train Epoch: 1 [0/800 (0%)]\tLoss: 5620.923828\tAccuracy: 0.0000\n",
      "Train Epoch: 1 [128/800 (16%)]\tLoss: 4790.321289\tAccuracy: 0.0000\n",
      "Train Epoch: 1 [256/800 (32%)]\tLoss: 4374.432129\tAccuracy: 0.0000\n",
      "Train Epoch: 1 [384/800 (48%)]\tLoss: 3388.329590\tAccuracy: 0.0000\n",
      "Train Epoch: 1 [512/800 (64%)]\tLoss: 2821.800781\tAccuracy: 0.0000\n",
      "Train Epoch: 1 [640/800 (80%)]\tLoss: 1672.812012\tAccuracy: 0.0000\n",
      "Train Epoch: 1 [768/800 (96%)]\tLoss: 1031.232178\tAccuracy: 0.0208\n",
      "\n",
      "Train Epoch: Average Loss: 108.97855682373047 \tAverage Accuracy: 0.00875\n",
      "\n",
      "Test set: Average loss: 14.3505 Average accuracy: 0.0789\n",
      "\n",
      "Train Epoch: 2 [0/800 (0%)]\tLoss: 303.515320\tAccuracy: 0.1562\n",
      "Train Epoch: 2 [128/800 (16%)]\tLoss: 854.392944\tAccuracy: 0.0104\n",
      "Train Epoch: 2 [256/800 (32%)]\tLoss: 415.416687\tAccuracy: 0.0833\n",
      "Train Epoch: 2 [384/800 (48%)]\tLoss: 248.516037\tAccuracy: 0.0833\n",
      "Train Epoch: 2 [512/800 (64%)]\tLoss: 320.132416\tAccuracy: 0.0937\n",
      "Train Epoch: 2 [640/800 (80%)]\tLoss: 168.443954\tAccuracy: 0.1354\n",
      "Train Epoch: 2 [768/800 (96%)]\tLoss: 172.646469\tAccuracy: 0.0938\n",
      "\n",
      "Train Epoch: Average Loss: 11.753422832489013 \tAverage Accuracy: 0.095\n",
      "\n",
      "Test set: Average loss: 6.9189 Average accuracy: 0.1101\n",
      "\n",
      "Train Epoch: 3 [0/800 (0%)]\tLoss: 243.640289\tAccuracy: 0.0833\n",
      "Train Epoch: 3 [128/800 (16%)]\tLoss: 234.968307\tAccuracy: 0.0729\n",
      "Train Epoch: 3 [256/800 (32%)]\tLoss: 233.220825\tAccuracy: 0.0833\n",
      "Train Epoch: 3 [384/800 (48%)]\tLoss: 210.287567\tAccuracy: 0.0833\n",
      "Train Epoch: 3 [512/800 (64%)]\tLoss: 191.995819\tAccuracy: 0.0938\n",
      "Train Epoch: 3 [640/800 (80%)]\tLoss: 154.560455\tAccuracy: 0.1250\n",
      "Train Epoch: 3 [768/800 (96%)]\tLoss: 143.914719\tAccuracy: 0.1354\n",
      "\n",
      "Train Epoch: Average Loss: 5.988025817871094 \tAverage Accuracy: 0.10708333333333331\n",
      "\n",
      "Test set: Average loss: 6.3684 Average accuracy: 0.1220\n",
      "\n",
      "Train Epoch: 4 [0/800 (0%)]\tLoss: 161.658554\tAccuracy: 0.0833\n",
      "Train Epoch: 4 [128/800 (16%)]\tLoss: 146.932526\tAccuracy: 0.1562\n",
      "Train Epoch: 4 [256/800 (32%)]\tLoss: 160.152527\tAccuracy: 0.1250\n",
      "Train Epoch: 4 [384/800 (48%)]\tLoss: 148.138031\tAccuracy: 0.0833\n",
      "Train Epoch: 4 [512/800 (64%)]\tLoss: 305.323853\tAccuracy: 0.0729\n",
      "Train Epoch: 4 [640/800 (80%)]\tLoss: 81.404411\tAccuracy: 0.1771\n",
      "Train Epoch: 4 [768/800 (96%)]\tLoss: 240.489670\tAccuracy: 0.0729\n",
      "\n",
      "Train Epoch: Average Loss: 5.456740808486939 \tAverage Accuracy: 0.12541666666666665\n",
      "\n",
      "Test set: Average loss: 5.8903 Average accuracy: 0.1429\n",
      "\n",
      "Train Epoch: 5 [0/800 (0%)]\tLoss: 177.946930\tAccuracy: 0.1042\n",
      "Train Epoch: 5 [128/800 (16%)]\tLoss: 253.564987\tAccuracy: 0.0521\n",
      "Train Epoch: 5 [256/800 (32%)]\tLoss: 123.253235\tAccuracy: 0.1250\n",
      "Train Epoch: 5 [384/800 (48%)]\tLoss: 160.300720\tAccuracy: 0.1250\n",
      "Train Epoch: 5 [512/800 (64%)]\tLoss: 228.653046\tAccuracy: 0.0729\n",
      "Train Epoch: 5 [640/800 (80%)]\tLoss: 131.057312\tAccuracy: 0.1562\n",
      "Train Epoch: 5 [768/800 (96%)]\tLoss: 184.518677\tAccuracy: 0.0938\n",
      "\n",
      "Train Epoch: Average Loss: 5.501084690093994 \tAverage Accuracy: 0.11041666666666668\n",
      "\n",
      "Test set: Average loss: 5.9022 Average accuracy: 0.1220\n",
      "\n",
      "Train Epoch: 6 [0/800 (0%)]\tLoss: 244.006882\tAccuracy: 0.1250\n",
      "Train Epoch: 6 [128/800 (16%)]\tLoss: 208.803009\tAccuracy: 0.0521\n",
      "Train Epoch: 6 [256/800 (32%)]\tLoss: 207.645752\tAccuracy: 0.0833\n",
      "Train Epoch: 6 [384/800 (48%)]\tLoss: 220.114059\tAccuracy: 0.1250\n",
      "Train Epoch: 6 [512/800 (64%)]\tLoss: 179.439880\tAccuracy: 0.0417\n",
      "Train Epoch: 6 [640/800 (80%)]\tLoss: 188.165741\tAccuracy: 0.1562\n",
      "Train Epoch: 6 [768/800 (96%)]\tLoss: 223.857880\tAccuracy: 0.1250\n",
      "\n",
      "Train Epoch: Average Loss: 5.5987000656127925 \tAverage Accuracy: 0.10833333333333331\n",
      "\n",
      "Test set: Average loss: 5.9918 Average accuracy: 0.1458\n",
      "\n",
      "Train Epoch: 7 [0/800 (0%)]\tLoss: 182.231598\tAccuracy: 0.1458\n",
      "Train Epoch: 7 [128/800 (16%)]\tLoss: 173.746033\tAccuracy: 0.0937\n",
      "Train Epoch: 7 [256/800 (32%)]\tLoss: 151.972656\tAccuracy: 0.1562\n",
      "Train Epoch: 7 [384/800 (48%)]\tLoss: 268.896179\tAccuracy: 0.1042\n",
      "Train Epoch: 7 [512/800 (64%)]\tLoss: 127.928581\tAccuracy: 0.1458\n",
      "Train Epoch: 7 [640/800 (80%)]\tLoss: 100.726242\tAccuracy: 0.1563\n",
      "Train Epoch: 7 [768/800 (96%)]\tLoss: 159.711441\tAccuracy: 0.0625\n",
      "\n",
      "Train Epoch: Average Loss: 5.7803843975067135 \tAverage Accuracy: 0.10666666666666665\n",
      "\n",
      "Test set: Average loss: 6.0946 Average accuracy: 0.1176\n",
      "\n",
      "Train Epoch: 8 [0/800 (0%)]\tLoss: 149.956161\tAccuracy: 0.0833\n",
      "Train Epoch: 8 [128/800 (16%)]\tLoss: 151.819168\tAccuracy: 0.1250\n",
      "Train Epoch: 8 [256/800 (32%)]\tLoss: 137.331711\tAccuracy: 0.0729\n",
      "Train Epoch: 8 [384/800 (48%)]\tLoss: 216.160675\tAccuracy: 0.0938\n",
      "Train Epoch: 8 [512/800 (64%)]\tLoss: 115.342148\tAccuracy: 0.1146\n",
      "Train Epoch: 8 [640/800 (80%)]\tLoss: 181.213486\tAccuracy: 0.1042\n",
      "Train Epoch: 8 [768/800 (96%)]\tLoss: 207.969040\tAccuracy: 0.0938\n",
      "\n",
      "Train Epoch: Average Loss: 5.435703010559082 \tAverage Accuracy: 0.11166666666666666\n",
      "\n",
      "Test set: Average loss: 6.1441 Average accuracy: 0.1324\n",
      "\n",
      "Train Epoch: 9 [0/800 (0%)]\tLoss: 227.551819\tAccuracy: 0.0625\n",
      "Train Epoch: 9 [128/800 (16%)]\tLoss: 116.881615\tAccuracy: 0.1146\n",
      "Train Epoch: 9 [256/800 (32%)]\tLoss: 168.067978\tAccuracy: 0.0625\n",
      "Train Epoch: 9 [384/800 (48%)]\tLoss: 144.286484\tAccuracy: 0.1875\n",
      "Train Epoch: 9 [512/800 (64%)]\tLoss: 126.577927\tAccuracy: 0.1354\n",
      "Train Epoch: 9 [640/800 (80%)]\tLoss: 227.894455\tAccuracy: 0.0938\n",
      "Train Epoch: 9 [768/800 (96%)]\tLoss: 155.840393\tAccuracy: 0.1667\n",
      "\n",
      "Train Epoch: Average Loss: 5.603810520172119 \tAverage Accuracy: 0.11\n",
      "\n",
      "Test set: Average loss: 6.6524 Average accuracy: 0.1146\n",
      "\n"
     ]
    }
   ],
   "source": [
    "import torch.optim as optim\n",
    "\n",
    "optimizer = optim.SGD(model.parameters(), lr=lr, momentum=momentum)\n",
    "early_stopping = EarlyStopping()\n",
    "\n",
    "for epoch in range(1, epochs + 1):\n",
    "    train(model, device, train_dataloader, optimizer, epoch, loss_fn, get_accuracy, 2)\n",
    "    test_loss = test(model, device, test_dataloader, loss_fn, get_accuracy, 2)\n",
    "\n",
    "    if early_stopping(test_loss):\n",
    "        break"
   ]
  },
  {
   "cell_type": "markdown",
   "metadata": {
    "collapsed": false
   },
   "source": [
    "### Questions\n",
    "1. What preprocessing techniques did you use? Why?\n",
    "    - *Answer*\n",
    "2. Describe the fine-tuning process and how you reached your model architecture.\n",
    "    - *Answer*"
   ]
  },
  {
   "cell_type": "markdown",
   "metadata": {
    "collapsed": false
   },
   "source": [
    "# Task 2: CNN (40%)\n",
    "For this task, you will be doing image classification:\n",
    "- First, adapt your best model from Task 1 to work on this task, and\n",
    "fit it on the new data. Then, evaluate its performance.\n",
    "- After that, build a CNN model for image classification.\n",
    "- Compare both models in terms of accuracy, number of parameters and speed of\n",
    "inference (the time the model takes to predict 50 samples).\n",
    "\n",
    "For the given data, you need to do proper data preprocessing and augmentation,\n",
    "data loaders.\n",
    "Then fine-tune your model architecture (number of layers, number of filters,\n",
    "activation function, learning rate, momentum, regularization).\n",
    "\n",
    "### Data\n",
    "You will be working with the data in `triple_mnist.zip` for predicting 3-digit\n",
    "numbers writen in the image. Each image contains 3 digits similar to the\n",
    "following example (whose label is `039`):\n",
    "\n",
    "![example](https://github.com/shaohua0116/MultiDigitMNIST/blob/master/asset/examples/039/0_039.png?raw=true)"
   ]
  },
  {
   "cell_type": "code",
   "execution_count": 244,
   "metadata": {},
   "outputs": [],
   "source": [
    "from torchvision import transforms\n",
    "from torchvision.datasets import ImageFolder\n",
    "\n",
    "test_path = './triple_mnist/triple_mnist/test/'\n",
    "train_path = './triple_mnist/triple_mnist/train/'\n",
    "val_path = './triple_mnist/triple_mnist/val/'\n",
    "\n",
    "batch_size = 64\n",
    "\n",
    "transform = transforms.Compose([\n",
    "    transforms.Resize(84),\n",
    "    transforms.ToTensor()\n",
    "])\n",
    "\n",
    "train_data = ImageFolder(root=train_path, transform=transform)\n",
    "\n",
    "test_data = ImageFolder(root=test_path, transform=transform)\n",
    "\n",
    "val_data = ImageFolder(root=val_path, transform=transform)"
   ]
  },
  {
   "cell_type": "code",
   "execution_count": 245,
   "metadata": {},
   "outputs": [],
   "source": [
    "def fix_data_targets(data):\n",
    "    classes = data.classes\n",
    "    for i in range(len(data.samples)):\n",
    "        path, index = data.samples[i]\n",
    "        cl = classes[index]\n",
    "        arr = np.zeros((3,), dtype=np.int64)\n",
    "        for j in range(len(cl)):\n",
    "            arr[j] = int(cl[j])\n",
    "        new_sample = (path, arr)\n",
    "        data.samples[i] = new_sample\n",
    "        data.targets[i] = arr"
   ]
  },
  {
   "cell_type": "code",
   "execution_count": 246,
   "metadata": {},
   "outputs": [],
   "source": [
    "fix_data_targets(train_data)\n",
    "fix_data_targets(test_data)\n",
    "fix_data_targets(val_data)"
   ]
  },
  {
   "cell_type": "code",
   "execution_count": 247,
   "metadata": {},
   "outputs": [],
   "source": [
    "train_loader = DataLoader(train_data, batch_size=batch_size, shuffle=True)\n",
    "test_loader = DataLoader(test_data, batch_size=batch_size, shuffle=False) \n",
    "val_loader = DataLoader(val_data, batch_size=batch_size, shuffle=False)"
   ]
  },
  {
   "cell_type": "code",
   "execution_count": 248,
   "metadata": {
    "collapsed": false,
    "pycharm": {
     "name": "#%%\n"
    }
   },
   "outputs": [
    {
     "data": {
      "text/plain": [
       "<matplotlib.image.AxesImage at 0x1af3a3f8c40>"
      ]
     },
     "execution_count": 248,
     "metadata": {},
     "output_type": "execute_result"
    },
    {
     "data": {
      "image/png": "[encoded data removed]",
      "text/plain": [
       "<Figure size 640x480 with 1 Axes>"
      ]
     },
     "metadata": {},
     "output_type": "display_data"
    }
   ],
   "source": [
    "import matplotlib.pyplot as plt\n",
    "images, labels = next(iter(train_loader))\n",
    "plt.imshow(np.transpose(images[0].cpu().detach().numpy(), (1, 2, 0)))"
   ]
  },
  {
   "cell_type": "code",
   "execution_count": 249,
   "metadata": {},
   "outputs": [],
   "source": [
    "class ANN_Task2(ANN):\n",
    "    def __init__(self):\n",
    "        super(ANN_Task2, self).__init__()\n",
    "        self.hidden1 = nn.Linear(84*84*3, 2500)\n",
    "        self.output = nn.Linear(2500, 30)\n",
    "        \n",
    "    def forward(self, x):\n",
    "        x = x.view(-1, 84*84*3)\n",
    "        x = F.leaky_relu(self.hidden1(x))\n",
    "        x = self.output(x)\n",
    "        x = F.log_softmax(x, dim=1)\n",
    "        x = x.view(-1, 3, 10)\n",
    "        x = x.transpose(1, 2)\n",
    "        return x"
   ]
  },
  {
   "cell_type": "code",
   "execution_count": 250,
   "metadata": {},
   "outputs": [
    {
     "name": "stdout",
     "output_type": "stream",
     "text": [
      "ANN_Task2(\n",
      "  (hidden1): Linear(in_features=21168, out_features=2500, bias=True)\n",
      "  (output): Linear(in_features=2500, out_features=30, bias=True)\n",
      ")\n"
     ]
    }
   ],
   "source": [
    "# device = torch.device(\"cuda\" if use_cuda else \"cpu\")\n",
    "model = ANN_Task2().to(device)\n",
    "\n",
    "print(model)"
   ]
  },
  {
   "cell_type": "code",
   "execution_count": 251,
   "metadata": {},
   "outputs": [],
   "source": [
    "epochs = 1\n",
    "lr = 0.01\n",
    "momentum = 0.5\n",
    "log_interval = 10\n",
    "\n",
    "loss_fn = nn.NLLLoss()"
   ]
  },
  {
   "cell_type": "code",
   "execution_count": 252,
   "metadata": {},
   "outputs": [],
   "source": [
    "def nll_loss(output, target, reduce=True):\n",
    "    out_sum = 0\n",
    "    for i in range(len(target)):\n",
    "        out_sum += output[i][target[i]]\n",
    "    return -(out_sum.sum()/len(target) if reduce else out_sum)"
   ]
  },
  {
   "cell_type": "code",
   "execution_count": 253,
   "metadata": {},
   "outputs": [],
   "source": [
    "from torch.autograd import Variable\n",
    "\n",
    "def task2_loss_function(output, target):\n",
    "    if output.shape[0] == batch_size:\n",
    "        output = output.cpu().data.numpy()\n",
    "        target = target.cpu().data.numpy()\n",
    "\n",
    "        for i in range(len(output)):\n",
    "            # print(output[i], target[i])\n",
    "            num1 = output[i][0:10]\n",
    "            num2 = output[i][10:20]\n",
    "            num3 = output[i][20:30]\n",
    "\n",
    "            # print('pred:', num1.argmax(), num2.argmax(), num3.argmax())\n",
    "            # print('true:', target[i][0], target[i][1], target[i][2])\n",
    "\n",
    "            loss = nll_loss([num1, num2, num3], target[i])\n",
    "\n",
    "            # print(loss)\n",
    "            return Variable(torch.tensor(loss), requires_grad=True)\n",
    "            # num1 = num1.argmax()\n",
    "            # num2 = num2.argmax()\n",
    "            # num3 = num3.argmax()\n",
    "\n",
    "            # print(num1, num2, num3)\n",
    "    \n",
    "    # print(num1, num2, num3)"
   ]
  },
  {
   "cell_type": "code",
   "execution_count": 254,
   "metadata": {},
   "outputs": [],
   "source": [
    "def task2_accuracy(output, target, treshold):\n",
    "    return 1"
   ]
  },
  {
   "cell_type": "code",
   "execution_count": 255,
   "metadata": {},
   "outputs": [
    {
     "name": "stdout",
     "output_type": "stream",
     "text": [
      "Train Epoch: 1 [0/64000 (0%)]\tLoss: 3.404877\tAccuracy: 1.0000\n",
      "Train Epoch: 1 [640/64000 (1%)]\tLoss: 3.395308\tAccuracy: 1.0000\n",
      "Train Epoch: 1 [1280/64000 (2%)]\tLoss: 3.398809\tAccuracy: 1.0000\n",
      "Train Epoch: 1 [1920/64000 (3%)]\tLoss: 3.396696\tAccuracy: 1.0000\n",
      "Train Epoch: 1 [2560/64000 (4%)]\tLoss: 3.391877\tAccuracy: 1.0000\n",
      "Train Epoch: 1 [3200/64000 (5%)]\tLoss: 3.391459\tAccuracy: 1.0000\n",
      "Train Epoch: 1 [3840/64000 (6%)]\tLoss: 3.387333\tAccuracy: 1.0000\n",
      "Train Epoch: 1 [4480/64000 (7%)]\tLoss: 3.384262\tAccuracy: 1.0000\n",
      "Train Epoch: 1 [5120/64000 (8%)]\tLoss: 3.387422\tAccuracy: 1.0000\n",
      "Train Epoch: 1 [5760/64000 (9%)]\tLoss: 3.380862\tAccuracy: 1.0000\n",
      "Train Epoch: 1 [6400/64000 (10%)]\tLoss: 3.375652\tAccuracy: 1.0000\n",
      "Train Epoch: 1 [7040/64000 (11%)]\tLoss: 3.379961\tAccuracy: 1.0000\n",
      "Train Epoch: 1 [7680/64000 (12%)]\tLoss: 3.370127\tAccuracy: 1.0000\n",
      "Train Epoch: 1 [8320/64000 (13%)]\tLoss: 3.364249\tAccuracy: 1.0000\n",
      "Train Epoch: 1 [8960/64000 (14%)]\tLoss: 3.365153\tAccuracy: 1.0000\n",
      "Train Epoch: 1 [9600/64000 (15%)]\tLoss: 3.372138\tAccuracy: 1.0000\n",
      "Train Epoch: 1 [10240/64000 (16%)]\tLoss: 3.351616\tAccuracy: 1.0000\n",
      "Train Epoch: 1 [10880/64000 (17%)]\tLoss: 3.371798\tAccuracy: 1.0000\n",
      "Train Epoch: 1 [11520/64000 (18%)]\tLoss: 3.357172\tAccuracy: 1.0000\n",
      "Train Epoch: 1 [12160/64000 (19%)]\tLoss: 3.354878\tAccuracy: 1.0000\n",
      "Train Epoch: 1 [12800/64000 (20%)]\tLoss: 3.340509\tAccuracy: 1.0000\n",
      "Train Epoch: 1 [13440/64000 (21%)]\tLoss: 3.362300\tAccuracy: 1.0000\n",
      "Train Epoch: 1 [14080/64000 (22%)]\tLoss: 3.334827\tAccuracy: 1.0000\n",
      "Train Epoch: 1 [14720/64000 (23%)]\tLoss: 3.360744\tAccuracy: 1.0000\n",
      "Train Epoch: 1 [15360/64000 (24%)]\tLoss: 3.328650\tAccuracy: 1.0000\n",
      "Train Epoch: 1 [16000/64000 (25%)]\tLoss: 3.339237\tAccuracy: 1.0000\n",
      "Train Epoch: 1 [16640/64000 (26%)]\tLoss: 3.335516\tAccuracy: 1.0000\n",
      "Train Epoch: 1 [17280/64000 (27%)]\tLoss: 3.340767\tAccuracy: 1.0000\n",
      "Train Epoch: 1 [17920/64000 (28%)]\tLoss: 3.334092\tAccuracy: 1.0000\n",
      "Train Epoch: 1 [18560/64000 (29%)]\tLoss: 3.311804\tAccuracy: 1.0000\n",
      "Train Epoch: 1 [19200/64000 (30%)]\tLoss: 3.324498\tAccuracy: 1.0000\n",
      "Train Epoch: 1 [19840/64000 (31%)]\tLoss: 3.308770\tAccuracy: 1.0000\n",
      "Train Epoch: 1 [20480/64000 (32%)]\tLoss: 3.322784\tAccuracy: 1.0000\n",
      "Train Epoch: 1 [21120/64000 (33%)]\tLoss: 3.316114\tAccuracy: 1.0000\n",
      "Train Epoch: 1 [21760/64000 (34%)]\tLoss: 3.287431\tAccuracy: 1.0000\n",
      "Train Epoch: 1 [22400/64000 (35%)]\tLoss: 3.306814\tAccuracy: 1.0000\n",
      "Train Epoch: 1 [23040/64000 (36%)]\tLoss: 3.311619\tAccuracy: 1.0000\n",
      "Train Epoch: 1 [23680/64000 (37%)]\tLoss: 3.313687\tAccuracy: 1.0000\n",
      "Train Epoch: 1 [24320/64000 (38%)]\tLoss: 3.277879\tAccuracy: 1.0000\n",
      "Train Epoch: 1 [24960/64000 (39%)]\tLoss: 3.276183\tAccuracy: 1.0000\n",
      "Train Epoch: 1 [25600/64000 (40%)]\tLoss: 3.275986\tAccuracy: 1.0000\n",
      "Train Epoch: 1 [26240/64000 (41%)]\tLoss: 3.305613\tAccuracy: 1.0000\n",
      "Train Epoch: 1 [26880/64000 (42%)]\tLoss: 3.295805\tAccuracy: 1.0000\n",
      "Train Epoch: 1 [27520/64000 (43%)]\tLoss: 3.275017\tAccuracy: 1.0000\n",
      "Train Epoch: 1 [28160/64000 (44%)]\tLoss: 3.262189\tAccuracy: 1.0000\n",
      "Train Epoch: 1 [28800/64000 (45%)]\tLoss: 3.266067\tAccuracy: 1.0000\n",
      "Train Epoch: 1 [29440/64000 (46%)]\tLoss: 3.218300\tAccuracy: 1.0000\n",
      "Train Epoch: 1 [30080/64000 (47%)]\tLoss: 3.208038\tAccuracy: 1.0000\n",
      "Train Epoch: 1 [30720/64000 (48%)]\tLoss: 3.268219\tAccuracy: 1.0000\n",
      "Train Epoch: 1 [31360/64000 (49%)]\tLoss: 3.263747\tAccuracy: 1.0000\n",
      "Train Epoch: 1 [32000/64000 (50%)]\tLoss: 3.238359\tAccuracy: 1.0000\n",
      "Train Epoch: 1 [32640/64000 (51%)]\tLoss: 3.219095\tAccuracy: 1.0000\n",
      "Train Epoch: 1 [33280/64000 (52%)]\tLoss: 3.196876\tAccuracy: 1.0000\n",
      "Train Epoch: 1 [33920/64000 (53%)]\tLoss: 3.258873\tAccuracy: 1.0000\n",
      "Train Epoch: 1 [34560/64000 (54%)]\tLoss: 3.216083\tAccuracy: 1.0000\n",
      "Train Epoch: 1 [35200/64000 (55%)]\tLoss: 3.210365\tAccuracy: 1.0000\n",
      "Train Epoch: 1 [35840/64000 (56%)]\tLoss: 3.226965\tAccuracy: 1.0000\n",
      "Train Epoch: 1 [36480/64000 (57%)]\tLoss: 3.223988\tAccuracy: 1.0000\n",
      "Train Epoch: 1 [37120/64000 (58%)]\tLoss: 3.205054\tAccuracy: 1.0000\n",
      "Train Epoch: 1 [37760/64000 (59%)]\tLoss: 3.203503\tAccuracy: 1.0000\n",
      "Train Epoch: 1 [38400/64000 (60%)]\tLoss: 3.194454\tAccuracy: 1.0000\n",
      "Train Epoch: 1 [39040/64000 (61%)]\tLoss: 3.211571\tAccuracy: 1.0000\n",
      "Train Epoch: 1 [39680/64000 (62%)]\tLoss: 3.166128\tAccuracy: 1.0000\n",
      "Train Epoch: 1 [40320/64000 (63%)]\tLoss: 3.135623\tAccuracy: 1.0000\n",
      "Train Epoch: 1 [40960/64000 (64%)]\tLoss: 3.178891\tAccuracy: 1.0000\n",
      "Train Epoch: 1 [41600/64000 (65%)]\tLoss: 3.162387\tAccuracy: 1.0000\n",
      "Train Epoch: 1 [42240/64000 (66%)]\tLoss: 3.135818\tAccuracy: 1.0000\n",
      "Train Epoch: 1 [42880/64000 (67%)]\tLoss: 3.112219\tAccuracy: 1.0000\n",
      "Train Epoch: 1 [43520/64000 (68%)]\tLoss: 3.131897\tAccuracy: 1.0000\n",
      "Train Epoch: 1 [44160/64000 (69%)]\tLoss: 3.155801\tAccuracy: 1.0000\n",
      "Train Epoch: 1 [44800/64000 (70%)]\tLoss: 3.114352\tAccuracy: 1.0000\n",
      "Train Epoch: 1 [45440/64000 (71%)]\tLoss: 3.114211\tAccuracy: 1.0000\n",
      "Train Epoch: 1 [46080/64000 (72%)]\tLoss: 3.178143\tAccuracy: 1.0000\n",
      "Train Epoch: 1 [46720/64000 (73%)]\tLoss: 3.135510\tAccuracy: 1.0000\n",
      "Train Epoch: 1 [47360/64000 (74%)]\tLoss: 3.143676\tAccuracy: 1.0000\n",
      "Train Epoch: 1 [48000/64000 (75%)]\tLoss: 3.063531\tAccuracy: 1.0000\n",
      "Train Epoch: 1 [48640/64000 (76%)]\tLoss: 3.120834\tAccuracy: 1.0000\n",
      "Train Epoch: 1 [49280/64000 (77%)]\tLoss: 3.062140\tAccuracy: 1.0000\n",
      "Train Epoch: 1 [49920/64000 (78%)]\tLoss: 3.088328\tAccuracy: 1.0000\n",
      "Train Epoch: 1 [50560/64000 (79%)]\tLoss: 3.143040\tAccuracy: 1.0000\n",
      "Train Epoch: 1 [51200/64000 (80%)]\tLoss: 3.077106\tAccuracy: 1.0000\n",
      "Train Epoch: 1 [51840/64000 (81%)]\tLoss: 3.132366\tAccuracy: 1.0000\n",
      "Train Epoch: 1 [52480/64000 (82%)]\tLoss: 3.102152\tAccuracy: 1.0000\n",
      "Train Epoch: 1 [53120/64000 (83%)]\tLoss: 3.116223\tAccuracy: 1.0000\n",
      "Train Epoch: 1 [53760/64000 (84%)]\tLoss: 3.062236\tAccuracy: 1.0000\n",
      "Train Epoch: 1 [54400/64000 (85%)]\tLoss: 2.994335\tAccuracy: 1.0000\n",
      "Train Epoch: 1 [55040/64000 (86%)]\tLoss: 3.101720\tAccuracy: 1.0000\n",
      "Train Epoch: 1 [55680/64000 (87%)]\tLoss: 3.028833\tAccuracy: 1.0000\n",
      "Train Epoch: 1 [56320/64000 (88%)]\tLoss: 3.101712\tAccuracy: 1.0000\n",
      "Train Epoch: 1 [56960/64000 (89%)]\tLoss: 3.041857\tAccuracy: 1.0000\n",
      "Train Epoch: 1 [57600/64000 (90%)]\tLoss: 3.096409\tAccuracy: 1.0000\n",
      "Train Epoch: 1 [58240/64000 (91%)]\tLoss: 3.097919\tAccuracy: 1.0000\n",
      "Train Epoch: 1 [58880/64000 (92%)]\tLoss: 3.069376\tAccuracy: 1.0000\n",
      "Train Epoch: 1 [59520/64000 (93%)]\tLoss: 3.075285\tAccuracy: 1.0000\n",
      "Train Epoch: 1 [60160/64000 (94%)]\tLoss: 3.067989\tAccuracy: 1.0000\n",
      "Train Epoch: 1 [60800/64000 (95%)]\tLoss: 3.041560\tAccuracy: 1.0000\n",
      "Train Epoch: 1 [61440/64000 (96%)]\tLoss: 3.034560\tAccuracy: 1.0000\n",
      "Train Epoch: 1 [62080/64000 (97%)]\tLoss: 3.010860\tAccuracy: 1.0000\n",
      "Train Epoch: 1 [62720/64000 (98%)]\tLoss: 3.079670\tAccuracy: 1.0000\n",
      "Train Epoch: 1 [63360/64000 (99%)]\tLoss: 3.011251\tAccuracy: 1.0000\n",
      "\n",
      "Train Epoch: Average Loss: 0.05042644605785608 \tAverage Accuracy: 1.0\n",
      "\n",
      "Test set: Average loss: 0.0480 Average accuracy: 1.0000\n",
      "\n"
     ]
    }
   ],
   "source": [
    "optimizer = optim.SGD(model.parameters(), lr=lr, momentum=momentum)\n",
    "early_stopping = EarlyStopping()\n",
    "\n",
    "for epoch in range(1, epochs + 1):\n",
    "    train(model, device, train_loader, optimizer, epoch, loss_fn, task2_accuracy, 1, 2)\n",
    "    test_loss = test(model, device, test_loader, loss_fn, task2_accuracy, 1)\n",
    "\n",
    "    if early_stopping(test_loss):\n",
    "        break"
   ]
  },
  {
   "cell_type": "markdown",
   "metadata": {
    "collapsed": false,
    "pycharm": {
     "name": "#%% md\n"
    }
   },
   "source": [
    "### Questions\n",
    "1. What preprocessing techniques did you use? Why?\n",
    "    - *Answer*\n",
    "2. What data augmentation techniques did you use?\n",
    "    - *Answer*\n",
    "3. Describe the fine-tuning process and how you reached your final CNN model.\n",
    "    - *Answer*"
   ]
  },
  {
   "cell_type": "markdown",
   "metadata": {
    "collapsed": false,
    "pycharm": {
     "name": "#%% md\n"
    }
   },
   "source": [
    "# Task 3: Decision Trees and Ensemble Learning (15%)\n",
    "\n",
    "For the `loan_data.csv` data, predict if the bank should give a loan or not.\n",
    "You need to do the following:\n",
    "- Fine-tune a decision tree on the data\n",
    "- Fine-tune a random forest on the data\n",
    "- Compare their performance\n",
    "- Visualize your DT and one of the trees from the RF\n",
    "\n",
    "For evaluating your models, do $80/20$ train test split.\n",
    "\n",
    "### Data\n",
    "- `credit.policy`: Whether the customer meets the credit underwriting criteria.\n",
    "- `purpose`: The purpose of the loan.\n",
    "- `int.rate`: The interest rate of the loan.\n",
    "- `installment`: The monthly installments owed by the borrower if the loan is funded.\n",
    "- `log.annual.inc`: The natural logarithm of the self-reported annual income of the borrower.\n",
    "- `dti`: The debt-to-income ratio of the borrower.\n",
    "- `fico`: The FICO credit score of the borrower.\n",
    "- `days.with.cr.line`: The number of days the borrower has had a credit line.\n",
    "- `revol.bal`: The borrower's revolving balance.\n",
    "- `revol.util`: The borrower's revolving line utilization rate."
   ]
  },
  {
   "cell_type": "code",
   "execution_count": 256,
   "metadata": {
    "collapsed": false,
    "pycharm": {
     "name": "#%%\n"
    }
   },
   "outputs": [],
   "source": [
    "# TODO: Implement task 3"
   ]
  },
  {
   "cell_type": "markdown",
   "metadata": {
    "collapsed": false
   },
   "source": [
    "### Questions\n",
    "1. How did the DT compare to the RF in performance? Why?\n",
    "    - *Answer*\n",
    "2. After fine-tuning, how does the max depth in DT compare to RF? Why?\n",
    "    - *Answer*\n",
    "3. What is ensemble learning? What are its pros and cons?\n",
    "    - *Answer*\n",
    "4. Briefly explain 2 types of boosting methods and 2 types of bagging methods.\n",
    "Which of these categories does RF fall under?\n",
    "    - *Answer*"
   ]
  },
  {
   "cell_type": "markdown",
   "metadata": {
    "collapsed": false,
    "pycharm": {
     "name": "#%% md\n"
    }
   },
   "source": [
    "# Task 4: Domain Gap (15%)\n",
    "\n",
    "Evaluate your CNN model from task 2 on SVHN data without retraining your model."
   ]
  },
  {
   "cell_type": "code",
   "execution_count": 257,
   "metadata": {
    "collapsed": false,
    "pycharm": {
     "name": "#%%\n"
    }
   },
   "outputs": [],
   "source": [
    "# TODO: Implement task 4"
   ]
  },
  {
   "cell_type": "markdown",
   "metadata": {
    "collapsed": false,
    "pycharm": {
     "name": "#%% md\n"
    }
   },
   "source": [
    "### Questions\n",
    "1. How did your model perform? Why is it better/worse?\n",
    "    - *Answer*\n",
    "2. What is domain gap in the context of ML?\n",
    "    - *Answer*\n",
    "3. Suggest two ways through which the problem of domain gap can be tackled.\n",
    "    - *Answer*"
   ]
  }
 ],
 "metadata": {
  "kernelspec": {
   "display_name": "Python 3.10.7 64-bit",
   "language": "python",
   "name": "python3"
  },
  "language_info": {
   "codemirror_mode": {
    "name": "ipython",
    "version": 3
   },
   "file_extension": ".py",
   "mimetype": "text/x-python",
   "name": "python",
   "nbconvert_exporter": "python",
   "pygments_lexer": "ipython3",
   "version": "3.10.7"
  },
  "vscode": {
   "interpreter": {
    "hash": "26de051ba29f2982a8de78e945f0abaf191376122a1563185a90213a26c5da77"
   }
  }
 },
 "nbformat": 4,
 "nbformat_minor": 0
}
