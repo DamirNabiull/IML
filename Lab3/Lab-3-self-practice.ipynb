{
    "cells": [
        {
            "cell_type": "markdown",
            "metadata": {},
            "source": [
                "### Lab-3 : Self-Practice\n",
                "\n",
                "#### In this week, your self-practice task will consist to analyze the impact of class imballance on the performance of the logistic regression model.\n",
                "\n",
                "#### Class imbalance is very common in real life. For example, in a classification problem to predict whether a person has a certain very rare disease, the dataset will always contain more negative samples than positive ones. This situation can have a significant impact on the performance of the model. You will analyze this situation in the case of the Titanic dataset used in the lab."
            ]
        },
        {
            "cell_type": "markdown",
            "metadata": {},
            "source": [
                "### 1. Load the titanic dataset and <b>PLOT</b> the proportion of positive and negative samples (survived vs non survived)"
            ]
        },
        {
            "cell_type": "code",
            "execution_count": 149,
            "metadata": {},
            "outputs": [],
            "source": [
                "import numpy as np\n",
                "import matplotlib.pyplot as plt\n",
                "import pandas as pd\n",
                "%matplotlib inline "
            ]
        },
        {
            "cell_type": "code",
            "execution_count": 150,
            "metadata": {},
            "outputs": [
                {
                    "name": "stdout",
                    "output_type": "stream",
                    "text": [
                        "0    809\n",
                        "1    500\n",
                        "Name: survived, dtype: int64\n"
                    ]
                },
                {
                    "data": {
                        "text/plain": [
                            "<function matplotlib.pyplot.show(close=None, block=None)>"
                        ]
                    },
                    "execution_count": 150,
                    "metadata": {},
                    "output_type": "execute_result"
                },
                {
                    "data": {
                        "image/png": "[encoded data removed]",
                        "text/plain": [
                            "<Figure size 640x480 with 1 Axes>"
                        ]
                    },
                    "metadata": {},
                    "output_type": "display_data"
                }
            ],
            "source": [
                "### write your code here. Load the dataset and plot (barplot) proportion of each class \n",
                "data = pd.read_csv('titanic.csv')\n",
                "y = data['survived'].value_counts()\n",
                "X = ['0', '1']\n",
                "print(y)\n",
                "plt.bar(X, y)\n",
                "plt.show"
            ]
        },
        {
            "cell_type": "markdown",
            "metadata": {},
            "source": [
                "#### Preprocess the data as it has been done in the lab, feel free to adapt"
            ]
        },
        {
            "cell_type": "code",
            "execution_count": 151,
            "metadata": {},
            "outputs": [],
            "source": [
                "data = data.drop(['name'], axis = 1)\n",
                "X = data\n",
                "y = data['survived']"
            ]
        },
        {
            "cell_type": "code",
            "execution_count": 152,
            "metadata": {},
            "outputs": [
                {
                    "name": "stderr",
                    "output_type": "stream",
                    "text": [
                        "/home/dale/.local/lib/python3.8/site-packages/sklearn/utils/deprecation.py:87: FutureWarning: Function get_feature_names is deprecated; get_feature_names is deprecated in 1.0 and will be removed in 1.2. Please use get_feature_names_out instead.\n",
                        "  warnings.warn(msg, category=FutureWarning)\n"
                    ]
                },
                {
                    "data": {
                        "text/html": [
                            "<div>\n",
                            "<style scoped>\n",
                            "    .dataframe tbody tr th:only-of-type {\n",
                            "        vertical-align: middle;\n",
                            "    }\n",
                            "\n",
                            "    .dataframe tbody tr th {\n",
                            "        vertical-align: top;\n",
                            "    }\n",
                            "\n",
                            "    .dataframe thead th {\n",
                            "        text-align: right;\n",
                            "    }\n",
                            "</style>\n",
                            "<table border=\"1\" class=\"dataframe\">\n",
                            "  <thead>\n",
                            "    <tr style=\"text-align: right;\">\n",
                            "      <th></th>\n",
                            "      <th>survived</th>\n",
                            "      <th>pclass</th>\n",
                            "      <th>age</th>\n",
                            "      <th>sibsp</th>\n",
                            "      <th>parch</th>\n",
                            "      <th>fare</th>\n",
                            "      <th>sex_male</th>\n",
                            "      <th>embarked_Q</th>\n",
                            "      <th>embarked_S</th>\n",
                            "    </tr>\n",
                            "  </thead>\n",
                            "  <tbody>\n",
                            "    <tr>\n",
                            "      <th>0</th>\n",
                            "      <td>1.0</td>\n",
                            "      <td>0.0</td>\n",
                            "      <td>0.361142</td>\n",
                            "      <td>0.000</td>\n",
                            "      <td>0.000000</td>\n",
                            "      <td>0.412503</td>\n",
                            "      <td>0.0</td>\n",
                            "      <td>0.0</td>\n",
                            "      <td>1.0</td>\n",
                            "    </tr>\n",
                            "    <tr>\n",
                            "      <th>1</th>\n",
                            "      <td>1.0</td>\n",
                            "      <td>0.0</td>\n",
                            "      <td>0.009395</td>\n",
                            "      <td>0.125</td>\n",
                            "      <td>0.222222</td>\n",
                            "      <td>0.295806</td>\n",
                            "      <td>1.0</td>\n",
                            "      <td>0.0</td>\n",
                            "      <td>1.0</td>\n",
                            "    </tr>\n",
                            "    <tr>\n",
                            "      <th>2</th>\n",
                            "      <td>0.0</td>\n",
                            "      <td>0.0</td>\n",
                            "      <td>0.022924</td>\n",
                            "      <td>0.125</td>\n",
                            "      <td>0.222222</td>\n",
                            "      <td>0.295806</td>\n",
                            "      <td>0.0</td>\n",
                            "      <td>0.0</td>\n",
                            "      <td>1.0</td>\n",
                            "    </tr>\n",
                            "    <tr>\n",
                            "      <th>3</th>\n",
                            "      <td>0.0</td>\n",
                            "      <td>0.0</td>\n",
                            "      <td>0.373669</td>\n",
                            "      <td>0.125</td>\n",
                            "      <td>0.222222</td>\n",
                            "      <td>0.295806</td>\n",
                            "      <td>1.0</td>\n",
                            "      <td>0.0</td>\n",
                            "      <td>1.0</td>\n",
                            "    </tr>\n",
                            "    <tr>\n",
                            "      <th>4</th>\n",
                            "      <td>0.0</td>\n",
                            "      <td>0.0</td>\n",
                            "      <td>0.311036</td>\n",
                            "      <td>0.125</td>\n",
                            "      <td>0.222222</td>\n",
                            "      <td>0.295806</td>\n",
                            "      <td>0.0</td>\n",
                            "      <td>0.0</td>\n",
                            "      <td>1.0</td>\n",
                            "    </tr>\n",
                            "    <tr>\n",
                            "      <th>...</th>\n",
                            "      <td>...</td>\n",
                            "      <td>...</td>\n",
                            "      <td>...</td>\n",
                            "      <td>...</td>\n",
                            "      <td>...</td>\n",
                            "      <td>...</td>\n",
                            "      <td>...</td>\n",
                            "      <td>...</td>\n",
                            "      <td>...</td>\n",
                            "    </tr>\n",
                            "    <tr>\n",
                            "      <th>1304</th>\n",
                            "      <td>0.0</td>\n",
                            "      <td>1.0</td>\n",
                            "      <td>0.179506</td>\n",
                            "      <td>0.125</td>\n",
                            "      <td>0.000000</td>\n",
                            "      <td>0.028213</td>\n",
                            "      <td>0.0</td>\n",
                            "      <td>0.0</td>\n",
                            "      <td>0.0</td>\n",
                            "    </tr>\n",
                            "    <tr>\n",
                            "      <th>1305</th>\n",
                            "      <td>0.0</td>\n",
                            "      <td>1.0</td>\n",
                            "      <td>0.298509</td>\n",
                            "      <td>0.125</td>\n",
                            "      <td>0.000000</td>\n",
                            "      <td>0.028213</td>\n",
                            "      <td>0.0</td>\n",
                            "      <td>0.0</td>\n",
                            "      <td>0.0</td>\n",
                            "    </tr>\n",
                            "    <tr>\n",
                            "      <th>1306</th>\n",
                            "      <td>0.0</td>\n",
                            "      <td>1.0</td>\n",
                            "      <td>0.329826</td>\n",
                            "      <td>0.000</td>\n",
                            "      <td>0.000000</td>\n",
                            "      <td>0.014102</td>\n",
                            "      <td>1.0</td>\n",
                            "      <td>0.0</td>\n",
                            "      <td>0.0</td>\n",
                            "    </tr>\n",
                            "    <tr>\n",
                            "      <th>1307</th>\n",
                            "      <td>0.0</td>\n",
                            "      <td>1.0</td>\n",
                            "      <td>0.336089</td>\n",
                            "      <td>0.000</td>\n",
                            "      <td>0.000000</td>\n",
                            "      <td>0.014102</td>\n",
                            "      <td>1.0</td>\n",
                            "      <td>0.0</td>\n",
                            "      <td>0.0</td>\n",
                            "    </tr>\n",
                            "    <tr>\n",
                            "      <th>1308</th>\n",
                            "      <td>0.0</td>\n",
                            "      <td>1.0</td>\n",
                            "      <td>0.361142</td>\n",
                            "      <td>0.000</td>\n",
                            "      <td>0.000000</td>\n",
                            "      <td>0.015371</td>\n",
                            "      <td>1.0</td>\n",
                            "      <td>0.0</td>\n",
                            "      <td>1.0</td>\n",
                            "    </tr>\n",
                            "  </tbody>\n",
                            "</table>\n",
                            "<p>1309 rows × 9 columns</p>\n",
                            "</div>"
                        ],
                        "text/plain": [
                            "      survived  pclass       age  sibsp     parch      fare  sex_male  \\\n",
                            "0          1.0     0.0  0.361142  0.000  0.000000  0.412503       0.0   \n",
                            "1          1.0     0.0  0.009395  0.125  0.222222  0.295806       1.0   \n",
                            "2          0.0     0.0  0.022924  0.125  0.222222  0.295806       0.0   \n",
                            "3          0.0     0.0  0.373669  0.125  0.222222  0.295806       1.0   \n",
                            "4          0.0     0.0  0.311036  0.125  0.222222  0.295806       0.0   \n",
                            "...        ...     ...       ...    ...       ...       ...       ...   \n",
                            "1304       0.0     1.0  0.179506  0.125  0.000000  0.028213       0.0   \n",
                            "1305       0.0     1.0  0.298509  0.125  0.000000  0.028213       0.0   \n",
                            "1306       0.0     1.0  0.329826  0.000  0.000000  0.014102       1.0   \n",
                            "1307       0.0     1.0  0.336089  0.000  0.000000  0.014102       1.0   \n",
                            "1308       0.0     1.0  0.361142  0.000  0.000000  0.015371       1.0   \n",
                            "\n",
                            "      embarked_Q  embarked_S  \n",
                            "0            0.0         1.0  \n",
                            "1            0.0         1.0  \n",
                            "2            0.0         1.0  \n",
                            "3            0.0         1.0  \n",
                            "4            0.0         1.0  \n",
                            "...          ...         ...  \n",
                            "1304         0.0         0.0  \n",
                            "1305         0.0         0.0  \n",
                            "1306         0.0         0.0  \n",
                            "1307         0.0         0.0  \n",
                            "1308         0.0         1.0  \n",
                            "\n",
                            "[1309 rows x 9 columns]"
                        ]
                    },
                    "execution_count": 152,
                    "metadata": {},
                    "output_type": "execute_result"
                }
            ],
            "source": [
                "#### preprocess the data\n",
                "from sklearn.model_selection import train_test_split\n",
                "from sklearn.impute import SimpleImputer\n",
                "from sklearn.preprocessing import OneHotEncoder\n",
                "from sklearn.preprocessing import MinMaxScaler\n",
                "\n",
                "imputer = SimpleImputer(strategy='most_frequent')\n",
                "imputer.fit(X)\n",
                "X = pd.DataFrame(imputer.transform(X), columns=X.columns)\n",
                "\n",
                "encoder = OneHotEncoder(sparse=False, drop='first')\n",
                "f_names = ['sex', 'embarked']\n",
                "encoder.fit(X[f_names])\n",
                "new_feats = encoder.transform(X[f_names])\n",
                "new_cols = pd.DataFrame(new_feats, dtype=int, columns=encoder.get_feature_names(f_names))\n",
                "new_df = pd.concat([X, new_cols], axis=1)    \n",
                "new_df.drop(f_names, axis=1, inplace=True)\n",
                "\n",
                "scaler = MinMaxScaler()\n",
                "scaler.fit(new_df)\n",
                "X = pd.DataFrame(scaler.transform(new_df), columns=new_df.columns)\n",
                "X"
            ]
        },
        {
            "cell_type": "markdown",
            "metadata": {},
            "source": [
                "## 2. Impact of class imballance. \n",
                "##### Now, you will `artificially` imbalance the dataset. From the original dataset, create different dataset with the following class representations (drop samples from one class): \n",
                "##### 1. 20% vs 80%\n",
                "##### 2. 30% vs 70%\n",
                "##### 3. 40% vs 60%\n",
                "\n",
                "## Split each data into train and test set as in the lab; train logistic regression model for each setting and report (PLOT) the accuracy, precision, and recall of each model"
            ]
        },
        {
            "cell_type": "code",
            "execution_count": 153,
            "metadata": {},
            "outputs": [
                {
                    "name": "stdout",
                    "output_type": "stream",
                    "text": [
                        "% of positive samples in whole data: 0.3819709702062643\n",
                        "% of negative samples in whole data: 0.6180290297937356\n"
                    ]
                }
            ],
            "source": [
                "### write your code here \n",
                "# find and print the proportion of positive samples in data\n",
                "l = len(y)\n",
                "possitive = sum(y == 1)/l\n",
                "print('% of positive samples in whole data:', possitive)\n",
                "print('% of negative samples in whole data:', 1 - possitive)"
            ]
        },
        {
            "cell_type": "code",
            "execution_count": 154,
            "metadata": {},
            "outputs": [],
            "source": [
                "pos_sample = X[X['survived'] == 1]\n",
                "neg_sample = X[X['survived'] == 0]\n",
                "\n",
                "sample_20 = pd.concat([pos_sample.sample(int(l*0.15)), neg_sample.sample(int(l*0.6))], axis=0)\n",
                "X = sample_20.loc[:, 'pclass':]\n",
                "y = sample_20.survived\n",
                "x_train_20, x_test_20, y_train_20, y_test_20 = train_test_split(X, y, test_size=0.3, stratify=y)\n",
                "\n",
                "sample_30 = pd.concat([pos_sample.sample(int(l*0.24)), neg_sample.sample(int(l*0.56))], axis=0)\n",
                "X = sample_30.loc[:, 'pclass':]\n",
                "y = sample_30.survived\n",
                "x_train_30, x_test_30, y_train_30, y_test_30 = train_test_split(X, y, test_size=0.3, stratify=y)\n",
                "\n",
                "sample_40 = pd.concat([pos_sample.sample(int(l*0.32)), neg_sample.sample(int(l*0.48))], axis=0)\n",
                "X = sample_40.loc[:, 'pclass':]\n",
                "y = sample_40.survived\n",
                "x_train_40, x_test_40, y_train_40, y_test_40 = train_test_split(X, y, test_size=0.3, stratify=y)"
            ]
        },
        {
            "cell_type": "code",
            "execution_count": 155,
            "metadata": {},
            "outputs": [],
            "source": [
                "from sklearn.linear_model import LogisticRegression\n",
                "from sklearn.metrics import accuracy_score, precision_score, recall_score\n",
                "from sklearn import metrics"
            ]
        },
        {
            "cell_type": "markdown",
            "metadata": {},
            "source": [
                "20% and 80%"
            ]
        },
        {
            "cell_type": "code",
            "execution_count": 156,
            "metadata": {},
            "outputs": [
                {
                    "name": "stdout",
                    "output_type": "stream",
                    "text": [
                        "0.8779661016949153\n",
                        "0.896551724137931\n",
                        "0.4406779661016949\n"
                    ]
                }
            ],
            "source": [
                "acc, prec, recall = [], [], []\n",
                "\n",
                "\n",
                "clf = LogisticRegression()\n",
                "clf.fit(x_train_20, y_train_20)\n",
                "\n",
                "y_pred_20 = clf.predict(x_test_20)\n",
                "\n",
                "acc.append(accuracy_score(y_test_20, y_pred_20))\n",
                "prec.append(precision_score(y_test_20, y_pred_20))\n",
                "recall.append(recall_score(y_test_20, y_pred_20))\n",
                "\n",
                "print(accuracy_score(y_test_20, y_pred_20))\n",
                "print(precision_score(y_test_20, y_pred_20))\n",
                "print(recall_score(y_test_20, y_pred_20))"
            ]
        },
        {
            "cell_type": "code",
            "execution_count": 157,
            "metadata": {},
            "outputs": [
                {
                    "name": "stdout",
                    "output_type": "stream",
                    "text": [
                        "0.7777777777777778\n",
                        "0.6395348837209303\n",
                        "0.5851063829787234\n"
                    ]
                }
            ],
            "source": [
                "clf.fit(x_train_30, y_train_30)\n",
                "\n",
                "y_pred_30 = clf.predict(x_test_30)\n",
                "\n",
                "acc.append(accuracy_score(y_test_30, y_pred_30))\n",
                "prec.append(precision_score(y_test_30, y_pred_30))\n",
                "recall.append(recall_score(y_test_30, y_pred_30))\n",
                "\n",
                "print(accuracy_score(y_test_30, y_pred_30))\n",
                "print(precision_score(y_test_30, y_pred_30))\n",
                "print(recall_score(y_test_30, y_pred_30))"
            ]
        },
        {
            "cell_type": "code",
            "execution_count": 158,
            "metadata": {},
            "outputs": [
                {
                    "name": "stdout",
                    "output_type": "stream",
                    "text": [
                        "0.7707006369426752\n",
                        "0.7154471544715447\n",
                        "0.704\n"
                    ]
                }
            ],
            "source": [
                "clf.fit(x_train_40, y_train_40)\n",
                "\n",
                "y_pred_40 = clf.predict(x_test_40)\n",
                "\n",
                "acc.append(accuracy_score(y_test_40, y_pred_40))\n",
                "prec.append(precision_score(y_test_40, y_pred_40))\n",
                "recall.append(recall_score(y_test_40, y_pred_40))\n",
                "\n",
                "print(accuracy_score(y_test_40, y_pred_40))\n",
                "print(precision_score(y_test_40, y_pred_40))\n",
                "print(recall_score(y_test_40, y_pred_40))"
            ]
        },
        {
            "cell_type": "code",
            "execution_count": 161,
            "metadata": {},
            "outputs": [
                {
                    "data": {
                        "text/plain": [
                            "<matplotlib.legend.Legend at 0x7fb127fedd60>"
                        ]
                    },
                    "execution_count": 161,
                    "metadata": {},
                    "output_type": "execute_result"
                },
                {
                    "data": {
                        "image/png": "[encoded data removed]",
                        "text/plain": [
                            "<Figure size 640x480 with 1 Axes>"
                        ]
                    },
                    "metadata": {},
                    "output_type": "display_data"
                }
            ],
            "source": [
                "X_plt = ['20/80', '30/70', '40/60']\n",
                "\n",
                "plt.plot(X_plt, acc, label = 'accuracy')  \n",
                "plt.plot(X_plt, prec, label = 'precision')   \n",
                "plt.plot(X_plt, recall, label = 'recall')\n",
                "plt.legend()"
            ]
        },
        {
            "cell_type": "markdown",
            "metadata": {},
            "source": [
                "## 3. Analyse the class-wise accuracy. \n",
                "#### For each model, plot (bar plots) the class-wise accuracy, i.e., the accuracy for each class."
            ]
        },
        {
            "cell_type": "code",
            "execution_count": 162,
            "metadata": {},
            "outputs": [
                {
                    "data": {
                        "text/plain": [
                            "<function matplotlib.pyplot.show(close=None, block=None)>"
                        ]
                    },
                    "execution_count": 162,
                    "metadata": {},
                    "output_type": "execute_result"
                },
                {
                    "data": {
                        "image/png": "[encoded data removed]",
                        "text/plain": [
                            "<Figure size 640x480 with 1 Axes>"
                        ]
                    },
                    "metadata": {},
                    "output_type": "display_data"
                }
            ],
            "source": [
                "#### write your code\n",
                "plt.bar(X_plt, acc)\n",
                "plt.show"
            ]
        },
        {
            "cell_type": "markdown",
            "metadata": {},
            "source": [
                "## 4. Report \n",
                "### Write a small report (few sentences) to discuss from your analysis, the impact of class imballance on logistic model's performance "
            ]
        },
        {
            "cell_type": "markdown",
            "metadata": {},
            "source": [
                "`In this problem prediction is biased to majority class. Therefore, the accuracy on 20/80 sample is very good. But in this case accuracy is a bad evaluation metric.`"
            ]
        }
    ],
    "metadata": {
        "kernelspec": {
            "display_name": "Python 3.8.10 64-bit",
            "language": "python",
            "name": "python3"
        },
        "language_info": {
            "codemirror_mode": {
                "name": "ipython",
                "version": 3
            },
            "file_extension": ".py",
            "mimetype": "text/x-python",
            "name": "python",
            "nbconvert_exporter": "python",
            "pygments_lexer": "ipython3",
            "version": "3.8.10"
        },
        "orig_nbformat": 4,
        "vscode": {
            "interpreter": {
                "hash": "916dbcbb3f70747c44a77c7bcd40155683ae19c65e1c03b4aa3499c5328201f1"
            }
        }
    },
    "nbformat": 4,
    "nbformat_minor": 2
}
